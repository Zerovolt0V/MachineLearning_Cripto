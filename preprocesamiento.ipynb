{
 "cells": [
  {
   "cell_type": "markdown",
   "id": "d23efeb3",
   "metadata": {},
   "source": [
    "DE donde son las localizaciones\n"
   ]
  },
  {
   "cell_type": "markdown",
   "id": "4251b5aa",
   "metadata": {},
   "source": [
    "Primero todo manual luego nos alocamos con el GAN robado"
   ]
  },
  {
   "cell_type": "markdown",
   "id": "a8aa8e2c",
   "metadata": {},
   "source": [
    "Teniendo en cuenta que hay datos atipicos presentes y que no nos podemos deshacer de ellos. Usaremos escaladores robustos o transformadores [Sklearn-Doc](https://qu4nt.github.io/sklearn-doc-es/modules/preprocessing.html) "
   ]
  },
  {
   "cell_type": "code",
   "execution_count": 32,
   "id": "2fbcab98",
   "metadata": {},
   "outputs": [],
   "source": [
    "import pandas as pd\n",
    "import sklearn\n",
    "import matplotlib.pyplot as plt\n",
    "import seaborn as sns\n",
    "import numpy as np"
   ]
  },
  {
   "cell_type": "code",
   "execution_count": 33,
   "id": "604f119a",
   "metadata": {},
   "outputs": [
    {
     "name": "stdout",
     "output_type": "stream",
     "text": [
      "(10000, 11)\n"
     ]
    },
    {
     "data": {
      "application/vnd.microsoft.datawrangler.viewer.v0+json": {
       "columns": [
        {
         "name": "index",
         "rawType": "int64",
         "type": "integer"
        },
        {
         "name": "TransactionID",
         "rawType": "int64",
         "type": "integer"
        },
        {
         "name": "Time",
         "rawType": "object",
         "type": "string"
        },
        {
         "name": "Amount",
         "rawType": "float64",
         "type": "float"
        },
        {
         "name": "CardholderName",
         "rawType": "object",
         "type": "string"
        },
        {
         "name": "MerchantName",
         "rawType": "object",
         "type": "string"
        },
        {
         "name": "MCC",
         "rawType": "int64",
         "type": "integer"
        },
        {
         "name": "Location",
         "rawType": "object",
         "type": "string"
        },
        {
         "name": "Device",
         "rawType": "object",
         "type": "string"
        },
        {
         "name": "IPAddress",
         "rawType": "object",
         "type": "string"
        },
        {
         "name": "TransactionSpeed",
         "rawType": "float64",
         "type": "float"
        },
        {
         "name": "Fraud",
         "rawType": "int64",
         "type": "integer"
        }
       ],
       "conversionMethod": "pd.DataFrame",
       "ref": "76ffd6ac-3a1e-4c2c-aef0-c8caa7b1263a",
       "rows": [
        [
         "0",
         "1",
         "2025-03-09 06:23:57",
         "83.54",
         "Sarah Murray",
         "Oconnor-Hughes",
         "5411",
         "Longtown",
         "Android",
         "102.247.49.50",
         "38.17",
         "0"
        ],
        [
         "1",
         "2",
         "2025-02-14 05:17:36",
         "805.88",
         "Alexander Brooks",
         "Reed PLC",
         "5261",
         "Woodsland",
         "POS",
         "153.157.50.7",
         "49.84",
         "0"
        ],
        [
         "2",
         "3",
         "2024-05-03 15:28:52",
         "450.49",
         "Harold Perez",
         "Berry LLC",
         "5261",
         "Jessicatown",
         "iOS",
         "151.174.154.123",
         "48.79",
         "0"
        ],
        [
         "3",
         "4",
         "2024-05-03 09:01:14",
         "782.39",
         "Rebecca Davis",
         "Berg Inc",
         "5968",
         "North Krystalburgh",
         "Android",
         "130.70.79.149",
         "8.71",
         "0"
        ],
        [
         "4",
         "5",
         "2025-04-24 17:24:39",
         "713.02",
         "Lauren Benson DDS",
         "King-Gaines",
         "5968",
         "East Danielletown",
         "Android",
         "195.136.16.190",
         "17.16",
         "0"
        ]
       ],
       "shape": {
        "columns": 11,
        "rows": 5
       }
      },
      "text/html": [
       "<div>\n",
       "<style scoped>\n",
       "    .dataframe tbody tr th:only-of-type {\n",
       "        vertical-align: middle;\n",
       "    }\n",
       "\n",
       "    .dataframe tbody tr th {\n",
       "        vertical-align: top;\n",
       "    }\n",
       "\n",
       "    .dataframe thead th {\n",
       "        text-align: right;\n",
       "    }\n",
       "</style>\n",
       "<table border=\"1\" class=\"dataframe\">\n",
       "  <thead>\n",
       "    <tr style=\"text-align: right;\">\n",
       "      <th></th>\n",
       "      <th>TransactionID</th>\n",
       "      <th>Time</th>\n",
       "      <th>Amount</th>\n",
       "      <th>CardholderName</th>\n",
       "      <th>MerchantName</th>\n",
       "      <th>MCC</th>\n",
       "      <th>Location</th>\n",
       "      <th>Device</th>\n",
       "      <th>IPAddress</th>\n",
       "      <th>TransactionSpeed</th>\n",
       "      <th>Fraud</th>\n",
       "    </tr>\n",
       "  </thead>\n",
       "  <tbody>\n",
       "    <tr>\n",
       "      <th>0</th>\n",
       "      <td>1</td>\n",
       "      <td>2025-03-09 06:23:57</td>\n",
       "      <td>83.54</td>\n",
       "      <td>Sarah Murray</td>\n",
       "      <td>Oconnor-Hughes</td>\n",
       "      <td>5411</td>\n",
       "      <td>Longtown</td>\n",
       "      <td>Android</td>\n",
       "      <td>102.247.49.50</td>\n",
       "      <td>38.17</td>\n",
       "      <td>0</td>\n",
       "    </tr>\n",
       "    <tr>\n",
       "      <th>1</th>\n",
       "      <td>2</td>\n",
       "      <td>2025-02-14 05:17:36</td>\n",
       "      <td>805.88</td>\n",
       "      <td>Alexander Brooks</td>\n",
       "      <td>Reed PLC</td>\n",
       "      <td>5261</td>\n",
       "      <td>Woodsland</td>\n",
       "      <td>POS</td>\n",
       "      <td>153.157.50.7</td>\n",
       "      <td>49.84</td>\n",
       "      <td>0</td>\n",
       "    </tr>\n",
       "    <tr>\n",
       "      <th>2</th>\n",
       "      <td>3</td>\n",
       "      <td>2024-05-03 15:28:52</td>\n",
       "      <td>450.49</td>\n",
       "      <td>Harold Perez</td>\n",
       "      <td>Berry LLC</td>\n",
       "      <td>5261</td>\n",
       "      <td>Jessicatown</td>\n",
       "      <td>iOS</td>\n",
       "      <td>151.174.154.123</td>\n",
       "      <td>48.79</td>\n",
       "      <td>0</td>\n",
       "    </tr>\n",
       "    <tr>\n",
       "      <th>3</th>\n",
       "      <td>4</td>\n",
       "      <td>2024-05-03 09:01:14</td>\n",
       "      <td>782.39</td>\n",
       "      <td>Rebecca Davis</td>\n",
       "      <td>Berg Inc</td>\n",
       "      <td>5968</td>\n",
       "      <td>North Krystalburgh</td>\n",
       "      <td>Android</td>\n",
       "      <td>130.70.79.149</td>\n",
       "      <td>8.71</td>\n",
       "      <td>0</td>\n",
       "    </tr>\n",
       "    <tr>\n",
       "      <th>4</th>\n",
       "      <td>5</td>\n",
       "      <td>2025-04-24 17:24:39</td>\n",
       "      <td>713.02</td>\n",
       "      <td>Lauren Benson DDS</td>\n",
       "      <td>King-Gaines</td>\n",
       "      <td>5968</td>\n",
       "      <td>East Danielletown</td>\n",
       "      <td>Android</td>\n",
       "      <td>195.136.16.190</td>\n",
       "      <td>17.16</td>\n",
       "      <td>0</td>\n",
       "    </tr>\n",
       "  </tbody>\n",
       "</table>\n",
       "</div>"
      ],
      "text/plain": [
       "   TransactionID                 Time  Amount     CardholderName  \\\n",
       "0              1  2025-03-09 06:23:57   83.54       Sarah Murray   \n",
       "1              2  2025-02-14 05:17:36  805.88   Alexander Brooks   \n",
       "2              3  2024-05-03 15:28:52  450.49       Harold Perez   \n",
       "3              4  2024-05-03 09:01:14  782.39      Rebecca Davis   \n",
       "4              5  2025-04-24 17:24:39  713.02  Lauren Benson DDS   \n",
       "\n",
       "     MerchantName   MCC            Location   Device        IPAddress  \\\n",
       "0  Oconnor-Hughes  5411            Longtown  Android    102.247.49.50   \n",
       "1        Reed PLC  5261           Woodsland      POS     153.157.50.7   \n",
       "2       Berry LLC  5261         Jessicatown      iOS  151.174.154.123   \n",
       "3        Berg Inc  5968  North Krystalburgh  Android    130.70.79.149   \n",
       "4     King-Gaines  5968   East Danielletown  Android   195.136.16.190   \n",
       "\n",
       "   TransactionSpeed  Fraud  \n",
       "0             38.17      0  \n",
       "1             49.84      0  \n",
       "2             48.79      0  \n",
       "3              8.71      0  \n",
       "4             17.16      0  "
      ]
     },
     "execution_count": 33,
     "metadata": {},
     "output_type": "execute_result"
    }
   ],
   "source": [
    "df = pd.read_csv('./data/credit_card_transactions.csv', encoding='latin1') \n",
    "print(df.shape)\n",
    "df.head()\n"
   ]
  },
  {
   "cell_type": "code",
   "execution_count": 34,
   "id": "74fd547e",
   "metadata": {},
   "outputs": [
    {
     "data": {
      "application/vnd.microsoft.datawrangler.viewer.v0+json": {
       "columns": [
        {
         "name": "index",
         "rawType": "int64",
         "type": "integer"
        },
        {
         "name": "Amount",
         "rawType": "float64",
         "type": "float"
        },
        {
         "name": "MCC",
         "rawType": "int64",
         "type": "integer"
        },
        {
         "name": "Device",
         "rawType": "object",
         "type": "string"
        },
        {
         "name": "TransactionSpeed",
         "rawType": "float64",
         "type": "float"
        },
        {
         "name": "Fraud",
         "rawType": "int64",
         "type": "integer"
        }
       ],
       "conversionMethod": "pd.DataFrame",
       "ref": "0fd7ff59-1335-4318-a41f-6de34d6840ba",
       "rows": [
        [
         "0",
         "83.54",
         "5411",
         "Android",
         "38.17",
         "0"
        ],
        [
         "1",
         "805.88",
         "5261",
         "POS",
         "49.84",
         "0"
        ],
        [
         "2",
         "450.49",
         "5261",
         "iOS",
         "48.79",
         "0"
        ],
        [
         "3",
         "782.39",
         "5968",
         "Android",
         "8.71",
         "0"
        ],
        [
         "4",
         "713.02",
         "5968",
         "Android",
         "17.16",
         "0"
        ],
        [
         "5",
         "305.35",
         "5411",
         "POS",
         "55.36",
         "0"
        ],
        [
         "6",
         "256.63",
         "5968",
         "Web",
         "51.43",
         "0"
        ],
        [
         "7",
         "312.03",
         "5968",
         "Web",
         "57.95",
         "0"
        ],
        [
         "8",
         "1381.9",
         "5968",
         "Android",
         "119.08",
         "1"
        ],
        [
         "9",
         "885.49",
         "5812",
         "POS",
         "1.83",
         "0"
        ],
        [
         "10",
         "897.68",
         "5261",
         "Android",
         "28.78",
         "0"
        ],
        [
         "11",
         "910.15",
         "5968",
         "Web",
         "54.11",
         "0"
        ],
        [
         "12",
         "853.05",
         "5261",
         "Android",
         "5.94",
         "0"
        ],
        [
         "13",
         "662.66",
         "5261",
         "Web",
         "28.29",
         "0"
        ],
        [
         "14",
         "34.87",
         "5968",
         "POS",
         "20.5",
         "0"
        ],
        [
         "15",
         "170.8",
         "5942",
         "Android",
         "53.28",
         "0"
        ],
        [
         "16",
         "884.47",
         "5968",
         "POS",
         "53.76",
         "0"
        ],
        [
         "17",
         "619.54",
         "7299",
         "Web",
         "28.4",
         "0"
        ],
        [
         "18",
         "52.12",
         "5942",
         "iOS",
         "32.26",
         "0"
        ],
        [
         "19",
         "321.98",
         "5942",
         "iOS",
         "7.7",
         "0"
        ],
        [
         "20",
         "881.14",
         "5411",
         "Web",
         "12.17",
         "0"
        ],
        [
         "21",
         "327.93",
         "5968",
         "POS",
         "11.57",
         "0"
        ],
        [
         "22",
         "995.66",
         "5968",
         "Android",
         "47.16",
         "0"
        ],
        [
         "23",
         "965.42",
         "5261",
         "POS",
         "57.39",
         "0"
        ],
        [
         "24",
         "751.94",
         "5261",
         "Web",
         "15.88",
         "0"
        ],
        [
         "25",
         "431.81",
         "5812",
         "Android",
         "11.98",
         "0"
        ],
        [
         "26",
         "580.73",
         "5411",
         "Android",
         "12.55",
         "0"
        ],
        [
         "27",
         "370.4",
         "5411",
         "POS",
         "22.72",
         "0"
        ],
        [
         "28",
         "328.32",
         "5812",
         "POS",
         "20.16",
         "0"
        ],
        [
         "29",
         "211.44",
         "5261",
         "POS",
         "36.28",
         "0"
        ],
        [
         "30",
         "128.67",
         "5812",
         "POS",
         "6.01",
         "0"
        ],
        [
         "31",
         "752.8",
         "5411",
         "Web",
         "10.2",
         "0"
        ],
        [
         "32",
         "397.09",
         "5261",
         "POS",
         "3.72",
         "0"
        ],
        [
         "33",
         "792.22",
         "5411",
         "POS",
         "20.53",
         "0"
        ],
        [
         "34",
         "135.55",
         "5411",
         "iOS",
         "11.54",
         "0"
        ],
        [
         "35",
         "374.9",
         "5812",
         "Android",
         "48.67",
         "0"
        ],
        [
         "36",
         "831.3",
         "5261",
         "POS",
         "57.38",
         "0"
        ],
        [
         "37",
         "510.68",
         "5411",
         "Web",
         "39.12",
         "0"
        ],
        [
         "38",
         "788.39",
         "5261",
         "iOS",
         "20.35",
         "0"
        ],
        [
         "39",
         "120.22",
         "5261",
         "POS",
         "9.17",
         "0"
        ],
        [
         "40",
         "941.75",
         "7299",
         "Android",
         "22.48",
         "0"
        ],
        [
         "41",
         "401.87",
         "5968",
         "Android",
         "58.15",
         "0"
        ],
        [
         "42",
         "504.12",
         "5411",
         "iOS",
         "33.77",
         "0"
        ],
        [
         "43",
         "414.48",
         "5968",
         "Web",
         "57.07",
         "0"
        ],
        [
         "44",
         "714.0",
         "5261",
         "Android",
         "30.06",
         "0"
        ],
        [
         "45",
         "295.61",
         "7299",
         "POS",
         "28.53",
         "0"
        ],
        [
         "46",
         "730.12",
         "5411",
         "POS",
         "50.28",
         "0"
        ],
        [
         "47",
         "129.24",
         "5411",
         "Android",
         "3.22",
         "0"
        ],
        [
         "48",
         "654.95",
         "5812",
         "POS",
         "6.57",
         "0"
        ],
        [
         "49",
         "981.72",
         "5968",
         "iOS",
         "3.62",
         "0"
        ]
       ],
       "shape": {
        "columns": 5,
        "rows": 10000
       }
      },
      "text/html": [
       "<div>\n",
       "<style scoped>\n",
       "    .dataframe tbody tr th:only-of-type {\n",
       "        vertical-align: middle;\n",
       "    }\n",
       "\n",
       "    .dataframe tbody tr th {\n",
       "        vertical-align: top;\n",
       "    }\n",
       "\n",
       "    .dataframe thead th {\n",
       "        text-align: right;\n",
       "    }\n",
       "</style>\n",
       "<table border=\"1\" class=\"dataframe\">\n",
       "  <thead>\n",
       "    <tr style=\"text-align: right;\">\n",
       "      <th></th>\n",
       "      <th>Amount</th>\n",
       "      <th>MCC</th>\n",
       "      <th>Device</th>\n",
       "      <th>TransactionSpeed</th>\n",
       "      <th>Fraud</th>\n",
       "    </tr>\n",
       "  </thead>\n",
       "  <tbody>\n",
       "    <tr>\n",
       "      <th>0</th>\n",
       "      <td>83.54</td>\n",
       "      <td>5411</td>\n",
       "      <td>Android</td>\n",
       "      <td>38.17</td>\n",
       "      <td>0</td>\n",
       "    </tr>\n",
       "    <tr>\n",
       "      <th>1</th>\n",
       "      <td>805.88</td>\n",
       "      <td>5261</td>\n",
       "      <td>POS</td>\n",
       "      <td>49.84</td>\n",
       "      <td>0</td>\n",
       "    </tr>\n",
       "    <tr>\n",
       "      <th>2</th>\n",
       "      <td>450.49</td>\n",
       "      <td>5261</td>\n",
       "      <td>iOS</td>\n",
       "      <td>48.79</td>\n",
       "      <td>0</td>\n",
       "    </tr>\n",
       "    <tr>\n",
       "      <th>3</th>\n",
       "      <td>782.39</td>\n",
       "      <td>5968</td>\n",
       "      <td>Android</td>\n",
       "      <td>8.71</td>\n",
       "      <td>0</td>\n",
       "    </tr>\n",
       "    <tr>\n",
       "      <th>4</th>\n",
       "      <td>713.02</td>\n",
       "      <td>5968</td>\n",
       "      <td>Android</td>\n",
       "      <td>17.16</td>\n",
       "      <td>0</td>\n",
       "    </tr>\n",
       "    <tr>\n",
       "      <th>...</th>\n",
       "      <td>...</td>\n",
       "      <td>...</td>\n",
       "      <td>...</td>\n",
       "      <td>...</td>\n",
       "      <td>...</td>\n",
       "    </tr>\n",
       "    <tr>\n",
       "      <th>9995</th>\n",
       "      <td>659.56</td>\n",
       "      <td>5261</td>\n",
       "      <td>iOS</td>\n",
       "      <td>1.25</td>\n",
       "      <td>0</td>\n",
       "    </tr>\n",
       "    <tr>\n",
       "      <th>9996</th>\n",
       "      <td>290.46</td>\n",
       "      <td>5968</td>\n",
       "      <td>Android</td>\n",
       "      <td>11.04</td>\n",
       "      <td>0</td>\n",
       "    </tr>\n",
       "    <tr>\n",
       "      <th>9997</th>\n",
       "      <td>337.55</td>\n",
       "      <td>5812</td>\n",
       "      <td>iOS</td>\n",
       "      <td>27.00</td>\n",
       "      <td>0</td>\n",
       "    </tr>\n",
       "    <tr>\n",
       "      <th>9998</th>\n",
       "      <td>322.15</td>\n",
       "      <td>7299</td>\n",
       "      <td>iOS</td>\n",
       "      <td>3.26</td>\n",
       "      <td>0</td>\n",
       "    </tr>\n",
       "    <tr>\n",
       "      <th>9999</th>\n",
       "      <td>809.15</td>\n",
       "      <td>5968</td>\n",
       "      <td>Web</td>\n",
       "      <td>56.20</td>\n",
       "      <td>0</td>\n",
       "    </tr>\n",
       "  </tbody>\n",
       "</table>\n",
       "<p>10000 rows × 5 columns</p>\n",
       "</div>"
      ],
      "text/plain": [
       "      Amount   MCC   Device  TransactionSpeed  Fraud\n",
       "0      83.54  5411  Android             38.17      0\n",
       "1     805.88  5261      POS             49.84      0\n",
       "2     450.49  5261      iOS             48.79      0\n",
       "3     782.39  5968  Android              8.71      0\n",
       "4     713.02  5968  Android             17.16      0\n",
       "...      ...   ...      ...               ...    ...\n",
       "9995  659.56  5261      iOS              1.25      0\n",
       "9996  290.46  5968  Android             11.04      0\n",
       "9997  337.55  5812      iOS             27.00      0\n",
       "9998  322.15  7299      iOS              3.26      0\n",
       "9999  809.15  5968      Web             56.20      0\n",
       "\n",
       "[10000 rows x 5 columns]"
      ]
     },
     "execution_count": 34,
     "metadata": {},
     "output_type": "execute_result"
    }
   ],
   "source": [
    "df['Time'] = pd.to_datetime(df['Time'])\n",
    "col_exclude = ['Time', 'CardholderName', 'MerchantName', 'Location', 'IPAddress', 'TransactionID']\n",
    "df.drop(columns=col_exclude, inplace=True)\n",
    "df\n",
    "\n",
    "df"
   ]
  },
  {
   "cell_type": "code",
   "execution_count": 35,
   "id": "115246cb",
   "metadata": {},
   "outputs": [],
   "source": [
    "\n",
    "\n",
    "var_one_hot = ['Device', 'MCC']"
   ]
  },
  {
   "cell_type": "code",
   "execution_count": 36,
   "id": "81d93937",
   "metadata": {},
   "outputs": [
    {
     "data": {
      "text/plain": [
       "Amount              float64\n",
       "MCC                   int64\n",
       "Device               object\n",
       "TransactionSpeed    float64\n",
       "Fraud                 int64\n",
       "dtype: object"
      ]
     },
     "execution_count": 36,
     "metadata": {},
     "output_type": "execute_result"
    }
   ],
   "source": [
    "df.dtypes"
   ]
  },
  {
   "cell_type": "markdown",
   "id": "a7134f77",
   "metadata": {},
   "source": [
    "## Seleccion de caracteristicas relevantes"
   ]
  },
  {
   "cell_type": "markdown",
   "id": "88113c10",
   "metadata": {},
   "source": [
    "Se propone extraer caracterisitcas, de la variable Time, corresponiente a un a: `Month`,`Day`,`WeekDay`, `Hour`.   \n",
    "\n"
   ]
  },
  {
   "cell_type": "markdown",
   "id": "8b4d11b7",
   "metadata": {},
   "source": [
    "Como se dan las incidencias de cada una de las caracteristicas que quiero extraer. "
   ]
  },
  {
   "cell_type": "code",
   "execution_count": 37,
   "id": "ce265399",
   "metadata": {},
   "outputs": [
    {
     "data": {
      "application/vnd.microsoft.datawrangler.viewer.v0+json": {
       "columns": [
        {
         "name": "index",
         "rawType": "int64",
         "type": "integer"
        },
        {
         "name": "Amount",
         "rawType": "float64",
         "type": "float"
        },
        {
         "name": "MCC",
         "rawType": "int64",
         "type": "integer"
        },
        {
         "name": "Device",
         "rawType": "object",
         "type": "string"
        },
        {
         "name": "TransactionSpeed",
         "rawType": "float64",
         "type": "float"
        }
       ],
       "conversionMethod": "pd.DataFrame",
       "ref": "603d5db3-fe9b-4f58-bca7-06ac4f608950",
       "rows": [
        [
         "0",
         "83.54",
         "5411",
         "Android",
         "38.17"
        ],
        [
         "1",
         "805.88",
         "5261",
         "POS",
         "49.84"
        ],
        [
         "2",
         "450.49",
         "5261",
         "iOS",
         "48.79"
        ],
        [
         "3",
         "782.39",
         "5968",
         "Android",
         "8.71"
        ],
        [
         "4",
         "713.02",
         "5968",
         "Android",
         "17.16"
        ]
       ],
       "shape": {
        "columns": 4,
        "rows": 5
       }
      },
      "text/html": [
       "<div>\n",
       "<style scoped>\n",
       "    .dataframe tbody tr th:only-of-type {\n",
       "        vertical-align: middle;\n",
       "    }\n",
       "\n",
       "    .dataframe tbody tr th {\n",
       "        vertical-align: top;\n",
       "    }\n",
       "\n",
       "    .dataframe thead th {\n",
       "        text-align: right;\n",
       "    }\n",
       "</style>\n",
       "<table border=\"1\" class=\"dataframe\">\n",
       "  <thead>\n",
       "    <tr style=\"text-align: right;\">\n",
       "      <th></th>\n",
       "      <th>Amount</th>\n",
       "      <th>MCC</th>\n",
       "      <th>Device</th>\n",
       "      <th>TransactionSpeed</th>\n",
       "    </tr>\n",
       "  </thead>\n",
       "  <tbody>\n",
       "    <tr>\n",
       "      <th>0</th>\n",
       "      <td>83.54</td>\n",
       "      <td>5411</td>\n",
       "      <td>Android</td>\n",
       "      <td>38.17</td>\n",
       "    </tr>\n",
       "    <tr>\n",
       "      <th>1</th>\n",
       "      <td>805.88</td>\n",
       "      <td>5261</td>\n",
       "      <td>POS</td>\n",
       "      <td>49.84</td>\n",
       "    </tr>\n",
       "    <tr>\n",
       "      <th>2</th>\n",
       "      <td>450.49</td>\n",
       "      <td>5261</td>\n",
       "      <td>iOS</td>\n",
       "      <td>48.79</td>\n",
       "    </tr>\n",
       "    <tr>\n",
       "      <th>3</th>\n",
       "      <td>782.39</td>\n",
       "      <td>5968</td>\n",
       "      <td>Android</td>\n",
       "      <td>8.71</td>\n",
       "    </tr>\n",
       "    <tr>\n",
       "      <th>4</th>\n",
       "      <td>713.02</td>\n",
       "      <td>5968</td>\n",
       "      <td>Android</td>\n",
       "      <td>17.16</td>\n",
       "    </tr>\n",
       "  </tbody>\n",
       "</table>\n",
       "</div>"
      ],
      "text/plain": [
       "   Amount   MCC   Device  TransactionSpeed\n",
       "0   83.54  5411  Android             38.17\n",
       "1  805.88  5261      POS             49.84\n",
       "2  450.49  5261      iOS             48.79\n",
       "3  782.39  5968  Android              8.71\n",
       "4  713.02  5968  Android             17.16"
      ]
     },
     "execution_count": 37,
     "metadata": {},
     "output_type": "execute_result"
    }
   ],
   "source": [
    "# seleccionamos las caracteristicas relevantes para predicir la variable objetivo\n",
    "\n",
    "X = df.iloc[:,:-1]\n",
    "X.head()"
   ]
  },
  {
   "cell_type": "code",
   "execution_count": 38,
   "id": "7820bde2",
   "metadata": {},
   "outputs": [
    {
     "data": {
      "text/plain": [
       "count    10000.000000\n",
       "mean         0.019200\n",
       "std          0.137234\n",
       "min          0.000000\n",
       "25%          0.000000\n",
       "50%          0.000000\n",
       "75%          0.000000\n",
       "max          1.000000\n",
       "Name: Fraud, dtype: float64"
      ]
     },
     "execution_count": 38,
     "metadata": {},
     "output_type": "execute_result"
    }
   ],
   "source": [
    "\n",
    "Y = df.iloc[:,-1]\n",
    "Y.describe()"
   ]
  },
  {
   "cell_type": "markdown",
   "id": "abb82a37",
   "metadata": {},
   "source": [
    "## Codificación de variables categóricas (one-hot, label encoding)\n"
   ]
  },
  {
   "cell_type": "code",
   "execution_count": 39,
   "id": "a58379ce",
   "metadata": {},
   "outputs": [
    {
     "data": {
      "application/vnd.microsoft.datawrangler.viewer.v0+json": {
       "columns": [
        {
         "name": "index",
         "rawType": "int64",
         "type": "integer"
        },
        {
         "name": "Amount",
         "rawType": "float64",
         "type": "float"
        },
        {
         "name": "TransactionSpeed",
         "rawType": "float64",
         "type": "float"
        },
        {
         "name": "Device_POS",
         "rawType": "bool",
         "type": "boolean"
        },
        {
         "name": "Device_Web",
         "rawType": "bool",
         "type": "boolean"
        },
        {
         "name": "Device_iOS",
         "rawType": "bool",
         "type": "boolean"
        },
        {
         "name": "MCC_5411",
         "rawType": "bool",
         "type": "boolean"
        },
        {
         "name": "MCC_5812",
         "rawType": "bool",
         "type": "boolean"
        },
        {
         "name": "MCC_5942",
         "rawType": "bool",
         "type": "boolean"
        },
        {
         "name": "MCC_5968",
         "rawType": "bool",
         "type": "boolean"
        },
        {
         "name": "MCC_7299",
         "rawType": "bool",
         "type": "boolean"
        }
       ],
       "conversionMethod": "pd.DataFrame",
       "ref": "afe31d7d-a256-49d7-92dc-aaa57c367386",
       "rows": [
        [
         "0",
         "83.54",
         "38.17",
         "False",
         "False",
         "False",
         "True",
         "False",
         "False",
         "False",
         "False"
        ],
        [
         "1",
         "805.88",
         "49.84",
         "True",
         "False",
         "False",
         "False",
         "False",
         "False",
         "False",
         "False"
        ],
        [
         "2",
         "450.49",
         "48.79",
         "False",
         "False",
         "True",
         "False",
         "False",
         "False",
         "False",
         "False"
        ],
        [
         "3",
         "782.39",
         "8.71",
         "False",
         "False",
         "False",
         "False",
         "False",
         "False",
         "True",
         "False"
        ],
        [
         "4",
         "713.02",
         "17.16",
         "False",
         "False",
         "False",
         "False",
         "False",
         "False",
         "True",
         "False"
        ],
        [
         "5",
         "305.35",
         "55.36",
         "True",
         "False",
         "False",
         "True",
         "False",
         "False",
         "False",
         "False"
        ],
        [
         "6",
         "256.63",
         "51.43",
         "False",
         "True",
         "False",
         "False",
         "False",
         "False",
         "True",
         "False"
        ],
        [
         "7",
         "312.03",
         "57.95",
         "False",
         "True",
         "False",
         "False",
         "False",
         "False",
         "True",
         "False"
        ],
        [
         "8",
         "1381.9",
         "119.08",
         "False",
         "False",
         "False",
         "False",
         "False",
         "False",
         "True",
         "False"
        ],
        [
         "9",
         "885.49",
         "1.83",
         "True",
         "False",
         "False",
         "False",
         "True",
         "False",
         "False",
         "False"
        ],
        [
         "10",
         "897.68",
         "28.78",
         "False",
         "False",
         "False",
         "False",
         "False",
         "False",
         "False",
         "False"
        ],
        [
         "11",
         "910.15",
         "54.11",
         "False",
         "True",
         "False",
         "False",
         "False",
         "False",
         "True",
         "False"
        ],
        [
         "12",
         "853.05",
         "5.94",
         "False",
         "False",
         "False",
         "False",
         "False",
         "False",
         "False",
         "False"
        ],
        [
         "13",
         "662.66",
         "28.29",
         "False",
         "True",
         "False",
         "False",
         "False",
         "False",
         "False",
         "False"
        ],
        [
         "14",
         "34.87",
         "20.5",
         "True",
         "False",
         "False",
         "False",
         "False",
         "False",
         "True",
         "False"
        ],
        [
         "15",
         "170.8",
         "53.28",
         "False",
         "False",
         "False",
         "False",
         "False",
         "True",
         "False",
         "False"
        ],
        [
         "16",
         "884.47",
         "53.76",
         "True",
         "False",
         "False",
         "False",
         "False",
         "False",
         "True",
         "False"
        ],
        [
         "17",
         "619.54",
         "28.4",
         "False",
         "True",
         "False",
         "False",
         "False",
         "False",
         "False",
         "True"
        ],
        [
         "18",
         "52.12",
         "32.26",
         "False",
         "False",
         "True",
         "False",
         "False",
         "True",
         "False",
         "False"
        ],
        [
         "19",
         "321.98",
         "7.7",
         "False",
         "False",
         "True",
         "False",
         "False",
         "True",
         "False",
         "False"
        ],
        [
         "20",
         "881.14",
         "12.17",
         "False",
         "True",
         "False",
         "True",
         "False",
         "False",
         "False",
         "False"
        ],
        [
         "21",
         "327.93",
         "11.57",
         "True",
         "False",
         "False",
         "False",
         "False",
         "False",
         "True",
         "False"
        ],
        [
         "22",
         "995.66",
         "47.16",
         "False",
         "False",
         "False",
         "False",
         "False",
         "False",
         "True",
         "False"
        ],
        [
         "23",
         "965.42",
         "57.39",
         "True",
         "False",
         "False",
         "False",
         "False",
         "False",
         "False",
         "False"
        ],
        [
         "24",
         "751.94",
         "15.88",
         "False",
         "True",
         "False",
         "False",
         "False",
         "False",
         "False",
         "False"
        ],
        [
         "25",
         "431.81",
         "11.98",
         "False",
         "False",
         "False",
         "False",
         "True",
         "False",
         "False",
         "False"
        ],
        [
         "26",
         "580.73",
         "12.55",
         "False",
         "False",
         "False",
         "True",
         "False",
         "False",
         "False",
         "False"
        ],
        [
         "27",
         "370.4",
         "22.72",
         "True",
         "False",
         "False",
         "True",
         "False",
         "False",
         "False",
         "False"
        ],
        [
         "28",
         "328.32",
         "20.16",
         "True",
         "False",
         "False",
         "False",
         "True",
         "False",
         "False",
         "False"
        ],
        [
         "29",
         "211.44",
         "36.28",
         "True",
         "False",
         "False",
         "False",
         "False",
         "False",
         "False",
         "False"
        ],
        [
         "30",
         "128.67",
         "6.01",
         "True",
         "False",
         "False",
         "False",
         "True",
         "False",
         "False",
         "False"
        ],
        [
         "31",
         "752.8",
         "10.2",
         "False",
         "True",
         "False",
         "True",
         "False",
         "False",
         "False",
         "False"
        ],
        [
         "32",
         "397.09",
         "3.72",
         "True",
         "False",
         "False",
         "False",
         "False",
         "False",
         "False",
         "False"
        ],
        [
         "33",
         "792.22",
         "20.53",
         "True",
         "False",
         "False",
         "True",
         "False",
         "False",
         "False",
         "False"
        ],
        [
         "34",
         "135.55",
         "11.54",
         "False",
         "False",
         "True",
         "True",
         "False",
         "False",
         "False",
         "False"
        ],
        [
         "35",
         "374.9",
         "48.67",
         "False",
         "False",
         "False",
         "False",
         "True",
         "False",
         "False",
         "False"
        ],
        [
         "36",
         "831.3",
         "57.38",
         "True",
         "False",
         "False",
         "False",
         "False",
         "False",
         "False",
         "False"
        ],
        [
         "37",
         "510.68",
         "39.12",
         "False",
         "True",
         "False",
         "True",
         "False",
         "False",
         "False",
         "False"
        ],
        [
         "38",
         "788.39",
         "20.35",
         "False",
         "False",
         "True",
         "False",
         "False",
         "False",
         "False",
         "False"
        ],
        [
         "39",
         "120.22",
         "9.17",
         "True",
         "False",
         "False",
         "False",
         "False",
         "False",
         "False",
         "False"
        ],
        [
         "40",
         "941.75",
         "22.48",
         "False",
         "False",
         "False",
         "False",
         "False",
         "False",
         "False",
         "True"
        ],
        [
         "41",
         "401.87",
         "58.15",
         "False",
         "False",
         "False",
         "False",
         "False",
         "False",
         "True",
         "False"
        ],
        [
         "42",
         "504.12",
         "33.77",
         "False",
         "False",
         "True",
         "True",
         "False",
         "False",
         "False",
         "False"
        ],
        [
         "43",
         "414.48",
         "57.07",
         "False",
         "True",
         "False",
         "False",
         "False",
         "False",
         "True",
         "False"
        ],
        [
         "44",
         "714.0",
         "30.06",
         "False",
         "False",
         "False",
         "False",
         "False",
         "False",
         "False",
         "False"
        ],
        [
         "45",
         "295.61",
         "28.53",
         "True",
         "False",
         "False",
         "False",
         "False",
         "False",
         "False",
         "True"
        ],
        [
         "46",
         "730.12",
         "50.28",
         "True",
         "False",
         "False",
         "True",
         "False",
         "False",
         "False",
         "False"
        ],
        [
         "47",
         "129.24",
         "3.22",
         "False",
         "False",
         "False",
         "True",
         "False",
         "False",
         "False",
         "False"
        ],
        [
         "48",
         "654.95",
         "6.57",
         "True",
         "False",
         "False",
         "False",
         "True",
         "False",
         "False",
         "False"
        ],
        [
         "49",
         "981.72",
         "3.62",
         "False",
         "False",
         "True",
         "False",
         "False",
         "False",
         "True",
         "False"
        ]
       ],
       "shape": {
        "columns": 10,
        "rows": 10000
       }
      },
      "text/html": [
       "<div>\n",
       "<style scoped>\n",
       "    .dataframe tbody tr th:only-of-type {\n",
       "        vertical-align: middle;\n",
       "    }\n",
       "\n",
       "    .dataframe tbody tr th {\n",
       "        vertical-align: top;\n",
       "    }\n",
       "\n",
       "    .dataframe thead th {\n",
       "        text-align: right;\n",
       "    }\n",
       "</style>\n",
       "<table border=\"1\" class=\"dataframe\">\n",
       "  <thead>\n",
       "    <tr style=\"text-align: right;\">\n",
       "      <th></th>\n",
       "      <th>Amount</th>\n",
       "      <th>TransactionSpeed</th>\n",
       "      <th>Device_POS</th>\n",
       "      <th>Device_Web</th>\n",
       "      <th>Device_iOS</th>\n",
       "      <th>MCC_5411</th>\n",
       "      <th>MCC_5812</th>\n",
       "      <th>MCC_5942</th>\n",
       "      <th>MCC_5968</th>\n",
       "      <th>MCC_7299</th>\n",
       "    </tr>\n",
       "  </thead>\n",
       "  <tbody>\n",
       "    <tr>\n",
       "      <th>0</th>\n",
       "      <td>83.54</td>\n",
       "      <td>38.17</td>\n",
       "      <td>False</td>\n",
       "      <td>False</td>\n",
       "      <td>False</td>\n",
       "      <td>True</td>\n",
       "      <td>False</td>\n",
       "      <td>False</td>\n",
       "      <td>False</td>\n",
       "      <td>False</td>\n",
       "    </tr>\n",
       "    <tr>\n",
       "      <th>1</th>\n",
       "      <td>805.88</td>\n",
       "      <td>49.84</td>\n",
       "      <td>True</td>\n",
       "      <td>False</td>\n",
       "      <td>False</td>\n",
       "      <td>False</td>\n",
       "      <td>False</td>\n",
       "      <td>False</td>\n",
       "      <td>False</td>\n",
       "      <td>False</td>\n",
       "    </tr>\n",
       "    <tr>\n",
       "      <th>2</th>\n",
       "      <td>450.49</td>\n",
       "      <td>48.79</td>\n",
       "      <td>False</td>\n",
       "      <td>False</td>\n",
       "      <td>True</td>\n",
       "      <td>False</td>\n",
       "      <td>False</td>\n",
       "      <td>False</td>\n",
       "      <td>False</td>\n",
       "      <td>False</td>\n",
       "    </tr>\n",
       "    <tr>\n",
       "      <th>3</th>\n",
       "      <td>782.39</td>\n",
       "      <td>8.71</td>\n",
       "      <td>False</td>\n",
       "      <td>False</td>\n",
       "      <td>False</td>\n",
       "      <td>False</td>\n",
       "      <td>False</td>\n",
       "      <td>False</td>\n",
       "      <td>True</td>\n",
       "      <td>False</td>\n",
       "    </tr>\n",
       "    <tr>\n",
       "      <th>4</th>\n",
       "      <td>713.02</td>\n",
       "      <td>17.16</td>\n",
       "      <td>False</td>\n",
       "      <td>False</td>\n",
       "      <td>False</td>\n",
       "      <td>False</td>\n",
       "      <td>False</td>\n",
       "      <td>False</td>\n",
       "      <td>True</td>\n",
       "      <td>False</td>\n",
       "    </tr>\n",
       "    <tr>\n",
       "      <th>...</th>\n",
       "      <td>...</td>\n",
       "      <td>...</td>\n",
       "      <td>...</td>\n",
       "      <td>...</td>\n",
       "      <td>...</td>\n",
       "      <td>...</td>\n",
       "      <td>...</td>\n",
       "      <td>...</td>\n",
       "      <td>...</td>\n",
       "      <td>...</td>\n",
       "    </tr>\n",
       "    <tr>\n",
       "      <th>9995</th>\n",
       "      <td>659.56</td>\n",
       "      <td>1.25</td>\n",
       "      <td>False</td>\n",
       "      <td>False</td>\n",
       "      <td>True</td>\n",
       "      <td>False</td>\n",
       "      <td>False</td>\n",
       "      <td>False</td>\n",
       "      <td>False</td>\n",
       "      <td>False</td>\n",
       "    </tr>\n",
       "    <tr>\n",
       "      <th>9996</th>\n",
       "      <td>290.46</td>\n",
       "      <td>11.04</td>\n",
       "      <td>False</td>\n",
       "      <td>False</td>\n",
       "      <td>False</td>\n",
       "      <td>False</td>\n",
       "      <td>False</td>\n",
       "      <td>False</td>\n",
       "      <td>True</td>\n",
       "      <td>False</td>\n",
       "    </tr>\n",
       "    <tr>\n",
       "      <th>9997</th>\n",
       "      <td>337.55</td>\n",
       "      <td>27.00</td>\n",
       "      <td>False</td>\n",
       "      <td>False</td>\n",
       "      <td>True</td>\n",
       "      <td>False</td>\n",
       "      <td>True</td>\n",
       "      <td>False</td>\n",
       "      <td>False</td>\n",
       "      <td>False</td>\n",
       "    </tr>\n",
       "    <tr>\n",
       "      <th>9998</th>\n",
       "      <td>322.15</td>\n",
       "      <td>3.26</td>\n",
       "      <td>False</td>\n",
       "      <td>False</td>\n",
       "      <td>True</td>\n",
       "      <td>False</td>\n",
       "      <td>False</td>\n",
       "      <td>False</td>\n",
       "      <td>False</td>\n",
       "      <td>True</td>\n",
       "    </tr>\n",
       "    <tr>\n",
       "      <th>9999</th>\n",
       "      <td>809.15</td>\n",
       "      <td>56.20</td>\n",
       "      <td>False</td>\n",
       "      <td>True</td>\n",
       "      <td>False</td>\n",
       "      <td>False</td>\n",
       "      <td>False</td>\n",
       "      <td>False</td>\n",
       "      <td>True</td>\n",
       "      <td>False</td>\n",
       "    </tr>\n",
       "  </tbody>\n",
       "</table>\n",
       "<p>10000 rows × 10 columns</p>\n",
       "</div>"
      ],
      "text/plain": [
       "      Amount  TransactionSpeed  Device_POS  Device_Web  Device_iOS  MCC_5411  \\\n",
       "0      83.54             38.17       False       False       False      True   \n",
       "1     805.88             49.84        True       False       False     False   \n",
       "2     450.49             48.79       False       False        True     False   \n",
       "3     782.39              8.71       False       False       False     False   \n",
       "4     713.02             17.16       False       False       False     False   \n",
       "...      ...               ...         ...         ...         ...       ...   \n",
       "9995  659.56              1.25       False       False        True     False   \n",
       "9996  290.46             11.04       False       False       False     False   \n",
       "9997  337.55             27.00       False       False        True     False   \n",
       "9998  322.15              3.26       False       False        True     False   \n",
       "9999  809.15             56.20       False        True       False     False   \n",
       "\n",
       "      MCC_5812  MCC_5942  MCC_5968  MCC_7299  \n",
       "0        False     False     False     False  \n",
       "1        False     False     False     False  \n",
       "2        False     False     False     False  \n",
       "3        False     False      True     False  \n",
       "4        False     False      True     False  \n",
       "...        ...       ...       ...       ...  \n",
       "9995     False     False     False     False  \n",
       "9996     False     False      True     False  \n",
       "9997      True     False     False     False  \n",
       "9998     False     False     False      True  \n",
       "9999     False     False      True     False  \n",
       "\n",
       "[10000 rows x 10 columns]"
      ]
     },
     "execution_count": 39,
     "metadata": {},
     "output_type": "execute_result"
    }
   ],
   "source": [
    "# one-hot encoding\n",
    "X_one_hot = pd.get_dummies(X, columns=var_one_hot, drop_first=True)\n",
    "X_one_hot\n"
   ]
  },
  {
   "cell_type": "markdown",
   "id": "ea4908ba",
   "metadata": {},
   "source": [
    "Determinar si hay un orden jerarquico en MCC y aplicar label encoding de ser el caso"
   ]
  },
  {
   "cell_type": "markdown",
   "id": "110bf114",
   "metadata": {},
   "source": [
    "One-hot "
   ]
  },
  {
   "cell_type": "markdown",
   "id": "d721728e",
   "metadata": {},
   "source": [
    "## Normalización de variables numéricas (MinMaxScaler, StandardScaler)\n"
   ]
  },
  {
   "cell_type": "code",
   "execution_count": 40,
   "id": "2941a923",
   "metadata": {},
   "outputs": [],
   "source": [
    "from sklearn.preprocessing import StandardScaler\n",
    "\n",
    "#Normalizacion \n",
    "\n",
    "scaler = StandardScaler()\n",
    "normalized_X = scaler.fit_transform(X_one_hot)\n",
    "\n"
   ]
  },
  {
   "cell_type": "markdown",
   "id": "9665c059",
   "metadata": {},
   "source": [
    "## División del dataset: entrenamiento, validación y prueba (70-15-15)"
   ]
  },
  {
   "cell_type": "code",
   "execution_count": 41,
   "id": "d03a7e73",
   "metadata": {},
   "outputs": [
    {
     "name": "stdout",
     "output_type": "stream",
     "text": [
      "X_train: 0.7%, y_train: 7000\n",
      "X_val: 0.15%, y_val: 1500\n",
      "X_test: 0.15%, y_test: 1500\n"
     ]
    }
   ],
   "source": [
    "#- [ ] División del dataset: entrenamiento, validación y prueba (70-15-15)\n",
    "from sklearn.model_selection import train_test_split\n",
    "\n",
    "X_train, X_val, y_train, y_val = train_test_split(normalized_X, Y, test_size=0.15, random_state=42)\n",
    "X_train, X_test, y_train, y_test = train_test_split(X_train, y_train, test_size=(15/85), random_state=42)\n",
    "\n",
    "\n",
    "n = X_train.shape[0] + X_val.shape[0] + X_test.shape[0]\n",
    "print(f\"X_train: {X_train.shape[0]/n:2}%, y_train: {y_train.shape[0]}\")\n",
    "print(f\"X_val: {X_val.shape[0]/n:2}%, y_val: {y_val.shape[0]}\")\n",
    "print(f\"X_test: {X_test.shape[0]/n:2}%, y_test: {y_test.shape[0]}\")"
   ]
  },
  {
   "cell_type": "code",
   "execution_count": null,
   "id": "9b0d38de",
   "metadata": {},
   "outputs": [],
   "source": []
  },
  {
   "cell_type": "code",
   "execution_count": 42,
   "id": "2ee53f93",
   "metadata": {},
   "outputs": [],
   "source": [
    "# guardamos los datos\n",
    "X_train = pd.DataFrame(X_train, columns=X_one_hot.columns)\n",
    "X_val = pd.DataFrame(X_val, columns=X_one_hot.columns)\n",
    "X_test = pd.DataFrame(X_test, columns=X_one_hot.columns)\n",
    "\n",
    "Y_train = pd.Series(y_train, name='is_fraud')\n",
    "Y_val = pd.Series(y_val, name='is_fraud')\n",
    "Y_test = pd.Series(y_test, name='is_fraud')\n",
    "\n",
    "import os\n",
    "\n",
    "data_path = './data/processed/'\n",
    "\n",
    "if not os.path.exists(f'{data_path}'):\n",
    "    os.makedirs(f'{data_path}')\n",
    "\n",
    "X_train.to_csv(f'{data_path}/X_train.csv', index=False)\n",
    "X_val.to_csv(f'{data_path}/X_val.csv', index=False)\n",
    "X_test.to_csv(f'{data_path}/X_test.csv', index=False)\n",
    "Y_train.to_csv(f'{data_path}/Y_train.csv', index=False)\n",
    "Y_val.to_csv(f'{data_path}/Y_val.csv', index=False)\n",
    "Y_test.to_csv(f'{data_path}/Y_test.csv', index=False)"
   ]
  },
  {
   "cell_type": "markdown",
   "id": "659c8106",
   "metadata": {},
   "source": [
    "## Manejo del desbalance de clases (sobremuestreo, submuestreo, pesos de clase)\n",
    "\n",
    "posemos un submuestro de transacciones fraudulentas"
   ]
  },
  {
   "cell_type": "code",
   "execution_count": 43,
   "id": "ca458c18",
   "metadata": {},
   "outputs": [
    {
     "name": "stdout",
     "output_type": "stream",
     "text": [
      "Requirement already satisfied: imblearn in /home/rosewt-dell/Documentos/GitHub/MachineLearning_Cripto/.conda/lib/python3.11/site-packages (0.0)\n",
      "Requirement already satisfied: imbalanced-learn in /home/rosewt-dell/Documentos/GitHub/MachineLearning_Cripto/.conda/lib/python3.11/site-packages (from imblearn) (0.13.0)\n",
      "Requirement already satisfied: numpy<3,>=1.24.3 in /home/rosewt-dell/Documentos/GitHub/MachineLearning_Cripto/.conda/lib/python3.11/site-packages (from imbalanced-learn->imblearn) (2.2.5)\n",
      "Requirement already satisfied: scipy<2,>=1.10.1 in /home/rosewt-dell/Documentos/GitHub/MachineLearning_Cripto/.conda/lib/python3.11/site-packages (from imbalanced-learn->imblearn) (1.15.3)\n",
      "Requirement already satisfied: scikit-learn<2,>=1.3.2 in /home/rosewt-dell/Documentos/GitHub/MachineLearning_Cripto/.conda/lib/python3.11/site-packages (from imbalanced-learn->imblearn) (1.6.1)\n",
      "Requirement already satisfied: sklearn-compat<1,>=0.1 in /home/rosewt-dell/Documentos/GitHub/MachineLearning_Cripto/.conda/lib/python3.11/site-packages (from imbalanced-learn->imblearn) (0.1.3)\n",
      "Requirement already satisfied: joblib<2,>=1.1.1 in /home/rosewt-dell/Documentos/GitHub/MachineLearning_Cripto/.conda/lib/python3.11/site-packages (from imbalanced-learn->imblearn) (1.5.0)\n",
      "Requirement already satisfied: threadpoolctl<4,>=2.0.0 in /home/rosewt-dell/Documentos/GitHub/MachineLearning_Cripto/.conda/lib/python3.11/site-packages (from imbalanced-learn->imblearn) (3.6.0)\n",
      "Requirement already satisfied: imbalanced-learn in /home/rosewt-dell/Documentos/GitHub/MachineLearning_Cripto/.conda/lib/python3.11/site-packages (from imblearn) (0.13.0)\n",
      "Requirement already satisfied: numpy<3,>=1.24.3 in /home/rosewt-dell/Documentos/GitHub/MachineLearning_Cripto/.conda/lib/python3.11/site-packages (from imbalanced-learn->imblearn) (2.2.5)\n",
      "Requirement already satisfied: scipy<2,>=1.10.1 in /home/rosewt-dell/Documentos/GitHub/MachineLearning_Cripto/.conda/lib/python3.11/site-packages (from imbalanced-learn->imblearn) (1.15.3)\n",
      "Requirement already satisfied: scikit-learn<2,>=1.3.2 in /home/rosewt-dell/Documentos/GitHub/MachineLearning_Cripto/.conda/lib/python3.11/site-packages (from imbalanced-learn->imblearn) (1.6.1)\n",
      "Requirement already satisfied: sklearn-compat<1,>=0.1 in /home/rosewt-dell/Documentos/GitHub/MachineLearning_Cripto/.conda/lib/python3.11/site-packages (from imbalanced-learn->imblearn) (0.1.3)\n",
      "Requirement already satisfied: joblib<2,>=1.1.1 in /home/rosewt-dell/Documentos/GitHub/MachineLearning_Cripto/.conda/lib/python3.11/site-packages (from imbalanced-learn->imblearn) (1.5.0)\n",
      "Requirement already satisfied: threadpoolctl<4,>=2.0.0 in /home/rosewt-dell/Documentos/GitHub/MachineLearning_Cripto/.conda/lib/python3.11/site-packages (from imbalanced-learn->imblearn) (3.6.0)\n"
     ]
    }
   ],
   "source": [
    "!pip install imblearn"
   ]
  },
  {
   "cell_type": "code",
   "execution_count": null,
   "id": "77cee769",
   "metadata": {},
   "outputs": [
    {
     "name": "stdout",
     "output_type": "stream",
     "text": [
      "Antes del sobremuestreo: is_fraud\n",
      "0    6869\n",
      "1     131\n",
      "Name: count, dtype: int64\n",
      "Después del sobremuestreo: is_fraud\n",
      "0    6869\n",
      "1    6869\n",
      "Name: count, dtype: int64\n"
     ]
    }
   ],
   "source": [
    "from imblearn.over_sampling import SMOTE\n",
    "\n",
    "# Aplicar SMOTE al conjunto de entrenamiento\n",
    "smote = SMOTE(random_state=42)\n",
    "X_train_resampled, y_train_resampled = smote.fit_resample(X_train, Y_train)\n",
    "\n",
    "print(f\"Antes del sobremuestreo: {Y_train.value_counts()}\")\n",
    "print(f\"Después del sobremuestreo: {y_train_resampled.value_counts()}\")\n",
    "\n",
    "save = True\n",
    "\n",
    "if (save):\n",
    "    # guardamos los datos\n",
    "    X_train = pd.DataFrame(X_train, columns=X_one_hot.columns)\n",
    "    X_val = pd.DataFrame(X_val, columns=X_one_hot.columns)\n",
    "\n",
    "    Y_train = pd.Series(y_train, name='is_fraud')\n",
    "    Y_val = pd.Series(y_val, name='is_fraud')\n",
    "\n",
    "    import os\n",
    "\n",
    "    data_path = './data/processed/'\n",
    "\n",
    "    if not os.path.exists(f'{data_path}'):\n",
    "        os.makedirs(f'{data_path}')\n",
    "\n",
    "    X_train.to_csv(f'{data_path}/X_train.csv', index=False)\n",
    "    X_val.to_csv(f'{data_path}/X_val.csv', index=False)\n",
    "    X_test.to_csv(f'{data_path}/X_test.csv', index=False)\n",
    "    Y_train.to_csv(f'{data_path}/Y_train.csv', index=False)\n",
    "    Y_val.to_csv(f'{data_path}/Y_val.csv', index=False)\n",
    "    Y_test.to_csv(f'{data_path}/Y_test.csv', index=False)"
   ]
  },
  {
   "cell_type": "code",
   "execution_count": 45,
   "id": "f85285fc",
   "metadata": {},
   "outputs": [
    {
     "name": "stdout",
     "output_type": "stream",
     "text": [
      "Antes del submuestreo: is_fraud\n",
      "0    6869\n",
      "1     131\n",
      "Name: count, dtype: int64\n",
      "Después del submuestreo: is_fraud\n",
      "0    131\n",
      "1    131\n",
      "Name: count, dtype: int64\n"
     ]
    }
   ],
   "source": [
    "from imblearn.under_sampling import RandomUnderSampler\n",
    "\n",
    "# Aplicar submuestreo al conjunto de entrenamiento\n",
    "rus = RandomUnderSampler(random_state=42)\n",
    "X_train_resampled, y_train_resampled = rus.fit_resample(X_train, Y_train)\n",
    "\n",
    "print(f\"Antes del submuestreo: {Y_train.value_counts()}\")\n",
    "print(f\"Después del submuestreo: {y_train_resampled.value_counts()}\")\n",
    "\n"
   ]
  },
  {
   "cell_type": "code",
   "execution_count": 46,
   "id": "cad75cc9",
   "metadata": {},
   "outputs": [
    {
     "name": "stdout",
     "output_type": "stream",
     "text": [
      "Score del modelo: 1.0\n"
     ]
    }
   ],
   "source": [
    "\n",
    "from sklearn.ensemble import RandomForestClassifier\n",
    "\n",
    "# Entrenar un modelo con ajuste de pesos de clase\n",
    "model = RandomForestClassifier(class_weight='balanced', random_state=42)\n",
    "model.fit(X_train, Y_train)\n",
    "\n",
    "# Evaluar el modelo\n",
    "print(f\"Score del modelo: {model.score(X_val, Y_val)}\")\n"
   ]
  },
  {
   "cell_type": "code",
   "execution_count": 47,
   "id": "8be776bd",
   "metadata": {},
   "outputs": [
    {
     "name": "stdout",
     "output_type": "stream",
     "text": [
      "[[1466    0]\n",
      " [   0   34]]\n",
      "              precision    recall  f1-score   support\n",
      "\n",
      "           0       1.00      1.00      1.00      1466\n",
      "           1       1.00      1.00      1.00        34\n",
      "\n",
      "    accuracy                           1.00      1500\n",
      "   macro avg       1.00      1.00      1.00      1500\n",
      "weighted avg       1.00      1.00      1.00      1500\n",
      "\n"
     ]
    }
   ],
   "source": [
    "from sklearn.metrics import classification_report, confusion_matrix\n",
    "\n",
    "y_pred = model.predict(X_val)\n",
    "print(confusion_matrix(Y_val, y_pred))\n",
    "print(classification_report(Y_val, y_pred))"
   ]
  },
  {
   "cell_type": "code",
   "execution_count": 48,
   "id": "b6a3bde0",
   "metadata": {},
   "outputs": [
    {
     "name": "stdout",
     "output_type": "stream",
     "text": [
      "F1-scores en validación cruzada: [1. 1. 1. 1. 1.]\n",
      "F1-score promedio: 1.0\n"
     ]
    }
   ],
   "source": [
    "from sklearn.model_selection import cross_val_score\n",
    "\n",
    "scores = cross_val_score(model, normalized_X, Y, cv=5, scoring='f1')\n",
    "print(f\"F1-scores en validación cruzada: {scores}\")\n",
    "print(f\"F1-score promedio: {scores.mean()}\")"
   ]
  }
 ],
 "metadata": {
  "kernelspec": {
   "display_name": "Python 3",
   "language": "python",
   "name": "python3"
  },
  "language_info": {
   "codemirror_mode": {
    "name": "ipython",
    "version": 3
   },
   "file_extension": ".py",
   "mimetype": "text/x-python",
   "name": "python",
   "nbconvert_exporter": "python",
   "pygments_lexer": "ipython3",
   "version": "3.11.11"
  }
 },
 "nbformat": 4,
 "nbformat_minor": 5
}
