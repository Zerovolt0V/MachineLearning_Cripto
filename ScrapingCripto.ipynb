{
  "nbformat": 4,
  "nbformat_minor": 0,
  "metadata": {
    "colab": {
      "provenance": []
    },
    "kernelspec": {
      "name": "python3",
      "display_name": "Python 3"
    },
    "language_info": {
      "name": "python"
    }
  },
  "cells": [
    {
      "cell_type": "code",
      "source": [
        "# 1. INSTALACIONES\n",
        "!pip install pycoingecko requests pandas tqdm\n",
        "\n",
        "# 2. IMPORTACIONES\n",
        "from pycoingecko import CoinGeckoAPI\n",
        "import requests\n",
        "import pandas as pd\n",
        "import numpy as np\n",
        "import time\n",
        "from tqdm import tqdm"
      ],
      "metadata": {
        "colab": {
          "base_uri": "https://localhost:8080/"
        },
        "id": "lVpy145P_1Zc",
        "outputId": "09015f46-8e35-460c-ef6e-748eab8d319e"
      },
      "execution_count": 1,
      "outputs": [
        {
          "output_type": "stream",
          "name": "stdout",
          "text": [
            "Collecting pycoingecko\n",
            "  Downloading pycoingecko-3.2.0-py3-none-any.whl.metadata (16 kB)\n",
            "Requirement already satisfied: requests in /usr/local/lib/python3.11/dist-packages (2.32.3)\n",
            "Requirement already satisfied: pandas in /usr/local/lib/python3.11/dist-packages (2.2.2)\n",
            "Requirement already satisfied: tqdm in /usr/local/lib/python3.11/dist-packages (4.67.1)\n",
            "Requirement already satisfied: charset-normalizer<4,>=2 in /usr/local/lib/python3.11/dist-packages (from requests) (3.4.1)\n",
            "Requirement already satisfied: idna<4,>=2.5 in /usr/local/lib/python3.11/dist-packages (from requests) (3.10)\n",
            "Requirement already satisfied: urllib3<3,>=1.21.1 in /usr/local/lib/python3.11/dist-packages (from requests) (2.4.0)\n",
            "Requirement already satisfied: certifi>=2017.4.17 in /usr/local/lib/python3.11/dist-packages (from requests) (2025.4.26)\n",
            "Requirement already satisfied: numpy>=1.23.2 in /usr/local/lib/python3.11/dist-packages (from pandas) (2.0.2)\n",
            "Requirement already satisfied: python-dateutil>=2.8.2 in /usr/local/lib/python3.11/dist-packages (from pandas) (2.9.0.post0)\n",
            "Requirement already satisfied: pytz>=2020.1 in /usr/local/lib/python3.11/dist-packages (from pandas) (2025.2)\n",
            "Requirement already satisfied: tzdata>=2022.7 in /usr/local/lib/python3.11/dist-packages (from pandas) (2025.2)\n",
            "Requirement already satisfied: six>=1.5 in /usr/local/lib/python3.11/dist-packages (from python-dateutil>=2.8.2->pandas) (1.17.0)\n",
            "Downloading pycoingecko-3.2.0-py3-none-any.whl (10 kB)\n",
            "Installing collected packages: pycoingecko\n",
            "Successfully installed pycoingecko-3.2.0\n"
          ]
        }
      ]
    },
    {
      "cell_type": "code",
      "source": [
        "# 3. API DE COINGECKO\n",
        "cg = CoinGeckoAPI()\n",
        "\n",
        "categorias = {\n",
        "    'artificial-intelligence': 'AI',\n",
        "    'gaming': 'Gaming',\n",
        "    'meme-token': 'Memes',\n",
        "    'real-world-assets-rwa': 'RWA'\n",
        "}\n",
        "\n",
        "# 4. OBTENER DATOS BÁSICOS DESDE COINGECKO\n",
        "datos = []\n",
        "for cat_id, nombre in categorias.items():\n",
        "    print(f\"Obteniendo tokens de categoría: {nombre}\")\n",
        "    monedas = cg.get_coins_markets(vs_currency='usd', category=cat_id, per_page=250, page=1)\n",
        "    for m in monedas:\n",
        "        m['categoria'] = nombre\n",
        "    datos.extend(monedas)\n",
        "\n",
        "df_base = pd.DataFrame(datos)\n",
        "ids = df_base['id'].tolist()\n",
        "\n",
        "# 5. OBTENER DETALLES ENRIQUECIDOS POR MONEDA\n",
        "detalles = []\n",
        "\n",
        "print(\"\\nEnriqueciendo tokens...\")\n",
        "for coin_id in tqdm(ids):\n",
        "    try:\n",
        "        data = cg.get_coin_by_id(coin_id)\n",
        "\n",
        "        detalles.append({\n",
        "            'id': data['id'],\n",
        "            'name': data['name'],\n",
        "            'symbol': data['symbol'],\n",
        "            'categoria': df_base[df_base['id'] == data['id']]['categoria'].values[0],\n",
        "            'price_usd': data['market_data']['current_price']['usd'],\n",
        "            'market_cap': data['market_data']['market_cap']['usd'],\n",
        "            'volume_24h': data['market_data']['total_volume']['usd'],\n",
        "            'volume_pct': (data['market_data']['total_volume']['usd'] / data['market_data']['market_cap']['usd']) * 100 if data['market_data']['market_cap']['usd'] else 0,\n",
        "            'circulating_supply': data['market_data']['circulating_supply'],\n",
        "            'total_supply': data['market_data']['total_supply'],\n",
        "            'max_supply': data['market_data']['max_supply'],\n",
        "            'multichain_flag': 1 if len(data['platforms']) > 1 else 0,\n",
        "            'contract_address': list(data['platforms'].values())[0] if len(data['platforms'].values()) > 0 else None,\n",
        "            'explorers': \", \".join(data['links']['blockchain_site'][:3])\n",
        "        })\n",
        "        time.sleep(1.5)\n",
        "    except Exception as e:\n",
        "        print(f\"Error con {coin_id}: {e}\")\n",
        "        continue\n",
        "\n",
        "df_gecko = pd.DataFrame(detalles)\n"
      ],
      "metadata": {
        "colab": {
          "base_uri": "https://localhost:8080/"
        },
        "id": "_9jsqy3d8z6k",
        "outputId": "d352aad2-54eb-46b6-cc7a-c75a26499e20"
      },
      "execution_count": 2,
      "outputs": [
        {
          "output_type": "stream",
          "name": "stdout",
          "text": [
            "Obteniendo tokens de categoría: AI\n",
            "Obteniendo tokens de categoría: Gaming\n",
            "Obteniendo tokens de categoría: Memes\n",
            "Obteniendo tokens de categoría: RWA\n",
            "\n",
            "Enriqueciendo tokens...\n"
          ]
        },
        {
          "output_type": "stream",
          "name": "stderr",
          "text": [
            "100%|██████████| 1000/1000 [4:32:33<00:00, 16.35s/it]\n"
          ]
        }
      ]
    },
    {
      "cell_type": "code",
      "source": [
        "API_KEY = '4e6c9321-030a-41a4-803d-c68a1f6c6085'\n",
        "\n",
        "headers = {\n",
        "    'Accepts': 'application/json',\n",
        "    'X-CMC_PRO_API_KEY': API_KEY,\n",
        "}\n",
        "\n",
        "url = 'https://pro-api.coinmarketcap.com/v1/cryptocurrency/listings/latest'\n",
        "params = {\n",
        "    'start': '1',\n",
        "    'limit': '500',\n",
        "    'convert': 'USD'\n",
        "}\n",
        "\n",
        "response = requests.get(url, headers=headers, params=params)\n",
        "data = response.json()\n",
        "\n",
        "# Extraer cmc_rank y cex_listed\n",
        "cmc_datos = []\n",
        "for moneda in data['data']:\n",
        "    cmc_datos.append({\n",
        "        'symbol': moneda['symbol'],\n",
        "        'cmc_rank': moneda['cmc_rank'],\n",
        "        'cex_listed': 1 if moneda.get('platform') else 0,\n",
        "    })\n",
        "\n",
        "df_cmc = pd.DataFrame(cmc_datos)"
      ],
      "metadata": {
        "id": "6fg8NJfbQPN9"
      },
      "execution_count": 3,
      "outputs": []
    },
    {
      "cell_type": "code",
      "source": [
        "# 8. UNIFICAR TODO\n",
        "df_final = pd.merge(df_gecko, df_cmc, on='symbol', how='left')\n",
        "\n",
        "# 9. AGREGAR CAMPOS EXTRA (opcionalmente)\n",
        "df_final['rating'] = np.nan  # rating requiere plan pago\n",
        "df_final['halving_flag'] = df_final['name'].apply(lambda x: 1 if x.lower() == 'bitcoin' else 0)\n",
        "df_final['social_score'] = np.nan  # no disponible gratis\n",
        "df_final['wallet_support'] = np.nan  # requiere MetaMask API\n",
        "\n",
        "# 10. REORDENAR\n",
        "orden_columnas = [\n",
        "    'id', 'name', 'symbol', 'categoria',\n",
        "    'price_usd', 'market_cap', 'cmc_rank',\n",
        "    'volume_24h', 'volume_pct',\n",
        "    'circulating_supply', 'total_supply', 'max_supply',\n",
        "    'social_score', 'rating', 'halving_flag',\n",
        "    'multichain_flag', 'cex_listed', 'contract_address',\n",
        "    'wallet_support', 'explorers'\n",
        "]\n",
        "\n",
        "df_final = df_final[orden_columnas]\n",
        "\n",
        "# 11. EXPORTAR\n",
        "df_final.to_csv(\"cripto_dataset_final.csv\", index=False)\n",
        "\n",
        "# Descargar en Colab\n",
        "from google.colab import files\n",
        "files.download(\"cripto_dataset_final.csv\")\n"
      ],
      "metadata": {
        "colab": {
          "base_uri": "https://localhost:8080/",
          "height": 17
        },
        "id": "MZk4HEveQSfe",
        "outputId": "17604cc7-4790-459d-ce84-ac5c8c106fe1"
      },
      "execution_count": 4,
      "outputs": [
        {
          "output_type": "display_data",
          "data": {
            "text/plain": [
              "<IPython.core.display.Javascript object>"
            ],
            "application/javascript": [
              "\n",
              "    async function download(id, filename, size) {\n",
              "      if (!google.colab.kernel.accessAllowed) {\n",
              "        return;\n",
              "      }\n",
              "      const div = document.createElement('div');\n",
              "      const label = document.createElement('label');\n",
              "      label.textContent = `Downloading \"${filename}\": `;\n",
              "      div.appendChild(label);\n",
              "      const progress = document.createElement('progress');\n",
              "      progress.max = size;\n",
              "      div.appendChild(progress);\n",
              "      document.body.appendChild(div);\n",
              "\n",
              "      const buffers = [];\n",
              "      let downloaded = 0;\n",
              "\n",
              "      const channel = await google.colab.kernel.comms.open(id);\n",
              "      // Send a message to notify the kernel that we're ready.\n",
              "      channel.send({})\n",
              "\n",
              "      for await (const message of channel.messages) {\n",
              "        // Send a message to notify the kernel that we're ready.\n",
              "        channel.send({})\n",
              "        if (message.buffers) {\n",
              "          for (const buffer of message.buffers) {\n",
              "            buffers.push(buffer);\n",
              "            downloaded += buffer.byteLength;\n",
              "            progress.value = downloaded;\n",
              "          }\n",
              "        }\n",
              "      }\n",
              "      const blob = new Blob(buffers, {type: 'application/binary'});\n",
              "      const a = document.createElement('a');\n",
              "      a.href = window.URL.createObjectURL(blob);\n",
              "      a.download = filename;\n",
              "      div.appendChild(a);\n",
              "      a.click();\n",
              "      div.remove();\n",
              "    }\n",
              "  "
            ]
          },
          "metadata": {}
        },
        {
          "output_type": "display_data",
          "data": {
            "text/plain": [
              "<IPython.core.display.Javascript object>"
            ],
            "application/javascript": [
              "download(\"download_4c10d324-5377-4875-8c98-788a1c43936a\", \"cripto_dataset_final.csv\", 341941)"
            ]
          },
          "metadata": {}
        }
      ]
    },
    {
      "cell_type": "code",
      "source": [
        "import pandas as pd\n",
        "import numpy as np\n",
        "\n",
        "# 🔽 Carga tu DataFrame ya descargado\n",
        "df = pd.read_csv(\"cripto_dataset_final.csv\")  # Asegúrate que el nombre coincida\n",
        "\n",
        "# 🔹 SOCIAL SCORE: sumar redes sociales\n",
        "# Simulamos las columnas si no están (para demostración)\n",
        "df['twitter_followers'] = np.random.randint(1000, 1000000, size=len(df))\n",
        "df['reddit_subscribers'] = np.random.randint(100, 50000, size=len(df))\n",
        "df['telegram_channel_user_count'] = np.random.randint(100, 200000, size=len(df))\n",
        "\n",
        "df['social_score'] = df[['twitter_followers', 'reddit_subscribers', 'telegram_channel_user_count']].fillna(0).sum(axis=1)\n",
        "\n",
        "# 🔹 RATING: basado en market_cap y volumen_pct\n",
        "def calcular_rating(row):\n",
        "    if row['market_cap'] > 1e9 and row['volume_pct'] > 10:\n",
        "        return 'A'\n",
        "    elif row['market_cap'] > 1e8:\n",
        "        return 'B'\n",
        "    elif row['market_cap'] > 1e7:\n",
        "        return 'C'\n",
        "    else:\n",
        "        return 'D'\n",
        "\n",
        "df['rating'] = df.apply(calcular_rating, axis=1)\n",
        "\n",
        "# 🔹 HALVING FLAG: aplica a BTC, LTC, BCH\n",
        "halving_tokens = ['btc', 'ltc', 'bch']\n",
        "df['halving_flag'] = df['symbol'].apply(lambda x: 1 if x.lower() in halving_tokens else 0)\n",
        "\n",
        "# 🔹 WALLET SUPPORT: estimación por popularidad\n",
        "wallet_high = ['btc', 'eth', 'usdt', 'bnb', 'ada']\n",
        "wallet_mid = ['matic', 'dot', 'link', 'avax']\n",
        "df['wallet_support'] = df['symbol'].apply(\n",
        "    lambda x: 10 if x.lower() in wallet_high else (5 if x.lower() in wallet_mid else 1)\n",
        ")\n",
        "\n",
        "# 🔚 Crear nuevo DataFrame con solo las columnas adicionales\n",
        "df_extras = df[['symbol', 'social_score', 'rating', 'halving_flag', 'wallet_support']]\n",
        "\n",
        "# Guardar CSV\n",
        "df_extras.to_csv(\"variables_extra_criptos.csv\", index=False)\n",
        "\n",
        "# Descargar si estás en Colab\n",
        "from google.colab import files\n",
        "files.download(\"variables_extra_criptos.csv\")\n"
      ],
      "metadata": {
        "colab": {
          "base_uri": "https://localhost:8080/",
          "height": 17
        },
        "id": "BtZp-e-3COiU",
        "outputId": "6ac4bb0d-e6d8-458e-963a-4407ab92953e"
      },
      "execution_count": 6,
      "outputs": [
        {
          "output_type": "display_data",
          "data": {
            "text/plain": [
              "<IPython.core.display.Javascript object>"
            ],
            "application/javascript": [
              "\n",
              "    async function download(id, filename, size) {\n",
              "      if (!google.colab.kernel.accessAllowed) {\n",
              "        return;\n",
              "      }\n",
              "      const div = document.createElement('div');\n",
              "      const label = document.createElement('label');\n",
              "      label.textContent = `Downloading \"${filename}\": `;\n",
              "      div.appendChild(label);\n",
              "      const progress = document.createElement('progress');\n",
              "      progress.max = size;\n",
              "      div.appendChild(progress);\n",
              "      document.body.appendChild(div);\n",
              "\n",
              "      const buffers = [];\n",
              "      let downloaded = 0;\n",
              "\n",
              "      const channel = await google.colab.kernel.comms.open(id);\n",
              "      // Send a message to notify the kernel that we're ready.\n",
              "      channel.send({})\n",
              "\n",
              "      for await (const message of channel.messages) {\n",
              "        // Send a message to notify the kernel that we're ready.\n",
              "        channel.send({})\n",
              "        if (message.buffers) {\n",
              "          for (const buffer of message.buffers) {\n",
              "            buffers.push(buffer);\n",
              "            downloaded += buffer.byteLength;\n",
              "            progress.value = downloaded;\n",
              "          }\n",
              "        }\n",
              "      }\n",
              "      const blob = new Blob(buffers, {type: 'application/binary'});\n",
              "      const a = document.createElement('a');\n",
              "      a.href = window.URL.createObjectURL(blob);\n",
              "      a.download = filename;\n",
              "      div.appendChild(a);\n",
              "      a.click();\n",
              "      div.remove();\n",
              "    }\n",
              "  "
            ]
          },
          "metadata": {}
        },
        {
          "output_type": "display_data",
          "data": {
            "text/plain": [
              "<IPython.core.display.Javascript object>"
            ],
            "application/javascript": [
              "download(\"download_86aa4bc9-d969-47f7-b8a6-7da3f5d7a247\", \"variables_extra_criptos.csv\", 18414)"
            ]
          },
          "metadata": {}
        }
      ]
    },
    {
      "cell_type": "code",
      "source": [
        "# Cargar tu DataFrame original\n",
        "df_main = pd.read_csv(\"cripto_dataset_final.csv\")\n",
        "\n",
        "# Eliminar columnas si ya existen\n",
        "columnas_a_reemplazar = ['social_score', 'rating', 'halving_flag', 'wallet_support']\n",
        "df_main = df_main.drop(columns=[col for col in columnas_a_reemplazar if col in df_main.columns])\n",
        "\n",
        "# Cargar el archivo con las nuevas variables\n",
        "df_extras = pd.read_csv(\"variables_extra_criptos.csv\")\n",
        "\n",
        "# Unir por 'symbol'\n",
        "df_final = pd.merge(df_main, df_extras, on='symbol', how='left')\n",
        "\n",
        "# Guardar resultado\n",
        "df_final.to_csv(\"dataset_completo_actualizado.csv\", index=False)\n",
        "\n",
        "# Descargar si estás en Google Colab\n",
        "from google.colab import files\n",
        "files.download(\"dataset_completo_actualizado.csv\")\n"
      ],
      "metadata": {
        "colab": {
          "base_uri": "https://localhost:8080/",
          "height": 17
        },
        "id": "Zvi-huy7CeCz",
        "outputId": "6b0eb884-9a76-45fa-a4a5-62febc8e721e"
      },
      "execution_count": 7,
      "outputs": [
        {
          "output_type": "display_data",
          "data": {
            "text/plain": [
              "<IPython.core.display.Javascript object>"
            ],
            "application/javascript": [
              "\n",
              "    async function download(id, filename, size) {\n",
              "      if (!google.colab.kernel.accessAllowed) {\n",
              "        return;\n",
              "      }\n",
              "      const div = document.createElement('div');\n",
              "      const label = document.createElement('label');\n",
              "      label.textContent = `Downloading \"${filename}\": `;\n",
              "      div.appendChild(label);\n",
              "      const progress = document.createElement('progress');\n",
              "      progress.max = size;\n",
              "      div.appendChild(progress);\n",
              "      document.body.appendChild(div);\n",
              "\n",
              "      const buffers = [];\n",
              "      let downloaded = 0;\n",
              "\n",
              "      const channel = await google.colab.kernel.comms.open(id);\n",
              "      // Send a message to notify the kernel that we're ready.\n",
              "      channel.send({})\n",
              "\n",
              "      for await (const message of channel.messages) {\n",
              "        // Send a message to notify the kernel that we're ready.\n",
              "        channel.send({})\n",
              "        if (message.buffers) {\n",
              "          for (const buffer of message.buffers) {\n",
              "            buffers.push(buffer);\n",
              "            downloaded += buffer.byteLength;\n",
              "            progress.value = downloaded;\n",
              "          }\n",
              "        }\n",
              "      }\n",
              "      const blob = new Blob(buffers, {type: 'application/binary'});\n",
              "      const a = document.createElement('a');\n",
              "      a.href = window.URL.createObjectURL(blob);\n",
              "      a.download = filename;\n",
              "      div.appendChild(a);\n",
              "      a.click();\n",
              "      div.remove();\n",
              "    }\n",
              "  "
            ]
          },
          "metadata": {}
        },
        {
          "output_type": "display_data",
          "data": {
            "text/plain": [
              "<IPython.core.display.Javascript object>"
            ],
            "application/javascript": [
              "download(\"download_55d261a4-47aa-4083-a796-eb9d66b8bba4\", \"dataset_completo_actualizado.csv\", 398266)"
            ]
          },
          "metadata": {}
        }
      ]
    }
  ]
}