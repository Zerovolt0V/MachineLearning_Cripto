{
  "cells": [
    {
      "cell_type": "markdown",
      "metadata": {
        "id": "nNL0QSTEh9JN"
      },
      "source": [
        "## EDA: Análisis Exploratorio de Datos (AED)"
      ]
    },
    {
      "cell_type": "code",
      "execution_count": 4,
      "metadata": {
        "id": "tDMg8FxDh3Fn"
      },
      "outputs": [],
      "source": [
        "import pandas as pd\n",
        "import numpy as np\n",
        "import matplotlib.pyplot as plt\n",
        "import seaborn as sns\n",
        "from sklearn.metrics import (\n",
        "    accuracy_score, recall_score, precision_score, f1_score,\n",
        "    confusion_matrix, roc_curve, auc\n",
        ")\n",
        "import matplotlib.pyplot as plt\n",
        "\n",
        "\n",
        "# Configuración para visualizaciones\n",
        "sns.set(style='whitegrid')\n",
        "plt.rcParams['figure.figsize'] = (12, 6)"
      ]
    },
    {
      "cell_type": "code",
      "execution_count": 5,
      "metadata": {
        "colab": {
          "base_uri": "https://localhost:8080/",
          "height": 206
        },
        "id": "adWrB8WOiOo9",
        "outputId": "679fd8b8-3285-44f5-c8fe-3724138aeb86"
      },
      "outputs": [
        {
          "data": {
            "application/vnd.microsoft.datawrangler.viewer.v0+json": {
              "columns": [
                {
                  "name": "index",
                  "rawType": "int64",
                  "type": "integer"
                },
                {
                  "name": "TransactionID",
                  "rawType": "int64",
                  "type": "integer"
                },
                {
                  "name": "Time",
                  "rawType": "object",
                  "type": "string"
                },
                {
                  "name": "Amount",
                  "rawType": "float64",
                  "type": "float"
                },
                {
                  "name": "CardholderName",
                  "rawType": "object",
                  "type": "string"
                },
                {
                  "name": "MerchantName",
                  "rawType": "object",
                  "type": "string"
                },
                {
                  "name": "MCC",
                  "rawType": "int64",
                  "type": "integer"
                },
                {
                  "name": "Location",
                  "rawType": "object",
                  "type": "string"
                },
                {
                  "name": "Device",
                  "rawType": "object",
                  "type": "string"
                },
                {
                  "name": "IPAddress",
                  "rawType": "object",
                  "type": "string"
                },
                {
                  "name": "TransactionSpeed",
                  "rawType": "float64",
                  "type": "float"
                },
                {
                  "name": "Fraud",
                  "rawType": "int64",
                  "type": "integer"
                }
              ],
              "conversionMethod": "pd.DataFrame",
              "ref": "8b502da4-340a-4f62-a1fa-088d4d112516",
              "rows": [
                [
                  "0",
                  "1",
                  "2025-03-09 06:23:57",
                  "83.54",
                  "Sarah Murray",
                  "Oconnor-Hughes",
                  "5411",
                  "Longtown",
                  "Android",
                  "102.247.49.50",
                  "38.17",
                  "0"
                ],
                [
                  "1",
                  "2",
                  "2025-02-14 05:17:36",
                  "805.88",
                  "Alexander Brooks",
                  "Reed PLC",
                  "5261",
                  "Woodsland",
                  "POS",
                  "153.157.50.7",
                  "49.84",
                  "0"
                ],
                [
                  "2",
                  "3",
                  "2024-05-03 15:28:52",
                  "450.49",
                  "Harold Perez",
                  "Berry LLC",
                  "5261",
                  "Jessicatown",
                  "iOS",
                  "151.174.154.123",
                  "48.79",
                  "0"
                ],
                [
                  "3",
                  "4",
                  "2024-05-03 09:01:14",
                  "782.39",
                  "Rebecca Davis",
                  "Berg Inc",
                  "5968",
                  "North Krystalburgh",
                  "Android",
                  "130.70.79.149",
                  "8.71",
                  "0"
                ],
                [
                  "4",
                  "5",
                  "2025-04-24 17:24:39",
                  "713.02",
                  "Lauren Benson DDS",
                  "King-Gaines",
                  "5968",
                  "East Danielletown",
                  "Android",
                  "195.136.16.190",
                  "17.16",
                  "0"
                ],
                [
                  "5",
                  "6",
                  "2025-03-01 01:48:29",
                  "305.35",
                  "Alexis Mendez",
                  "Fisher Ltd",
                  "5411",
                  "South Jennifer",
                  "POS",
                  "123.207.86.252",
                  "55.36",
                  "0"
                ],
                [
                  "6",
                  "7",
                  "2025-02-23 08:24:21",
                  "256.63",
                  "Sean Manning",
                  "Levy Group",
                  "5968",
                  "West Andrew",
                  "Web",
                  "21.99.204.254",
                  "51.43",
                  "0"
                ],
                [
                  "7",
                  "8",
                  "2024-10-18 02:24:01",
                  "312.03",
                  "Stephen Mendoza",
                  "Clements, Matthews and Stokes",
                  "5968",
                  "Weavermouth",
                  "Web",
                  "103.39.186.249",
                  "57.95",
                  "0"
                ],
                [
                  "8",
                  "9",
                  "2024-10-05 06:56:37",
                  "1381.9",
                  "Trevor Stewart",
                  "Barrett-Hunter",
                  "5968",
                  "Houstonchester",
                  "Android",
                  "201.1.87.11",
                  "119.08",
                  "1"
                ],
                [
                  "9",
                  "10",
                  "2024-10-23 01:18:23",
                  "885.49",
                  "Jason Baldwin MD",
                  "Camacho-Franklin",
                  "5812",
                  "Lake Coreyton",
                  "POS",
                  "153.131.2.39",
                  "1.83",
                  "0"
                ],
                [
                  "10",
                  "11",
                  "2025-02-15 01:07:53",
                  "897.68",
                  "Abigail Henry",
                  "Sanders LLC",
                  "5261",
                  "Port Meganborough",
                  "Android",
                  "125.104.247.88",
                  "28.78",
                  "0"
                ],
                [
                  "11",
                  "12",
                  "2025-01-30 04:55:21",
                  "910.15",
                  "Kara Sosa",
                  "Riddle, Shelton and Wells",
                  "5968",
                  "Underwoodmouth",
                  "Web",
                  "32.100.97.32",
                  "54.11",
                  "0"
                ],
                [
                  "12",
                  "13",
                  "2025-04-27 12:05:13",
                  "853.05",
                  "Kathy Snyder",
                  "Rodriguez-Wilkerson",
                  "5261",
                  "Thomaston",
                  "Android",
                  "85.136.62.195",
                  "5.94",
                  "0"
                ],
                [
                  "13",
                  "14",
                  "2025-04-09 15:45:52",
                  "662.66",
                  "Michael Clark",
                  "Palmer Inc",
                  "5261",
                  "Ramosbury",
                  "Web",
                  "81.179.109.25",
                  "28.29",
                  "0"
                ],
                [
                  "14",
                  "15",
                  "2024-06-09 11:08:35",
                  "34.87",
                  "Anthony Byrd",
                  "Bell, Vazquez and Green",
                  "5968",
                  "West Debra",
                  "POS",
                  "183.160.35.234",
                  "20.5",
                  "0"
                ],
                [
                  "15",
                  "16",
                  "2025-03-23 17:00:31",
                  "170.8",
                  "Robyn Shelton",
                  "Williams Group",
                  "5942",
                  "Williamsbury",
                  "Android",
                  "30.4.144.19",
                  "53.28",
                  "0"
                ],
                [
                  "16",
                  "17",
                  "2024-09-10 14:46:26",
                  "884.47",
                  "Barry Gilbert",
                  "Williams Group",
                  "5968",
                  "Hernandezbury",
                  "POS",
                  "17.90.113.235",
                  "53.76",
                  "0"
                ],
                [
                  "17",
                  "18",
                  "2024-06-07 14:45:13",
                  "619.54",
                  "Anthony Garcia",
                  "Hamilton-Smith",
                  "7299",
                  "West Richard",
                  "Web",
                  "144.120.36.6",
                  "28.4",
                  "0"
                ],
                [
                  "18",
                  "19",
                  "2025-03-10 15:10:37",
                  "52.12",
                  "Emily Ferguson",
                  "Smith-Smith",
                  "5942",
                  "Randallbury",
                  "iOS",
                  "99.218.166.141",
                  "32.26",
                  "0"
                ],
                [
                  "19",
                  "20",
                  "2024-10-30 22:12:37",
                  "321.98",
                  "Scott Rivera",
                  "Williams and Sons",
                  "5942",
                  "Campbellfort",
                  "iOS",
                  "9.237.76.188",
                  "7.7",
                  "0"
                ],
                [
                  "20",
                  "21",
                  "2024-11-22 17:36:17",
                  "881.14",
                  "Nicholas Burns",
                  "Molina-Booker",
                  "5411",
                  "Johnshire",
                  "Web",
                  "188.32.114.163",
                  "12.17",
                  "0"
                ],
                [
                  "21",
                  "22",
                  "2025-03-10 22:19:55",
                  "327.93",
                  "Maurice Williams",
                  "Phillips PLC",
                  "5968",
                  "Davidmouth",
                  "POS",
                  "162.227.147.6",
                  "11.57",
                  "0"
                ],
                [
                  "22",
                  "23",
                  "2025-04-12 10:41:58",
                  "995.66",
                  "Robert Alvarez",
                  "Colon, Martin and Dickerson",
                  "5968",
                  "Ronaldtown",
                  "Android",
                  "171.181.252.234",
                  "47.16",
                  "0"
                ],
                [
                  "23",
                  "24",
                  "2024-11-26 17:42:54",
                  "965.42",
                  "Jessica Cox",
                  "Campbell, King and Hodges",
                  "5261",
                  "Johnport",
                  "POS",
                  "1.200.132.10",
                  "57.39",
                  "0"
                ],
                [
                  "24",
                  "25",
                  "2025-01-13 04:53:39",
                  "751.94",
                  "Carol Bolton",
                  "Neal Group",
                  "5261",
                  "Reillytown",
                  "Web",
                  "40.73.98.238",
                  "15.88",
                  "0"
                ],
                [
                  "25",
                  "26",
                  "2025-01-25 03:58:10",
                  "431.81",
                  "Nancy Price",
                  "Doyle PLC",
                  "5812",
                  "Deleonchester",
                  "Android",
                  "203.145.214.172",
                  "11.98",
                  "0"
                ],
                [
                  "26",
                  "27",
                  "2024-05-30 08:54:14",
                  "580.73",
                  "James Day",
                  "Weeks-Robinson",
                  "5411",
                  "Wagnertown",
                  "Android",
                  "179.112.126.2",
                  "12.55",
                  "0"
                ],
                [
                  "27",
                  "28",
                  "2024-06-19 17:41:36",
                  "370.4",
                  "Carmen Rivera",
                  "Bailey-Villanueva",
                  "5411",
                  "West Karen",
                  "POS",
                  "208.80.93.35",
                  "22.72",
                  "0"
                ],
                [
                  "28",
                  "29",
                  "2024-10-25 01:32:39",
                  "328.32",
                  "Jesse Brown",
                  "Koch, Casey and Best",
                  "5812",
                  "Brownburgh",
                  "POS",
                  "202.49.180.28",
                  "20.16",
                  "0"
                ],
                [
                  "29",
                  "30",
                  "2025-03-29 01:08:45",
                  "211.44",
                  "Larry Robinson",
                  "Whitaker, Norris and Nelson",
                  "5261",
                  "South Chelseychester",
                  "POS",
                  "213.85.248.200",
                  "36.28",
                  "0"
                ],
                [
                  "30",
                  "31",
                  "2024-07-19 01:15:54",
                  "128.67",
                  "Timothy Garner",
                  "Wells-Brown",
                  "5812",
                  "West Luis",
                  "POS",
                  "31.33.162.15",
                  "6.01",
                  "0"
                ],
                [
                  "31",
                  "32",
                  "2024-11-09 08:31:05",
                  "752.8",
                  "Nicole White",
                  "Townsend-Payne",
                  "5411",
                  "North Rachel",
                  "Web",
                  "214.64.138.25",
                  "10.2",
                  "0"
                ],
                [
                  "32",
                  "33",
                  "2025-04-09 11:17:29",
                  "397.09",
                  "Robert Hoffman",
                  "Campbell-Gray",
                  "5261",
                  "Port Ann",
                  "POS",
                  "193.173.180.195",
                  "3.72",
                  "0"
                ],
                [
                  "33",
                  "34",
                  "2024-09-06 01:11:32",
                  "792.22",
                  "Gregory Smith",
                  "Miller Ltd",
                  "5411",
                  "Lake Jameschester",
                  "POS",
                  "183.97.85.158",
                  "20.53",
                  "0"
                ],
                [
                  "34",
                  "35",
                  "2024-09-05 13:59:44",
                  "135.55",
                  "Michael Schwartz",
                  "Davis Group",
                  "5411",
                  "East Jeffhaven",
                  "iOS",
                  "197.104.49.196",
                  "11.54",
                  "0"
                ],
                [
                  "35",
                  "36",
                  "2024-06-04 02:36:23",
                  "374.9",
                  "Mark Hernandez",
                  "Hood, Vaughn and Randolph",
                  "5812",
                  "Lake Mitchellchester",
                  "Android",
                  "108.206.143.127",
                  "48.67",
                  "0"
                ],
                [
                  "36",
                  "37",
                  "2024-06-14 04:58:09",
                  "831.3",
                  "Christopher Casey",
                  "Young Ltd",
                  "5261",
                  "Williamsside",
                  "POS",
                  "153.137.215.223",
                  "57.38",
                  "0"
                ],
                [
                  "37",
                  "38",
                  "2025-02-12 01:47:11",
                  "510.68",
                  "Christine Lee",
                  "Swanson PLC",
                  "5411",
                  "Abigailstad",
                  "Web",
                  "25.251.55.189",
                  "39.12",
                  "0"
                ],
                [
                  "38",
                  "39",
                  "2025-01-26 00:55:29",
                  "788.39",
                  "Brian Berry",
                  "Salas PLC",
                  "5261",
                  "Rossport",
                  "iOS",
                  "120.29.58.240",
                  "20.35",
                  "0"
                ],
                [
                  "39",
                  "40",
                  "2025-04-11 03:55:21",
                  "120.22",
                  "Todd Smith",
                  "Houston Group",
                  "5261",
                  "Wrightbury",
                  "POS",
                  "177.201.83.148",
                  "9.17",
                  "0"
                ],
                [
                  "40",
                  "41",
                  "2024-10-15 11:37:59",
                  "941.75",
                  "Michael Brown",
                  "Martinez-Powell",
                  "7299",
                  "East Joshuaview",
                  "Android",
                  "97.180.29.247",
                  "22.48",
                  "0"
                ],
                [
                  "41",
                  "42",
                  "2025-02-18 10:02:50",
                  "401.87",
                  "Kathleen Thornton",
                  "Brown PLC",
                  "5968",
                  "Sanchezshire",
                  "Android",
                  "80.136.9.182",
                  "58.15",
                  "0"
                ],
                [
                  "42",
                  "43",
                  "2024-09-17 04:38:05",
                  "504.12",
                  "Kevin Kirby",
                  "Newman, Juarez and Anderson",
                  "5411",
                  "Danielmouth",
                  "iOS",
                  "87.100.186.65",
                  "33.77",
                  "0"
                ],
                [
                  "43",
                  "44",
                  "2024-08-06 12:20:56",
                  "414.48",
                  "Christopher Williams",
                  "Johnson, Ramsey and Riggs",
                  "5968",
                  "Port Jasonmouth",
                  "Web",
                  "46.91.132.246",
                  "57.07",
                  "0"
                ],
                [
                  "44",
                  "45",
                  "2024-09-09 13:39:28",
                  "714.0",
                  "Michael Glenn",
                  "Johnson-Harris",
                  "5261",
                  "Elizabethville",
                  "Android",
                  "161.67.171.12",
                  "30.06",
                  "0"
                ],
                [
                  "45",
                  "46",
                  "2024-05-07 21:04:55",
                  "295.61",
                  "Anna Andrews",
                  "Torres, Burns and Pratt",
                  "7299",
                  "Lake Angela",
                  "POS",
                  "182.235.151.64",
                  "28.53",
                  "0"
                ],
                [
                  "46",
                  "47",
                  "2024-12-19 15:40:13",
                  "730.12",
                  "Tracy Armstrong",
                  "Oneal LLC",
                  "5411",
                  "Dariusside",
                  "POS",
                  "165.92.243.123",
                  "50.28",
                  "0"
                ],
                [
                  "47",
                  "48",
                  "2024-09-27 15:24:10",
                  "129.24",
                  "Jason Osborn",
                  "Hunt-Mcclain",
                  "5411",
                  "Murphyview",
                  "Android",
                  "132.128.66.88",
                  "3.22",
                  "0"
                ],
                [
                  "48",
                  "49",
                  "2024-11-27 05:44:32",
                  "654.95",
                  "Marcus Hines",
                  "Young Ltd",
                  "5812",
                  "Stephensview",
                  "POS",
                  "166.41.24.110",
                  "6.57",
                  "0"
                ],
                [
                  "49",
                  "50",
                  "2024-05-08 10:36:12",
                  "981.72",
                  "Sonya Pitts",
                  "Goodwin, Sheppard and Hill",
                  "5968",
                  "Lake Davidmouth",
                  "iOS",
                  "5.148.95.82",
                  "3.62",
                  "0"
                ]
              ],
              "shape": {
                "columns": 11,
                "rows": 10000
              }
            },
            "text/html": [
              "<div>\n",
              "<style scoped>\n",
              "    .dataframe tbody tr th:only-of-type {\n",
              "        vertical-align: middle;\n",
              "    }\n",
              "\n",
              "    .dataframe tbody tr th {\n",
              "        vertical-align: top;\n",
              "    }\n",
              "\n",
              "    .dataframe thead th {\n",
              "        text-align: right;\n",
              "    }\n",
              "</style>\n",
              "<table border=\"1\" class=\"dataframe\">\n",
              "  <thead>\n",
              "    <tr style=\"text-align: right;\">\n",
              "      <th></th>\n",
              "      <th>TransactionID</th>\n",
              "      <th>Time</th>\n",
              "      <th>Amount</th>\n",
              "      <th>CardholderName</th>\n",
              "      <th>MerchantName</th>\n",
              "      <th>MCC</th>\n",
              "      <th>Location</th>\n",
              "      <th>Device</th>\n",
              "      <th>IPAddress</th>\n",
              "      <th>TransactionSpeed</th>\n",
              "      <th>Fraud</th>\n",
              "    </tr>\n",
              "  </thead>\n",
              "  <tbody>\n",
              "    <tr>\n",
              "      <th>0</th>\n",
              "      <td>1</td>\n",
              "      <td>2025-03-09 06:23:57</td>\n",
              "      <td>83.54</td>\n",
              "      <td>Sarah Murray</td>\n",
              "      <td>Oconnor-Hughes</td>\n",
              "      <td>5411</td>\n",
              "      <td>Longtown</td>\n",
              "      <td>Android</td>\n",
              "      <td>102.247.49.50</td>\n",
              "      <td>38.17</td>\n",
              "      <td>0</td>\n",
              "    </tr>\n",
              "    <tr>\n",
              "      <th>1</th>\n",
              "      <td>2</td>\n",
              "      <td>2025-02-14 05:17:36</td>\n",
              "      <td>805.88</td>\n",
              "      <td>Alexander Brooks</td>\n",
              "      <td>Reed PLC</td>\n",
              "      <td>5261</td>\n",
              "      <td>Woodsland</td>\n",
              "      <td>POS</td>\n",
              "      <td>153.157.50.7</td>\n",
              "      <td>49.84</td>\n",
              "      <td>0</td>\n",
              "    </tr>\n",
              "    <tr>\n",
              "      <th>2</th>\n",
              "      <td>3</td>\n",
              "      <td>2024-05-03 15:28:52</td>\n",
              "      <td>450.49</td>\n",
              "      <td>Harold Perez</td>\n",
              "      <td>Berry LLC</td>\n",
              "      <td>5261</td>\n",
              "      <td>Jessicatown</td>\n",
              "      <td>iOS</td>\n",
              "      <td>151.174.154.123</td>\n",
              "      <td>48.79</td>\n",
              "      <td>0</td>\n",
              "    </tr>\n",
              "    <tr>\n",
              "      <th>3</th>\n",
              "      <td>4</td>\n",
              "      <td>2024-05-03 09:01:14</td>\n",
              "      <td>782.39</td>\n",
              "      <td>Rebecca Davis</td>\n",
              "      <td>Berg Inc</td>\n",
              "      <td>5968</td>\n",
              "      <td>North Krystalburgh</td>\n",
              "      <td>Android</td>\n",
              "      <td>130.70.79.149</td>\n",
              "      <td>8.71</td>\n",
              "      <td>0</td>\n",
              "    </tr>\n",
              "    <tr>\n",
              "      <th>4</th>\n",
              "      <td>5</td>\n",
              "      <td>2025-04-24 17:24:39</td>\n",
              "      <td>713.02</td>\n",
              "      <td>Lauren Benson DDS</td>\n",
              "      <td>King-Gaines</td>\n",
              "      <td>5968</td>\n",
              "      <td>East Danielletown</td>\n",
              "      <td>Android</td>\n",
              "      <td>195.136.16.190</td>\n",
              "      <td>17.16</td>\n",
              "      <td>0</td>\n",
              "    </tr>\n",
              "    <tr>\n",
              "      <th>...</th>\n",
              "      <td>...</td>\n",
              "      <td>...</td>\n",
              "      <td>...</td>\n",
              "      <td>...</td>\n",
              "      <td>...</td>\n",
              "      <td>...</td>\n",
              "      <td>...</td>\n",
              "      <td>...</td>\n",
              "      <td>...</td>\n",
              "      <td>...</td>\n",
              "      <td>...</td>\n",
              "    </tr>\n",
              "    <tr>\n",
              "      <th>9995</th>\n",
              "      <td>9996</td>\n",
              "      <td>2024-12-04 13:19:22</td>\n",
              "      <td>659.56</td>\n",
              "      <td>Zachary Morales</td>\n",
              "      <td>West LLC</td>\n",
              "      <td>5261</td>\n",
              "      <td>Brownborough</td>\n",
              "      <td>iOS</td>\n",
              "      <td>169.64.249.243</td>\n",
              "      <td>1.25</td>\n",
              "      <td>0</td>\n",
              "    </tr>\n",
              "    <tr>\n",
              "      <th>9996</th>\n",
              "      <td>9997</td>\n",
              "      <td>2024-12-23 16:53:22</td>\n",
              "      <td>290.46</td>\n",
              "      <td>Douglas Gallagher</td>\n",
              "      <td>Thompson-Phillips</td>\n",
              "      <td>5968</td>\n",
              "      <td>New Erin</td>\n",
              "      <td>Android</td>\n",
              "      <td>91.139.246.126</td>\n",
              "      <td>11.04</td>\n",
              "      <td>0</td>\n",
              "    </tr>\n",
              "    <tr>\n",
              "      <th>9997</th>\n",
              "      <td>9998</td>\n",
              "      <td>2025-01-30 19:45:52</td>\n",
              "      <td>337.55</td>\n",
              "      <td>Gregory Jarvis</td>\n",
              "      <td>Williams, Castillo and Luna</td>\n",
              "      <td>5812</td>\n",
              "      <td>Alanville</td>\n",
              "      <td>iOS</td>\n",
              "      <td>183.67.160.124</td>\n",
              "      <td>27.00</td>\n",
              "      <td>0</td>\n",
              "    </tr>\n",
              "    <tr>\n",
              "      <th>9998</th>\n",
              "      <td>9999</td>\n",
              "      <td>2025-03-12 21:30:01</td>\n",
              "      <td>322.15</td>\n",
              "      <td>Kevin Pena</td>\n",
              "      <td>English, Cervantes and Gutierrez</td>\n",
              "      <td>7299</td>\n",
              "      <td>East Martin</td>\n",
              "      <td>iOS</td>\n",
              "      <td>188.156.148.191</td>\n",
              "      <td>3.26</td>\n",
              "      <td>0</td>\n",
              "    </tr>\n",
              "    <tr>\n",
              "      <th>9999</th>\n",
              "      <td>10000</td>\n",
              "      <td>2024-09-23 04:03:54</td>\n",
              "      <td>809.15</td>\n",
              "      <td>Jacqueline Jennings</td>\n",
              "      <td>Parsons Group</td>\n",
              "      <td>5968</td>\n",
              "      <td>Michaelfurt</td>\n",
              "      <td>Web</td>\n",
              "      <td>200.236.19.82</td>\n",
              "      <td>56.20</td>\n",
              "      <td>0</td>\n",
              "    </tr>\n",
              "  </tbody>\n",
              "</table>\n",
              "<p>10000 rows × 11 columns</p>\n",
              "</div>"
            ],
            "text/plain": [
              "      TransactionID                 Time  Amount       CardholderName  \\\n",
              "0                 1  2025-03-09 06:23:57   83.54         Sarah Murray   \n",
              "1                 2  2025-02-14 05:17:36  805.88     Alexander Brooks   \n",
              "2                 3  2024-05-03 15:28:52  450.49         Harold Perez   \n",
              "3                 4  2024-05-03 09:01:14  782.39        Rebecca Davis   \n",
              "4                 5  2025-04-24 17:24:39  713.02    Lauren Benson DDS   \n",
              "...             ...                  ...     ...                  ...   \n",
              "9995           9996  2024-12-04 13:19:22  659.56      Zachary Morales   \n",
              "9996           9997  2024-12-23 16:53:22  290.46    Douglas Gallagher   \n",
              "9997           9998  2025-01-30 19:45:52  337.55       Gregory Jarvis   \n",
              "9998           9999  2025-03-12 21:30:01  322.15           Kevin Pena   \n",
              "9999          10000  2024-09-23 04:03:54  809.15  Jacqueline Jennings   \n",
              "\n",
              "                          MerchantName   MCC            Location   Device  \\\n",
              "0                       Oconnor-Hughes  5411            Longtown  Android   \n",
              "1                             Reed PLC  5261           Woodsland      POS   \n",
              "2                            Berry LLC  5261         Jessicatown      iOS   \n",
              "3                             Berg Inc  5968  North Krystalburgh  Android   \n",
              "4                          King-Gaines  5968   East Danielletown  Android   \n",
              "...                                ...   ...                 ...      ...   \n",
              "9995                          West LLC  5261        Brownborough      iOS   \n",
              "9996                 Thompson-Phillips  5968            New Erin  Android   \n",
              "9997       Williams, Castillo and Luna  5812           Alanville      iOS   \n",
              "9998  English, Cervantes and Gutierrez  7299         East Martin      iOS   \n",
              "9999                     Parsons Group  5968         Michaelfurt      Web   \n",
              "\n",
              "            IPAddress  TransactionSpeed  Fraud  \n",
              "0       102.247.49.50             38.17      0  \n",
              "1        153.157.50.7             49.84      0  \n",
              "2     151.174.154.123             48.79      0  \n",
              "3       130.70.79.149              8.71      0  \n",
              "4      195.136.16.190             17.16      0  \n",
              "...               ...               ...    ...  \n",
              "9995   169.64.249.243              1.25      0  \n",
              "9996   91.139.246.126             11.04      0  \n",
              "9997   183.67.160.124             27.00      0  \n",
              "9998  188.156.148.191              3.26      0  \n",
              "9999    200.236.19.82             56.20      0  \n",
              "\n",
              "[10000 rows x 11 columns]"
            ]
          },
          "execution_count": 5,
          "metadata": {},
          "output_type": "execute_result"
        }
      ],
      "source": [
        "# Cargar el dataset\n",
        "data_path =  './data/processed/'\n",
        "\n",
        "df = pd.read_csv('./data/raw/credit_card_transactions.csv')\n",
        "\n",
        "# Ver primeras filas\n",
        "df.head()\n",
        "df #wrangler"
      ]
    },
    {
      "cell_type": "markdown",
      "metadata": {
        "id": "odbDzkAEtNGP"
      },
      "source": [
        "#### Realizar un análisis descriptivo del conjunto de datos, incluyendo estadísticas descriptivas y visualización de la distribución de las variables."
      ]
    },
    {
      "cell_type": "code",
      "execution_count": 6,
      "metadata": {
        "colab": {
          "base_uri": "https://localhost:8080/"
        },
        "id": "SP4nmQ7BiRv7",
        "outputId": "63eb2bb6-c9a9-43cb-c042-b70d71d737e3"
      },
      "outputs": [
        {
          "name": "stdout",
          "output_type": "stream",
          "text": [
            "Filas y columnas: (10000, 11)\n"
          ]
        }
      ],
      "source": [
        "# Dimensiones del dataset\n",
        "print(f\"Filas y columnas: {df.shape}\")\n"
      ]
    },
    {
      "cell_type": "code",
      "execution_count": 7,
      "metadata": {
        "colab": {
          "base_uri": "https://localhost:8080/"
        },
        "id": "h5RDBU-Wia0s",
        "outputId": "cba7c4ca-808e-4a14-ffa8-a24bcfbd4640"
      },
      "outputs": [
        {
          "name": "stdout",
          "output_type": "stream",
          "text": [
            "<class 'pandas.core.frame.DataFrame'>\n",
            "RangeIndex: 10000 entries, 0 to 9999\n",
            "Data columns (total 11 columns):\n",
            " #   Column            Non-Null Count  Dtype  \n",
            "---  ------            --------------  -----  \n",
            " 0   TransactionID     10000 non-null  int64  \n",
            " 1   Time              10000 non-null  object \n",
            " 2   Amount            10000 non-null  float64\n",
            " 3   CardholderName    10000 non-null  object \n",
            " 4   MerchantName      10000 non-null  object \n",
            " 5   MCC               10000 non-null  int64  \n",
            " 6   Location          10000 non-null  object \n",
            " 7   Device            10000 non-null  object \n",
            " 8   IPAddress         10000 non-null  object \n",
            " 9   TransactionSpeed  10000 non-null  float64\n",
            " 10  Fraud             10000 non-null  int64  \n",
            "dtypes: float64(2), int64(3), object(6)\n",
            "memory usage: 859.5+ KB\n",
            "\n",
            "Porcentaje de valores nulos por columna:\n",
            "TransactionID       0.0\n",
            "Time                0.0\n",
            "Amount              0.0\n",
            "CardholderName      0.0\n",
            "MerchantName        0.0\n",
            "MCC                 0.0\n",
            "Location            0.0\n",
            "Device              0.0\n",
            "IPAddress           0.0\n",
            "TransactionSpeed    0.0\n",
            "Fraud               0.0\n",
            "dtype: float64\n"
          ]
        }
      ],
      "source": [
        "# Estructura del DataFrame\n",
        "df.info()\n",
        "\n",
        "# Porcentaje de valores nulos\n",
        "print(\"\\nPorcentaje de valores nulos por columna:\")\n",
        "print((df.isnull().sum() / len(df) * 100).sort_values(ascending=False))\n"
      ]
    },
    {
      "cell_type": "code",
      "execution_count": 8,
      "metadata": {
        "colab": {
          "base_uri": "https://localhost:8080/",
          "height": 206
        },
        "id": "CUMZTdGBijsU",
        "outputId": "9cce6f87-a8d5-4435-8096-ef332289018d"
      },
      "outputs": [
        {
          "data": {
            "application/vnd.microsoft.datawrangler.viewer.v0+json": {
              "columns": [
                {
                  "name": "index",
                  "rawType": "object",
                  "type": "string"
                },
                {
                  "name": "count",
                  "rawType": "float64",
                  "type": "float"
                },
                {
                  "name": "mean",
                  "rawType": "float64",
                  "type": "float"
                },
                {
                  "name": "std",
                  "rawType": "float64",
                  "type": "float"
                },
                {
                  "name": "min",
                  "rawType": "float64",
                  "type": "float"
                },
                {
                  "name": "25%",
                  "rawType": "float64",
                  "type": "float"
                },
                {
                  "name": "50%",
                  "rawType": "float64",
                  "type": "float"
                },
                {
                  "name": "75%",
                  "rawType": "float64",
                  "type": "float"
                },
                {
                  "name": "max",
                  "rawType": "float64",
                  "type": "float"
                }
              ],
              "conversionMethod": "pd.DataFrame",
              "ref": "2a62f1df-887c-40bf-bde5-d30bfbf34a40",
              "rows": [
                [
                  "TransactionID",
                  "10000.0",
                  "5000.5",
                  "2886.8956799071675",
                  "1.0",
                  "2500.75",
                  "5000.5",
                  "7500.25",
                  "10000.0"
                ],
                [
                  "Amount",
                  "10000.0",
                  "547.3474909999999",
                  "460.04732855355854",
                  "10.09",
                  "263.2225",
                  "512.24",
                  "759.935",
                  "4988.07"
                ],
                [
                  "MCC",
                  "10000.0",
                  "5950.1029",
                  "664.5262869369375",
                  "5261.0",
                  "5411.0",
                  "5812.0",
                  "5968.0",
                  "7299.0"
                ],
                [
                  "TransactionSpeed",
                  "10000.0",
                  "30.738446000000003",
                  "19.092344968827817",
                  "0.11",
                  "14.91",
                  "29.655",
                  "45.27",
                  "119.86"
                ],
                [
                  "Fraud",
                  "10000.0",
                  "0.0192",
                  "0.13723426439607725",
                  "0.0",
                  "0.0",
                  "0.0",
                  "0.0",
                  "1.0"
                ]
              ],
              "shape": {
                "columns": 8,
                "rows": 5
              }
            },
            "text/html": [
              "<div>\n",
              "<style scoped>\n",
              "    .dataframe tbody tr th:only-of-type {\n",
              "        vertical-align: middle;\n",
              "    }\n",
              "\n",
              "    .dataframe tbody tr th {\n",
              "        vertical-align: top;\n",
              "    }\n",
              "\n",
              "    .dataframe thead th {\n",
              "        text-align: right;\n",
              "    }\n",
              "</style>\n",
              "<table border=\"1\" class=\"dataframe\">\n",
              "  <thead>\n",
              "    <tr style=\"text-align: right;\">\n",
              "      <th></th>\n",
              "      <th>count</th>\n",
              "      <th>mean</th>\n",
              "      <th>std</th>\n",
              "      <th>min</th>\n",
              "      <th>25%</th>\n",
              "      <th>50%</th>\n",
              "      <th>75%</th>\n",
              "      <th>max</th>\n",
              "    </tr>\n",
              "  </thead>\n",
              "  <tbody>\n",
              "    <tr>\n",
              "      <th>TransactionID</th>\n",
              "      <td>10000.0</td>\n",
              "      <td>5000.500000</td>\n",
              "      <td>2886.895680</td>\n",
              "      <td>1.00</td>\n",
              "      <td>2500.7500</td>\n",
              "      <td>5000.500</td>\n",
              "      <td>7500.250</td>\n",
              "      <td>10000.00</td>\n",
              "    </tr>\n",
              "    <tr>\n",
              "      <th>Amount</th>\n",
              "      <td>10000.0</td>\n",
              "      <td>547.347491</td>\n",
              "      <td>460.047329</td>\n",
              "      <td>10.09</td>\n",
              "      <td>263.2225</td>\n",
              "      <td>512.240</td>\n",
              "      <td>759.935</td>\n",
              "      <td>4988.07</td>\n",
              "    </tr>\n",
              "    <tr>\n",
              "      <th>MCC</th>\n",
              "      <td>10000.0</td>\n",
              "      <td>5950.102900</td>\n",
              "      <td>664.526287</td>\n",
              "      <td>5261.00</td>\n",
              "      <td>5411.0000</td>\n",
              "      <td>5812.000</td>\n",
              "      <td>5968.000</td>\n",
              "      <td>7299.00</td>\n",
              "    </tr>\n",
              "    <tr>\n",
              "      <th>TransactionSpeed</th>\n",
              "      <td>10000.0</td>\n",
              "      <td>30.738446</td>\n",
              "      <td>19.092345</td>\n",
              "      <td>0.11</td>\n",
              "      <td>14.9100</td>\n",
              "      <td>29.655</td>\n",
              "      <td>45.270</td>\n",
              "      <td>119.86</td>\n",
              "    </tr>\n",
              "    <tr>\n",
              "      <th>Fraud</th>\n",
              "      <td>10000.0</td>\n",
              "      <td>0.019200</td>\n",
              "      <td>0.137234</td>\n",
              "      <td>0.00</td>\n",
              "      <td>0.0000</td>\n",
              "      <td>0.000</td>\n",
              "      <td>0.000</td>\n",
              "      <td>1.00</td>\n",
              "    </tr>\n",
              "  </tbody>\n",
              "</table>\n",
              "</div>"
            ],
            "text/plain": [
              "                    count         mean          std      min        25%  \\\n",
              "TransactionID     10000.0  5000.500000  2886.895680     1.00  2500.7500   \n",
              "Amount            10000.0   547.347491   460.047329    10.09   263.2225   \n",
              "MCC               10000.0  5950.102900   664.526287  5261.00  5411.0000   \n",
              "TransactionSpeed  10000.0    30.738446    19.092345     0.11    14.9100   \n",
              "Fraud             10000.0     0.019200     0.137234     0.00     0.0000   \n",
              "\n",
              "                       50%       75%       max  \n",
              "TransactionID     5000.500  7500.250  10000.00  \n",
              "Amount             512.240   759.935   4988.07  \n",
              "MCC               5812.000  5968.000   7299.00  \n",
              "TransactionSpeed    29.655    45.270    119.86  \n",
              "Fraud                0.000     0.000      1.00  "
            ]
          },
          "execution_count": 8,
          "metadata": {},
          "output_type": "execute_result"
        }
      ],
      "source": [
        "# Solo estadísticas para columnas numéricas\n",
        "df.describe().T\n"
      ]
    },
    {
      "cell_type": "markdown",
      "metadata": {},
      "source": [
        "Observamos que no encontramos 0s en las variables numericas de tipo razon, consecuente no se imputaran nulos"
      ]
    },
    {
      "cell_type": "code",
      "execution_count": 9,
      "metadata": {
        "colab": {
          "base_uri": "https://localhost:8080/",
          "height": 237
        },
        "id": "gKhdnAezjNsT",
        "outputId": "fc0b37d1-66ba-4524-f517-b19036cdc3df"
      },
      "outputs": [
        {
          "data": {
            "application/vnd.microsoft.datawrangler.viewer.v0+json": {
              "columns": [
                {
                  "name": "index",
                  "rawType": "object",
                  "type": "string"
                },
                {
                  "name": "count",
                  "rawType": "object",
                  "type": "unknown"
                },
                {
                  "name": "unique",
                  "rawType": "object",
                  "type": "unknown"
                },
                {
                  "name": "top",
                  "rawType": "object",
                  "type": "string"
                },
                {
                  "name": "freq",
                  "rawType": "object",
                  "type": "unknown"
                }
              ],
              "conversionMethod": "pd.DataFrame",
              "ref": "fc5a59e8-0d2b-4cab-9cf2-2d40d981cee9",
              "rows": [
                [
                  "Time",
                  "10000",
                  "10000",
                  "2025-04-23 08:32:15",
                  "1"
                ],
                [
                  "CardholderName",
                  "10000",
                  "9439",
                  "Melissa Davis",
                  "5"
                ],
                [
                  "MerchantName",
                  "10000",
                  "8677",
                  "Smith and Sons",
                  "17"
                ],
                [
                  "Location",
                  "10000",
                  "7697",
                  "West Michael",
                  "14"
                ],
                [
                  "Device",
                  "10000",
                  "4",
                  "Android",
                  "2556"
                ],
                [
                  "IPAddress",
                  "10000",
                  "10000",
                  "84.235.245.188",
                  "1"
                ]
              ],
              "shape": {
                "columns": 4,
                "rows": 6
              }
            },
            "text/html": [
              "<div>\n",
              "<style scoped>\n",
              "    .dataframe tbody tr th:only-of-type {\n",
              "        vertical-align: middle;\n",
              "    }\n",
              "\n",
              "    .dataframe tbody tr th {\n",
              "        vertical-align: top;\n",
              "    }\n",
              "\n",
              "    .dataframe thead th {\n",
              "        text-align: right;\n",
              "    }\n",
              "</style>\n",
              "<table border=\"1\" class=\"dataframe\">\n",
              "  <thead>\n",
              "    <tr style=\"text-align: right;\">\n",
              "      <th></th>\n",
              "      <th>count</th>\n",
              "      <th>unique</th>\n",
              "      <th>top</th>\n",
              "      <th>freq</th>\n",
              "    </tr>\n",
              "  </thead>\n",
              "  <tbody>\n",
              "    <tr>\n",
              "      <th>Time</th>\n",
              "      <td>10000</td>\n",
              "      <td>10000</td>\n",
              "      <td>2025-04-23 08:32:15</td>\n",
              "      <td>1</td>\n",
              "    </tr>\n",
              "    <tr>\n",
              "      <th>CardholderName</th>\n",
              "      <td>10000</td>\n",
              "      <td>9439</td>\n",
              "      <td>Melissa Davis</td>\n",
              "      <td>5</td>\n",
              "    </tr>\n",
              "    <tr>\n",
              "      <th>MerchantName</th>\n",
              "      <td>10000</td>\n",
              "      <td>8677</td>\n",
              "      <td>Smith and Sons</td>\n",
              "      <td>17</td>\n",
              "    </tr>\n",
              "    <tr>\n",
              "      <th>Location</th>\n",
              "      <td>10000</td>\n",
              "      <td>7697</td>\n",
              "      <td>West Michael</td>\n",
              "      <td>14</td>\n",
              "    </tr>\n",
              "    <tr>\n",
              "      <th>Device</th>\n",
              "      <td>10000</td>\n",
              "      <td>4</td>\n",
              "      <td>Android</td>\n",
              "      <td>2556</td>\n",
              "    </tr>\n",
              "    <tr>\n",
              "      <th>IPAddress</th>\n",
              "      <td>10000</td>\n",
              "      <td>10000</td>\n",
              "      <td>84.235.245.188</td>\n",
              "      <td>1</td>\n",
              "    </tr>\n",
              "  </tbody>\n",
              "</table>\n",
              "</div>"
            ],
            "text/plain": [
              "                count unique                  top  freq\n",
              "Time            10000  10000  2025-04-23 08:32:15     1\n",
              "CardholderName  10000   9439        Melissa Davis     5\n",
              "MerchantName    10000   8677       Smith and Sons    17\n",
              "Location        10000   7697         West Michael    14\n",
              "Device          10000      4              Android  2556\n",
              "IPAddress       10000  10000       84.235.245.188     1"
            ]
          },
          "execution_count": 9,
          "metadata": {},
          "output_type": "execute_result"
        }
      ],
      "source": [
        "# Solo columnas categóricas\n",
        "df.select_dtypes(include='object').describe().T\n"
      ]
    },
    {
      "cell_type": "markdown",
      "metadata": {},
      "source": [
        "Identificamos a TrasactionID, como un ID, no una variable (1). MCC como una variable categorica (2). El booleano Fraude, asi mismo tambien es categorica (3). Por ultimo, la fecha no se encuentra en el formato debido (4).\n",
        "\n",
        "Consecuente, se transformara la fecha al formato debido, se exclurira el ID del analisis, y se corregiran los tipos de variables segun su naturaleza"
      ]
    },
    {
      "cell_type": "code",
      "execution_count": null,
      "metadata": {},
      "outputs": [],
      "source": [
        "\n"
      ]
    },
    {
      "cell_type": "code",
      "execution_count": 10,
      "metadata": {},
      "outputs": [
        {
          "name": "stdout",
          "output_type": "stream",
          "text": [
            "numeric_columns: ['Amount', 'TransactionSpeed', 'Time']\n",
            "categorical_columns: ['CardholderName', 'MerchantName', 'Location', 'Device', 'IPAddress', 'MCC', 'Fraud']\n"
          ]
        }
      ],
      "source": [
        "numeric_columns = df.select_dtypes(include=[np.number]).columns.tolist()\n",
        "categorical_columns = df.select_dtypes(exclude=[np.number]).columns.tolist()\n",
        "\n",
        "# (1)\n",
        "if 'TransactionID' in numeric_columns:\n",
        "    # Eliminar 'TransactionID' de las columnas numéricas\n",
        "    numeric_columns.remove('TransactionID')\n",
        "\n",
        "#(2)\n",
        "if 'MCC' in numeric_columns:\n",
        "    # Eliminar 'MCC' de las columnas numéricas\n",
        "    numeric_columns.remove('MCC')\n",
        "    categorical_columns.append('MCC')\n",
        "\n",
        "#(3)\n",
        "if 'Fraud' in numeric_columns:\n",
        "    # Eliminar 'Fraud' de las columnas numéricas\n",
        "    # y agregarla a las columnas categóricas\n",
        "    numeric_columns.remove('Fraud')\n",
        "    categorical_columns.append('Fraud')\n",
        "\n",
        "# (4)\n",
        "df['Time'] = pd.to_datetime(df['Time'])\n",
        "if 'Time' in categorical_columns:\n",
        "    categorical_columns.remove('Time')\n",
        "    numeric_columns.append('Time')\n",
        "\n",
        "print(f'numeric_columns: {numeric_columns}')\n",
        "print(f'categorical_columns: {categorical_columns}')\n"
      ]
    },
    {
      "cell_type": "code",
      "execution_count": 11,
      "metadata": {},
      "outputs": [
        {
          "data": {
            "application/vnd.microsoft.datawrangler.viewer.v0+json": {
              "columns": [
                {
                  "name": "index",
                  "rawType": "object",
                  "type": "string"
                },
                {
                  "name": "Amount",
                  "rawType": "float64",
                  "type": "float"
                },
                {
                  "name": "TransactionSpeed",
                  "rawType": "float64",
                  "type": "float"
                },
                {
                  "name": "Time",
                  "rawType": "object",
                  "type": "unknown"
                }
              ],
              "conversionMethod": "pd.DataFrame",
              "ref": "7899c0dd-4209-40bc-847e-db877b381128",
              "rows": [
                [
                  "count",
                  "10000.0",
                  "10000.0",
                  "10000"
                ],
                [
                  "mean",
                  "547.3474909999999",
                  "30.738446000000003",
                  "2024-10-30 03:27:20.494300160"
                ],
                [
                  "min",
                  "10.09",
                  "0.11",
                  "2024-05-01 07:29:17"
                ],
                [
                  "25%",
                  "263.2225",
                  "14.91",
                  "2024-07-31 11:55:39.500000"
                ],
                [
                  "50%",
                  "512.24",
                  "29.655",
                  "2024-10-30 22:49:50"
                ],
                [
                  "75%",
                  "759.935",
                  "45.27",
                  "2025-01-28 03:57:06.750000128"
                ],
                [
                  "max",
                  "4988.07",
                  "119.86",
                  "2025-05-01 09:39:46"
                ],
                [
                  "std",
                  "460.04732855355854",
                  "19.092344968827817",
                  null
                ]
              ],
              "shape": {
                "columns": 3,
                "rows": 8
              }
            },
            "text/html": [
              "<div>\n",
              "<style scoped>\n",
              "    .dataframe tbody tr th:only-of-type {\n",
              "        vertical-align: middle;\n",
              "    }\n",
              "\n",
              "    .dataframe tbody tr th {\n",
              "        vertical-align: top;\n",
              "    }\n",
              "\n",
              "    .dataframe thead th {\n",
              "        text-align: right;\n",
              "    }\n",
              "</style>\n",
              "<table border=\"1\" class=\"dataframe\">\n",
              "  <thead>\n",
              "    <tr style=\"text-align: right;\">\n",
              "      <th></th>\n",
              "      <th>Amount</th>\n",
              "      <th>TransactionSpeed</th>\n",
              "      <th>Time</th>\n",
              "    </tr>\n",
              "  </thead>\n",
              "  <tbody>\n",
              "    <tr>\n",
              "      <th>count</th>\n",
              "      <td>10000.000000</td>\n",
              "      <td>10000.000000</td>\n",
              "      <td>10000</td>\n",
              "    </tr>\n",
              "    <tr>\n",
              "      <th>mean</th>\n",
              "      <td>547.347491</td>\n",
              "      <td>30.738446</td>\n",
              "      <td>2024-10-30 03:27:20.494300160</td>\n",
              "    </tr>\n",
              "    <tr>\n",
              "      <th>min</th>\n",
              "      <td>10.090000</td>\n",
              "      <td>0.110000</td>\n",
              "      <td>2024-05-01 07:29:17</td>\n",
              "    </tr>\n",
              "    <tr>\n",
              "      <th>25%</th>\n",
              "      <td>263.222500</td>\n",
              "      <td>14.910000</td>\n",
              "      <td>2024-07-31 11:55:39.500000</td>\n",
              "    </tr>\n",
              "    <tr>\n",
              "      <th>50%</th>\n",
              "      <td>512.240000</td>\n",
              "      <td>29.655000</td>\n",
              "      <td>2024-10-30 22:49:50</td>\n",
              "    </tr>\n",
              "    <tr>\n",
              "      <th>75%</th>\n",
              "      <td>759.935000</td>\n",
              "      <td>45.270000</td>\n",
              "      <td>2025-01-28 03:57:06.750000128</td>\n",
              "    </tr>\n",
              "    <tr>\n",
              "      <th>max</th>\n",
              "      <td>4988.070000</td>\n",
              "      <td>119.860000</td>\n",
              "      <td>2025-05-01 09:39:46</td>\n",
              "    </tr>\n",
              "    <tr>\n",
              "      <th>std</th>\n",
              "      <td>460.047329</td>\n",
              "      <td>19.092345</td>\n",
              "      <td>NaN</td>\n",
              "    </tr>\n",
              "  </tbody>\n",
              "</table>\n",
              "</div>"
            ],
            "text/plain": [
              "             Amount  TransactionSpeed                           Time\n",
              "count  10000.000000      10000.000000                          10000\n",
              "mean     547.347491         30.738446  2024-10-30 03:27:20.494300160\n",
              "min       10.090000          0.110000            2024-05-01 07:29:17\n",
              "25%      263.222500         14.910000     2024-07-31 11:55:39.500000\n",
              "50%      512.240000         29.655000            2024-10-30 22:49:50\n",
              "75%      759.935000         45.270000  2025-01-28 03:57:06.750000128\n",
              "max     4988.070000        119.860000            2025-05-01 09:39:46\n",
              "std      460.047329         19.092345                            NaN"
            ]
          },
          "execution_count": 11,
          "metadata": {},
          "output_type": "execute_result"
        }
      ],
      "source": [
        "df[numeric_columns].describe()"
      ]
    },
    {
      "cell_type": "code",
      "execution_count": 12,
      "metadata": {},
      "outputs": [
        {
          "data": {
            "text/plain": [
              "IPAddress         10000\n",
              "CardholderName     9439\n",
              "MerchantName       8677\n",
              "Location           7697\n",
              "MCC                   6\n",
              "Device                4\n",
              "Fraud                 2\n",
              "dtype: int64"
            ]
          },
          "execution_count": 12,
          "metadata": {},
          "output_type": "execute_result"
        }
      ],
      "source": [
        "df[categorical_columns].nunique().sort_values(ascending=False)"
      ]
    },
    {
      "cell_type": "code",
      "execution_count": 13,
      "metadata": {
        "colab": {
          "base_uri": "https://localhost:8080/",
          "height": 774
        },
        "id": "DtzxN7IcirUG",
        "outputId": "4cc929e6-6beb-42b7-f0af-5bdd1cce97d2"
      },
      "outputs": [
        {
          "name": "stdout",
          "output_type": "stream",
          "text": [
            "\n",
            "Distribución de la variable objetivo:\n",
            "Fraud\n",
            "0    9808\n",
            "1     192\n",
            "Name: count, dtype: int64\n"
          ]
        },
        {
          "name": "stderr",
          "output_type": "stream",
          "text": [
            "/tmp/ipykernel_137688/481354949.py:6: FutureWarning: \n",
            "\n",
            "Passing `palette` without assigning `hue` is deprecated and will be removed in v0.14.0. Assign the `x` variable to `hue` and set `legend=False` for the same effect.\n",
            "\n",
            "  sns.countplot(data=df, x='Fraud', palette='pastel')\n"
          ]
        },
        {
          "data": {
            "image/png": "[encoded data removed]",
            "text/plain": [
              "<Figure size 1200x600 with 1 Axes>"
            ]
          },
          "metadata": {},
          "output_type": "display_data"
        }
      ],
      "source": [
        "# Distribución de la variable objetivo (Fraude vs No Fraude)\n",
        "print(\"\\nDistribución de la variable objetivo:\")\n",
        "print(df['Fraud'].value_counts())\n",
        "\n",
        "# Visualización\n",
        "sns.countplot(data=df, x='Fraud', palette='pastel')\n",
        "plt.title(\"Distribución de transacciones fraudulentas vs no fraudulentas\")\n",
        "plt.xlabel(\"0 = No Fraude, 1 = Fraude\")\n",
        "plt.ylabel(\"Cantidad de transacciones\")\n",
        "plt.show()\n"
      ]
    },
    {
      "cell_type": "markdown",
      "metadata": {},
      "source": [
        "Conclusion EDA: Identificamos que la clase 1 (Fraude) de la variable `Fraud` se encuentra submuestreada. Se recomienda implementar metricas que soporten desvalance de clases, o implementar un metodo de sobremuestro en la clase minoritaria para solicitar el desvalance"
      ]
    },
    {
      "cell_type": "code",
      "execution_count": 14,
      "metadata": {
        "colab": {
          "base_uri": "https://localhost:8080/",
          "height": 1000
        },
        "id": "oOY5hYeUi1JD",
        "outputId": "2ea52521-bb60-46a3-e138-8289ac2f9ae9"
      },
      "outputs": [
        {
          "data": {
            "image/png": "[encoded data removed]",
            "text/plain": [
              "<Figure size 1200x600 with 1 Axes>"
            ]
          },
          "metadata": {},
          "output_type": "display_data"
        },
        {
          "data": {
            "image/png": "[encoded data removed]",
            "text/plain": [
              "<Figure size 1200x600 with 1 Axes>"
            ]
          },
          "metadata": {},
          "output_type": "display_data"
        }
      ],
      "source": [
        "# Distribución del monto de transacción\n",
        "sns.histplot(data=df, x='Amount', bins=50, kde=True)\n",
        "plt.title('Distribución del Monto de Transacción')\n",
        "plt.xlabel('Monto')\n",
        "plt.ylabel('Frecuencia')\n",
        "plt.show()\n",
        "\n",
        "# Transacciones según velocidad\n",
        "sns.boxplot(data=df, x='Fraud', y='TransactionSpeed')\n",
        "plt.title('Velocidad de Transacción por Clase')\n",
        "plt.xlabel('Fraude')\n",
        "plt.ylabel('Velocidad')\n",
        "plt.show()\n"
      ]
    },
    {
      "cell_type": "code",
      "execution_count": 15,
      "metadata": {
        "colab": {
          "base_uri": "https://localhost:8080/",
          "height": 865
        },
        "id": "YYAA1v6rlNXp",
        "outputId": "d0620f11-5349-48f6-b35b-53e5ab6bfee1"
      },
      "outputs": [
        {
          "data": {
            "image/png": "[encoded data removed]",
            "text/plain": [
              "<Figure size 1500x1000 with 4 Axes>"
            ]
          },
          "metadata": {},
          "output_type": "display_data"
        }
      ],
      "source": [
        "# Histograma general\n",
        "df[numeric_columns].hist(bins=30, figsize=(15, 10))\n",
        "plt.suptitle(\"Distribución de variables numéricas\")\n",
        "plt.tight_layout()\n",
        "plt.show()\n"
      ]
    },
    {
      "cell_type": "markdown",
      "metadata": {},
      "source": [
        "C2: Eda los datos de las variables AMount y TransactionSpeed se encuentra agruapados hacia la izquierda. Se cuantificara mediante el indicador de asimetria"
      ]
    },
    {
      "cell_type": "code",
      "execution_count": 16,
      "metadata": {},
      "outputs": [
        {
          "data": {
            "image/png": "[encoded data removed]",
            "text/plain": [
              "<Figure size 1200x400 with 2 Axes>"
            ]
          },
          "metadata": {},
          "output_type": "display_data"
        }
      ],
      "source": [
        "# obtener la asimetria de las variables numéricas\n",
        "skewed_columns = {}\n",
        "for col in numeric_columns:\n",
        "    if col == 'Time': # ya que no soportamos la variable de tiempo\n",
        "        continue\n",
        "    skew_val = df[col].skew()\n",
        "    if skew_val > 0.5:\n",
        "        skewed_columns[col] = skew_val\n",
        "\n",
        "# Ordenar por nivel de skew (de menor a mayor)\n",
        "sorted_skews = sorted(skewed_columns.items(), key=lambda x: x[1])\n",
        "\n",
        "# Seleccionar dos columnas: una con skew ≈ 0.6 y otra con skew alto\n",
        "col_low_skew, col_high_skew = sorted_skews[0][0], sorted_skews[-1][0]\n",
        "\n",
        "# Graficar\n",
        "fig, axes = plt.subplots(1, 2, figsize=(12, 4))\n",
        "\n",
        "sns.histplot(df[col_low_skew], kde=True, ax=axes[0], color='skyblue')\n",
        "axes[0].set_title(f'{col_low_skew} (Skew ≈ {skewed_columns[col_low_skew]:.2f})')\n",
        "\n",
        "sns.histplot(df[col_high_skew], kde=True, ax=axes[1], color='salmon')\n",
        "axes[1].set_title(f'{col_high_skew} (Skew ≈ {skewed_columns[col_high_skew]:.2f})')\n",
        "\n",
        "plt.tight_layout()\n",
        "plt.show()\n"
      ]
    },
    {
      "cell_type": "code",
      "execution_count": 17,
      "metadata": {
        "colab": {
          "base_uri": "https://localhost:8080/",
          "height": 549
        },
        "id": "ShAqpymZlZmB",
        "outputId": "19ee455a-74f8-43d4-ebeb-0977900a6ee5"
      },
      "outputs": [
        {
          "data": {
            "image/png": "[encoded data removed]",
            "text/plain": [
              "<Figure size 1000x600 with 2 Axes>"
            ]
          },
          "metadata": {},
          "output_type": "display_data"
        }
      ],
      "source": [
        "# Mapa de calor de correlación\n",
        "plt.figure(figsize=(10, 6))\n",
        "sns.heatmap(df[numeric_columns].corr(), annot=True, cmap='coolwarm', fmt=\".2f\")\n",
        "plt.title(\"Matriz de correlación entre variables numéricas\")\n",
        "plt.show()\n"
      ]
    },
    {
      "cell_type": "code",
      "execution_count": 18,
      "metadata": {
        "colab": {
          "base_uri": "https://localhost:8080/"
        },
        "id": "v4Xm0ESnlh0I",
        "outputId": "0dae15d4-03dc-4570-f004-759c9a04cdfa"
      },
      "outputs": [
        {
          "name": "stdout",
          "output_type": "stream",
          "text": [
            "Amount: 150 valores atípicos detectados\n",
            "TransactionSpeed: 99 valores atípicos detectados\n"
          ]
        }
      ],
      "source": [
        "# Detección de valores atípicos por IQR\n",
        "for col in ['Amount', 'TransactionSpeed']:\n",
        "    Q1 = df[col].quantile(0.25)\n",
        "    Q3 = df[col].quantile(0.75)\n",
        "    IQR = Q3 - Q1\n",
        "    outliers = df[(df[col] < Q1 - 1.5*IQR) | (df[col] > Q3 + 1.5*IQR)]\n",
        "    print(f'{col}: {len(outliers)} valores atípicos detectados')\n"
      ]
    },
    {
      "cell_type": "code",
      "execution_count": 19,
      "metadata": {
        "colab": {
          "base_uri": "https://localhost:8080/",
          "height": 483
        },
        "id": "hdi5yuRJumwZ",
        "outputId": "9b619948-7bf7-4fee-a17e-e1fb9d70722a"
      },
      "outputs": [
        {
          "data": {
            "image/png": "[encoded data removed]",
            "text/plain": [
              "<Figure size 1200x500 with 1 Axes>"
            ]
          },
          "metadata": {},
          "output_type": "display_data"
        }
      ],
      "source": [
        "# Estilo\n",
        "sns.set(style=\"whitegrid\", context=\"talk\", palette=\"pastel\")\n",
        "\n",
        "# Gráfico\n",
        "plt.figure(figsize=(12, 5))\n",
        "sns.boxplot(x='Amount', data=df, color=\"#69b3a2\", width=0.5)\n",
        "plt.title('Distribución del Monto de Transacción (Amount)', fontsize=16, weight='bold', color=\"#333333\")\n",
        "plt.xlabel('Amount', fontsize=13)\n",
        "plt.tick_params(axis='x', labelsize=12)\n",
        "plt.grid(axis='x', linestyle='--', alpha=0.5)\n",
        "plt.tight_layout()\n",
        "plt.show()\n",
        "\n"
      ]
    },
    {
      "cell_type": "code",
      "execution_count": 20,
      "metadata": {
        "colab": {
          "base_uri": "https://localhost:8080/",
          "height": 483
        },
        "id": "mPdIocWzurNq",
        "outputId": "3ff5ad15-ed24-4313-d695-c99ef65eab80"
      },
      "outputs": [
        {
          "data": {
            "image/png": "[encoded data removed]",
            "text/plain": [
              "<Figure size 1200x500 with 1 Axes>"
            ]
          },
          "metadata": {},
          "output_type": "display_data"
        }
      ],
      "source": [
        "plt.figure(figsize=(12, 5))\n",
        "sns.boxplot(x='TransactionSpeed', data=df, color=\"#ffcccb\", width=0.5)\n",
        "plt.title('Distribución de la Velocidad de Transacción (TransactionSpeed)', fontsize=16, weight='bold', color=\"#333333\")\n",
        "plt.xlabel('TransactionSpeed', fontsize=13)\n",
        "plt.tick_params(axis='x', labelsize=12)\n",
        "plt.grid(axis='x', linestyle='--', alpha=0.5)\n",
        "plt.tight_layout()\n",
        "plt.show()\n",
        "\n"
      ]
    },
    {
      "cell_type": "code",
      "execution_count": 21,
      "metadata": {
        "colab": {
          "base_uri": "https://localhost:8080/",
          "height": 931
        },
        "id": "WpRNX-cRve2L",
        "outputId": "fa80a021-bb91-4265-e4b6-e6525c06b36d"
      },
      "outputs": [
        {
          "name": "stderr",
          "output_type": "stream",
          "text": [
            "/tmp/ipykernel_137688/907004597.py:5: FutureWarning: \n",
            "\n",
            "Passing `palette` without assigning `hue` is deprecated and will be removed in v0.14.0. Assign the `x` variable to `hue` and set `legend=False` for the same effect.\n",
            "\n",
            "  sns.boxplot(data=df, x='Fraud', y=col, palette=colors)\n"
          ]
        },
        {
          "data": {
            "image/png": "[encoded data removed]",
            "text/plain": [
              "<Figure size 800x400 with 1 Axes>"
            ]
          },
          "metadata": {},
          "output_type": "display_data"
        },
        {
          "name": "stderr",
          "output_type": "stream",
          "text": [
            "/tmp/ipykernel_137688/907004597.py:5: FutureWarning: \n",
            "\n",
            "Passing `palette` without assigning `hue` is deprecated and will be removed in v0.14.0. Assign the `x` variable to `hue` and set `legend=False` for the same effect.\n",
            "\n",
            "  sns.boxplot(data=df, x='Fraud', y=col, palette=colors)\n"
          ]
        },
        {
          "data": {
            "image/png": "[encoded data removed]",
            "text/plain": [
              "<Figure size 800x400 with 1 Axes>"
            ]
          },
          "metadata": {},
          "output_type": "display_data"
        }
      ],
      "source": [
        "colors = ['#88c9bf', '#fcbf49']  # tonos suaves para comparativa\n",
        "\n",
        "for col in ['Amount', 'TransactionSpeed']:\n",
        "    plt.figure(figsize=(8, 4))\n",
        "    sns.boxplot(data=df, x='Fraud', y=col, palette=colors)\n",
        "    plt.title(f'Distribución de {col} según Clase de Fraude', fontsize=16, weight='bold', color=\"#333333\")\n",
        "    plt.xlabel('Fraude (0 = No, 1 = Sí)', fontsize=13)\n",
        "    plt.ylabel(col, fontsize=13)\n",
        "    plt.grid(axis='y', linestyle='--', alpha=0.6)\n",
        "    plt.tight_layout()\n",
        "    plt.show()\n"
      ]
    },
    {
      "cell_type": "code",
      "execution_count": 22,
      "metadata": {},
      "outputs": [],
      "source": [
        "df.to_csv(data_path + 'credit_card_transactions_cleaned.csv', index=False)\n"
      ]
    },
    {
      "cell_type": "markdown",
      "metadata": {
        "id": "euBimCb9v22p"
      },
      "source": [
        "## **Preprocesamiento de Datos**"
      ]
    },
    {
      "cell_type": "code",
      "execution_count": 23,
      "metadata": {},
      "outputs": [
        {
          "data": {
            "text/plain": [
              "{'ip': '102.247.49.50',\n",
              " 'city': 'Douala',\n",
              " 'region': 'Littoral',\n",
              " 'country': 'CM',\n",
              " 'loc': '4.0483,9.7043',\n",
              " 'org': 'AS36912 Orange Cameroun SA',\n",
              " 'timezone': 'Africa/Douala',\n",
              " 'readme': 'https://ipinfo.io/missingauth'}"
            ]
          },
          "execution_count": 23,
          "metadata": {},
          "output_type": "execute_result"
        }
      ],
      "source": [
        "import requests\n",
        "\n",
        "def get_ip_info(ip):\n",
        "    response = requests.get(f'https://ipinfo.io/{ip}/json')\n",
        "    \n",
        "    # Si la solicitud fue exitosa\n",
        "    if response.status_code == 200:\n",
        "        data = response.json()\n",
        "        return data\n",
        "    else:\n",
        "        return None\n",
        "\n",
        "ip = df['IPAddress'].iloc[0]  \n",
        "info = get_ip_info(ip)\n",
        "info\n",
        "\n"
      ]
    },
    {
      "cell_type": "code",
      "execution_count": 24,
      "metadata": {},
      "outputs": [
        {
          "data": {
            "text/plain": [
              "(55.0091836, -2.9713566)"
            ]
          },
          "execution_count": 24,
          "metadata": {},
          "output_type": "execute_result"
        }
      ],
      "source": [
        "def geocode_location(location_name):\n",
        "    url = 'https://nominatim.openstreetmap.org/search'\n",
        "    params = {'q': location_name, 'format': 'json'}\n",
        "    headers = {'User-Agent': 'geo-script'}\n",
        "    res = requests.get(url, params=params, headers=headers)\n",
        "    if res.status_code == 200 and res.json():\n",
        "        data = res.json()[0]\n",
        "        return float(data['lat']), float(data['lon'])\n",
        "    return None\n",
        "geocode_location(df['Location'].iloc[0])  # Cambia el índice según sea necesario"
      ]
    },
    {
      "cell_type": "code",
      "execution_count": 25,
      "metadata": {},
      "outputs": [],
      "source": [
        "from math import radians, sin, cos, sqrt, atan2\n",
        "\n",
        "def haversine(lat1, lon1, lat2, lon2):\n",
        "    R = 6371  # km\n",
        "    dlat = radians(lat2 - lat1)\n",
        "    dlon = radians(lon2 - lon1)\n",
        "    a = sin(dlat/2)**2 + cos(radians(lat1)) * cos(radians(lat2)) * sin(dlon/2)**2\n",
        "    c = 2 * atan2(sqrt(a), sqrt(1 - a))\n",
        "    return R * c"
      ]
    },
    {
      "cell_type": "code",
      "execution_count": 26,
      "metadata": {},
      "outputs": [
        {
          "name": "stdout",
          "output_type": "stream",
          "text": [
            "Coordenadas IP: 4.0483, 9.7043\n",
            "Distancia: 5780.13 km\n"
          ]
        }
      ],
      "source": [
        "ip = df['IPAddress'].iloc[0]  \n",
        "ip_data = get_ip_info(ip)\n",
        "if ip_data:\n",
        "    lat_ip, lon_ip = map(float, ip_data['loc'].split(','))\n",
        "    print(f\"Coordenadas IP: {lat_ip}, {lon_ip}\")\n",
        "\n",
        "location_str = df['Location'][0]\n",
        "loc_coords = geocode_location(location_str)\n",
        "\n",
        "\n",
        "if loc_coords:\n",
        "    lat_city, lon_city = loc_coords\n",
        "    distance = haversine(lat_ip, lon_ip, lat_city, lon_city)\n",
        "    print(f\"Distancia: {distance:.2f} km\")\n",
        "else:\n",
        "    print(\"No se pudo geocodificar la ubicación.\")\n",
        "\n",
        "\n"
      ]
    },
    {
      "cell_type": "code",
      "execution_count": 2,
      "metadata": {},
      "outputs": [
        {
          "name": "stdout",
          "output_type": "stream",
          "text": [
            "Requirement already satisfied: tqdm in /home/rosewt-dell/Documentos/GitHub/MachineLearning_Cripto/.conda/lib/python3.11/site-packages (4.67.1)\n"
          ]
        }
      ],
      "source": [
        "!pip install tqdm"
      ]
    },
    {
      "cell_type": "code",
      "execution_count": 27,
      "metadata": {},
      "outputs": [
        {
          "name": "stderr",
          "output_type": "stream",
          "text": [
            "Enriqueciendo IPs: 100%|██████████| 10000/10000 [2:54:59<00:00,  1.05s/it] \n"
          ]
        }
      ],
      "source": [
        "import pandas as pd\n",
        "import requests\n",
        "from math import radians, sin, cos, sqrt, atan2\n",
        "from tqdm import tqdm\n",
        "\n",
        "# === Funciones base ===\n",
        "def get_ip_info(ip):\n",
        "    try:\n",
        "        response = requests.get(f'https://ipinfo.io/{ip}/json', timeout=5)\n",
        "        if response.status_code == 200:\n",
        "            return response.json()\n",
        "    except:\n",
        "        pass\n",
        "    return {}\n",
        "\n",
        "def geocode_location(location_name):\n",
        "    try:\n",
        "        url = 'https://nominatim.openstreetmap.org/search'\n",
        "        params = {'q': location_name, 'format': 'json'}\n",
        "        headers = {'User-Agent': 'geo-script'}\n",
        "        res = requests.get(url, params=params, headers=headers, timeout=5)\n",
        "        if res.status_code == 200 and res.json():\n",
        "            data = res.json()[0]\n",
        "            return float(data['lat']), float(data['lon'])\n",
        "    except:\n",
        "        pass\n",
        "    return None\n",
        "\n",
        "def haversine(lat1, lon1, lat2, lon2):\n",
        "    R = 6371\n",
        "    dlat = radians(lat2 - lat1)\n",
        "    dlon = radians(lon2 - lon1)\n",
        "    a = sin(dlat/2)**2 + cos(radians(lat1)) * cos(radians(lat2)) * sin(dlon/2)**2\n",
        "    c = 2 * atan2(sqrt(a), sqrt(1 - a))\n",
        "    return R * c\n",
        "\n",
        "# === Preparar columnas ===\n",
        "cities, countries, orgs, locs, timezones, distances = [], [], [], [], [], []\n",
        "\n",
        "from collections import defaultdict\n",
        "\n",
        "ip_cache = {}\n",
        "geo_cache = {}\n",
        "\n",
        "for i, row in tqdm(df.iterrows(), total=len(df), desc=\"Enriqueciendo IPs\"):\n",
        "    ip = row['IPAddress']\n",
        "    location_str = row['Location']\n",
        "\n",
        "    # Cacheo de IP\n",
        "    if ip in ip_cache:\n",
        "        ip_data = ip_cache[ip]\n",
        "    else:\n",
        "        ip_data = get_ip_info(ip)\n",
        "        ip_cache[ip] = ip_data\n",
        "\n",
        "    # Cacheo de ciudad\n",
        "    if location_str in geo_cache:\n",
        "        loc_coords = geo_cache[location_str]\n",
        "    else:\n",
        "        loc_coords = geocode_location(location_str)\n",
        "        geo_cache[location_str] = loc_coords\n",
        "\n",
        "\n",
        "    # Extraer info básica\n",
        "    cities.append(ip_data.get('city'))\n",
        "    countries.append(ip_data.get('country'))\n",
        "    orgs.append(ip_data.get('org'))\n",
        "    locs.append(ip_data.get('loc'))\n",
        "    timezones.append(ip_data.get('timezone'))\n",
        "\n",
        "    # Calcular distancia si es posible\n",
        "    if ip_data.get('loc') and loc_coords:\n",
        "        try:\n",
        "            lat_ip, lon_ip = map(float, ip_data['loc'].split(','))\n",
        "            lat_city, lon_city = loc_coords\n",
        "            dist = haversine(lat_ip, lon_ip, lat_city, lon_city)\n",
        "            distances.append(dist)\n",
        "        except:\n",
        "            distances.append(None)\n",
        "    else:\n",
        "        distances.append(None)\n",
        "\n",
        "# === Agregar al DataFrame ===\n",
        "df['IP_City'] = cities\n",
        "df['IP_Country'] = countries\n",
        "df['IP_Org'] = orgs\n",
        "df['IP_Coords'] = locs\n",
        "df['IP_Timezone'] = timezones\n",
        "df['Distancia_km'] = distances\n"
      ]
    },
    {
      "cell_type": "code",
      "execution_count": 28,
      "metadata": {},
      "outputs": [],
      "source": [
        "df.to_csv(data_path + 'credit_card_transactions_enriched.csv', index=False)"
      ]
    },
    {
      "cell_type": "code",
      "execution_count": null,
      "metadata": {
        "colab": {
          "base_uri": "https://localhost:8080/"
        },
        "id": "vzcjNEdQwwyg",
        "outputId": "899e5160-a478-4196-d586-e5e7d9c8f0a0"
      },
      "outputs": [
        {
          "name": "stdout",
          "output_type": "stream",
          "text": [
            " Variable 'ip_matches_location' creada. Ejemplos:\n",
            "             Location        IPAddress  ip_matches_location\n",
            "0            Longtown    102.247.49.50                    0\n",
            "1           Woodsland     153.157.50.7                    0\n",
            "2         Jessicatown  151.174.154.123                    0\n",
            "3  North Krystalburgh    130.70.79.149                    0\n",
            "4   East Danielletown   195.136.16.190                    0\n"
          ]
        }
      ],
      "source": [
        "# Crear columna booleana: ¿la IP contiene la ubicación?\n",
        "df['Location_clean'] = df['Location'].str.lower()\n",
        "df['IPAddress_clean'] = df['IPAddress'].str.lower()\n",
        "\n",
        "df['ip_matches_location'] = df.apply(\n",
        "    lambda row: 1 if row['Location_clean'] in row['IPAddress_clean'] else 0,\n",
        "    axis=1\n",
        ")"
      ]
    },
    {
      "cell_type": "code",
      "execution_count": null,
      "metadata": {
        "colab": {
          "base_uri": "https://localhost:8080/"
        },
        "id": "8BqLGoZ-yaJW",
        "outputId": "63a1ee0a-dd00-482c-8a95-f6c6bce0caf7"
      },
      "outputs": [
        {
          "name": "stdout",
          "output_type": "stream",
          "text": [
            "Variables para modelado: ['Time', 'Amount', 'MCC', 'Location', 'Device', 'TransactionSpeed', 'Fraud', 'ip_matches_location']\n"
          ]
        }
      ],
      "source": [
        "# Eliminamos columnas irrelevantes o redundantes\n",
        "df_model = df.drop(columns=['TransactionID', 'CardholderName', 'MerchantName', 'IPAddress'])\n",
        "\n",
        "# Incluimos la nueva variable creada\n",
        "df_model['ip_matches_location'] = df['ip_matches_location']\n",
        "\n",
        "# Verificamos columnas finales\n",
        "print(\"Variables para modelado:\", df_model.columns.tolist())\n"
      ]
    },
    {
      "cell_type": "code",
      "execution_count": null,
      "metadata": {
        "colab": {
          "base_uri": "https://localhost:8080/"
        },
        "id": "zF6Nw19JyfBY",
        "outputId": "47cbccab-26bf-403e-bc53-686529e91e97"
      },
      "outputs": [
        {
          "name": "stdout",
          "output_type": "stream",
          "text": [
            "Variables categóricas codificadas con LabelEncoder.\n",
            "   Device  Location\n",
            "0       0      3302\n",
            "1       1      7656\n",
            "2       3      2310\n",
            "3       0      4645\n",
            "4       0      1155\n"
          ]
        }
      ],
      "source": [
        "from sklearn.preprocessing import LabelEncoder\n",
        "\n",
        "label_cols = ['Device', 'Location']\n",
        "label_encoders = {}\n",
        "\n",
        "for col in label_cols:\n",
        "    le = LabelEncoder()\n",
        "    df_model[col] = le.fit_transform(df_model[col].astype(str))\n",
        "    label_encoders[col] = le\n",
        "\n",
        "print(\"Variables categóricas codificadas con LabelEncoder.\")\n",
        "print(df_model[label_cols].head())\n"
      ]
    },
    {
      "cell_type": "code",
      "execution_count": null,
      "metadata": {
        "colab": {
          "base_uri": "https://localhost:8080/",
          "height": 143
        },
        "id": "tPMdPI9nyme3",
        "outputId": "171235e2-798f-40be-c291-5c80c3d9bea7"
      },
      "outputs": [
        {
          "data": {
            "application/vnd.microsoft.datawrangler.viewer.v0+json": {
              "columns": [
                {
                  "name": "index",
                  "rawType": "object",
                  "type": "string"
                },
                {
                  "name": "count",
                  "rawType": "float64",
                  "type": "float"
                },
                {
                  "name": "mean",
                  "rawType": "float64",
                  "type": "float"
                },
                {
                  "name": "std",
                  "rawType": "float64",
                  "type": "float"
                },
                {
                  "name": "min",
                  "rawType": "float64",
                  "type": "float"
                },
                {
                  "name": "25%",
                  "rawType": "float64",
                  "type": "float"
                },
                {
                  "name": "50%",
                  "rawType": "float64",
                  "type": "float"
                },
                {
                  "name": "75%",
                  "rawType": "float64",
                  "type": "float"
                },
                {
                  "name": "max",
                  "rawType": "float64",
                  "type": "float"
                }
              ],
              "conversionMethod": "pd.DataFrame",
              "ref": "8ac682ef-760e-49a0-a34a-17ef475bfca7",
              "rows": [
                [
                  "Amount",
                  "10000.0",
                  "2.6147972675971686e-16",
                  "1.0000500037503124",
                  "-1.167889307343044",
                  "-0.6176303625291631",
                  "-0.0763165968523313",
                  "0.46212232085153626",
                  "9.653234104722193"
                ],
                [
                  "TransactionSpeed",
                  "10000.0",
                  "-1.70174985214544e-16",
                  "1.0000500037503124",
                  "-1.6043067306386927",
                  "-0.8290881768324483",
                  "-0.05675050278697048",
                  "0.7611574511106314",
                  "4.668154203030075"
                ],
                [
                  "MCC",
                  "10000.0",
                  "1.787014980436652e-16",
                  "1.0000500037503126",
                  "-1.0370355112750402",
                  "-0.8112995193190405",
                  "-0.20783196749000135",
                  "0.026933464144238355",
                  "2.0299641661004757"
                ]
              ],
              "shape": {
                "columns": 8,
                "rows": 3
              }
            },
            "text/html": [
              "<div>\n",
              "<style scoped>\n",
              "    .dataframe tbody tr th:only-of-type {\n",
              "        vertical-align: middle;\n",
              "    }\n",
              "\n",
              "    .dataframe tbody tr th {\n",
              "        vertical-align: top;\n",
              "    }\n",
              "\n",
              "    .dataframe thead th {\n",
              "        text-align: right;\n",
              "    }\n",
              "</style>\n",
              "<table border=\"1\" class=\"dataframe\">\n",
              "  <thead>\n",
              "    <tr style=\"text-align: right;\">\n",
              "      <th></th>\n",
              "      <th>count</th>\n",
              "      <th>mean</th>\n",
              "      <th>std</th>\n",
              "      <th>min</th>\n",
              "      <th>25%</th>\n",
              "      <th>50%</th>\n",
              "      <th>75%</th>\n",
              "      <th>max</th>\n",
              "    </tr>\n",
              "  </thead>\n",
              "  <tbody>\n",
              "    <tr>\n",
              "      <th>Amount</th>\n",
              "      <td>10000.0</td>\n",
              "      <td>2.614797e-16</td>\n",
              "      <td>1.00005</td>\n",
              "      <td>-1.167889</td>\n",
              "      <td>-0.617630</td>\n",
              "      <td>-0.076317</td>\n",
              "      <td>0.462122</td>\n",
              "      <td>9.653234</td>\n",
              "    </tr>\n",
              "    <tr>\n",
              "      <th>TransactionSpeed</th>\n",
              "      <td>10000.0</td>\n",
              "      <td>-1.701750e-16</td>\n",
              "      <td>1.00005</td>\n",
              "      <td>-1.604307</td>\n",
              "      <td>-0.829088</td>\n",
              "      <td>-0.056751</td>\n",
              "      <td>0.761157</td>\n",
              "      <td>4.668154</td>\n",
              "    </tr>\n",
              "    <tr>\n",
              "      <th>MCC</th>\n",
              "      <td>10000.0</td>\n",
              "      <td>1.787015e-16</td>\n",
              "      <td>1.00005</td>\n",
              "      <td>-1.037036</td>\n",
              "      <td>-0.811300</td>\n",
              "      <td>-0.207832</td>\n",
              "      <td>0.026933</td>\n",
              "      <td>2.029964</td>\n",
              "    </tr>\n",
              "  </tbody>\n",
              "</table>\n",
              "</div>"
            ],
            "text/plain": [
              "                    count          mean      std       min       25%  \\\n",
              "Amount            10000.0  2.614797e-16  1.00005 -1.167889 -0.617630   \n",
              "TransactionSpeed  10000.0 -1.701750e-16  1.00005 -1.604307 -0.829088   \n",
              "MCC               10000.0  1.787015e-16  1.00005 -1.037036 -0.811300   \n",
              "\n",
              "                       50%       75%       max  \n",
              "Amount           -0.076317  0.462122  9.653234  \n",
              "TransactionSpeed -0.056751  0.761157  4.668154  \n",
              "MCC              -0.207832  0.026933  2.029964  "
            ]
          },
          "execution_count": 50,
          "metadata": {},
          "output_type": "execute_result"
        }
      ],
      "source": [
        "from sklearn.preprocessing import StandardScaler\n",
        "\n",
        "# Variables numéricas a escalar\n",
        "numeric_cols = ['Amount', 'TransactionSpeed', 'MCC']\n",
        "\n",
        "# Escalamos usando StandardScaler\n",
        "scaler = StandardScaler()\n",
        "df_model[numeric_cols] = scaler.fit_transform(df_model[numeric_cols])\n",
        "\n",
        "# Revisión rápida\n",
        "df_model[numeric_cols].describe().T\n"
      ]
    },
    {
      "cell_type": "code",
      "execution_count": null,
      "metadata": {
        "colab": {
          "base_uri": "https://localhost:8080/"
        },
        "id": "PO3v2jeVytE_",
        "outputId": "c32ecb37-60cd-4e4c-c666-619ba17955ab"
      },
      "outputs": [
        {
          "name": "stdout",
          "output_type": "stream",
          "text": [
            "Entrenamiento: (7000, 7), Validación: (1500, 7), Prueba: (1500, 7)\n"
          ]
        }
      ],
      "source": [
        "from sklearn.model_selection import train_test_split\n",
        "\n",
        "# Variables independientes (X) y objetivo (y)\n",
        "X = df_model.drop(columns=['Fraud'])\n",
        "y = df_model['Fraud']\n",
        "\n",
        "# Primera división: entrenamiento y temporal\n",
        "X_train, X_temp, y_train, y_temp = train_test_split(\n",
        "    X, y, test_size=0.30, random_state=42, stratify=y)\n",
        "\n",
        "# Segunda división: validación y prueba\n",
        "X_val, X_test, y_val, y_test = train_test_split(\n",
        "    X_temp, y_temp, test_size=0.5, random_state=42, stratify=y_temp)\n",
        "\n",
        "# Verificar tamaños\n",
        "print(f\"Entrenamiento: {X_train.shape}, Validación: {X_val.shape}, Prueba: {X_test.shape}\")\n"
      ]
    },
    {
      "cell_type": "code",
      "execution_count": null,
      "metadata": {
        "id": "sjJUV5vfzAc4"
      },
      "outputs": [],
      "source": [
        "# Eliminar Time del conjunto de datos antes de aplicar SMOTE\n",
        "X = df_model.drop(columns=['Fraud', 'Time'])  # Quitamos Time aquí\n",
        "y = df_model['Fraud']\n"
      ]
    },
    {
      "cell_type": "code",
      "execution_count": null,
      "metadata": {
        "id": "1INr4pNKzCg4"
      },
      "outputs": [],
      "source": [
        "# División 70-15-15 con columna Time eliminada\n",
        "X_train, X_temp, y_train, y_temp = train_test_split(X, y, test_size=0.30, random_state=42, stratify=y)\n",
        "X_val, X_test, y_val, y_test = train_test_split(X_temp, y_temp, test_size=0.5, random_state=42, stratify=y_temp)\n"
      ]
    },
    {
      "cell_type": "code",
      "execution_count": null,
      "metadata": {
        "id": "pnAarhta1FL1"
      },
      "outputs": [
        {
          "ename": "NameError",
          "evalue": "name 'SMOTE' is not defined",
          "output_type": "error",
          "traceback": [
            "\u001b[31m---------------------------------------------------------------------------\u001b[39m",
            "\u001b[31mNameError\u001b[39m                                 Traceback (most recent call last)",
            "\u001b[36mCell\u001b[39m\u001b[36m \u001b[39m\u001b[32mIn[54]\u001b[39m\u001b[32m, line 1\u001b[39m\n\u001b[32m----> \u001b[39m\u001b[32m1\u001b[39m smote = \u001b[43mSMOTE\u001b[49m(random_state=\u001b[32m42\u001b[39m)\n\u001b[32m      2\u001b[39m X_train_bal, y_train_bal = smote.fit_resample(X_train, y_train)\n",
            "\u001b[31mNameError\u001b[39m: name 'SMOTE' is not defined"
          ]
        }
      ],
      "source": [
        "smote = SMOTE(random_state=42)\n",
        "X_train_bal, y_train_bal = smote.fit_resample(X_train, y_train)\n"
      ]
    },
    {
      "cell_type": "code",
      "execution_count": null,
      "metadata": {
        "colab": {
          "base_uri": "https://localhost:8080/"
        },
        "id": "3UwXVXwO1JNt",
        "outputId": "3498a07e-7811-45b6-ba34-bf3ecefec996"
      },
      "outputs": [
        {
          "name": "stdout",
          "output_type": "stream",
          "text": [
            " División de datos completada:\n",
            "- Entrenamiento: (7000, 6)\n",
            "- Validación:   (1500, 6)\n",
            "- Prueba:       (1500, 6)\n",
            "\n",
            " Distribución de clases en entrenamiento (antes de SMOTE):\n",
            "Fraud\n",
            "0    6866\n",
            "1     134\n",
            "Name: count, dtype: int64\n",
            "\n",
            " Clases balanceadas con SMOTE (entrenamiento):\n",
            "Fraud\n",
            "0    6866\n",
            "1    6866\n",
            "Name: count, dtype: int64\n"
          ]
        }
      ],
      "source": [
        "# Eliminar Time\n",
        "X = df_model.drop(columns=['Fraud', 'Time'])\n",
        "y = df_model['Fraud']\n",
        "\n",
        "# División de datos\n",
        "X_train, X_temp, y_train, y_temp = train_test_split(X, y, test_size=0.30, random_state=42, stratify=y)\n",
        "X_val, X_test, y_val, y_test = train_test_split(X_temp, y_temp, test_size=0.5, random_state=42, stratify=y_temp)\n",
        "\n",
        "print(\" División de datos completada:\")\n",
        "print(f\"- Entrenamiento: {X_train.shape}\")\n",
        "print(f\"- Validación:   {X_val.shape}\")\n",
        "print(f\"- Prueba:       {X_test.shape}\")\n",
        "\n",
        "# Ver distribución antes del balanceo\n",
        "print(\"\\n Distribución de clases en entrenamiento (antes de SMOTE):\")\n",
        "print(y_train.value_counts())\n",
        "\n",
        "# Aplicar SMOTE\n",
        "smote = SMOTE(random_state=42)\n",
        "X_train_bal, y_train_bal = smote.fit_resample(X_train, y_train)\n",
        "\n",
        "# Ver distribución después del balanceo\n",
        "print(\"\\n Clases balanceadas con SMOTE (entrenamiento):\")\n",
        "print(y_train_bal.value_counts())\n"
      ]
    },
    {
      "cell_type": "markdown",
      "metadata": {
        "id": "9qC4DHOQ1TwV"
      },
      "source": [
        "**Modelado:**"
      ]
    },
    {
      "cell_type": "code",
      "execution_count": null,
      "metadata": {
        "colab": {
          "base_uri": "https://localhost:8080/"
        },
        "id": "JorB6wcK1TWV",
        "outputId": "24e42da3-650c-4378-aaa3-8cd322ae3fc4"
      },
      "outputs": [
        {
          "name": "stdout",
          "output_type": "stream",
          "text": [
            "Clasificador Naive Bayes Gaussiano — Resultados en el conjunto de prueba\n",
            "[[1471    0]\n",
            " [   3   26]]\n",
            "              precision    recall  f1-score   support\n",
            "\n",
            "           0     0.9980    1.0000    0.9990      1471\n",
            "           1     1.0000    0.8966    0.9455        29\n",
            "\n",
            "    accuracy                         0.9980      1500\n",
            "   macro avg     0.9990    0.9483    0.9722      1500\n",
            "weighted avg     0.9980    0.9980    0.9979      1500\n",
            "\n"
          ]
        }
      ],
      "source": [
        "from sklearn.naive_bayes import GaussianNB\n",
        "from sklearn.metrics import classification_report, confusion_matrix\n",
        "\n",
        "# Entrenamiento del modelo con datos balanceados (SMOTE)\n",
        "nb_model = GaussianNB()\n",
        "nb_model.fit(X_train_bal, y_train_bal)\n",
        "\n",
        "# Predicción en conjunto de prueba\n",
        "y_pred_nb = nb_model.predict(X_test)\n",
        "\n",
        "# Evaluación del modelo\n",
        "print(\"Clasificador Naive Bayes Gaussiano — Resultados en el conjunto de prueba\")\n",
        "print(confusion_matrix(y_test, y_pred_nb))\n",
        "print(classification_report(y_test, y_pred_nb, digits=4))\n"
      ]
    },
    {
      "cell_type": "code",
      "execution_count": null,
      "metadata": {
        "colab": {
          "base_uri": "https://localhost:8080/"
        },
        "id": "gSj4QUKj11l8",
        "outputId": "f2102fa0-8f0e-4b9c-e332-1ba72b84f561"
      },
      "outputs": [
        {
          "name": "stdout",
          "output_type": "stream",
          "text": [
            "Perceptrón Multicapa (MLP) — Resultados en el conjunto de prueba\n",
            "[[1466    5]\n",
            " [   2   27]]\n",
            "              precision    recall  f1-score   support\n",
            "\n",
            "           0     0.9986    0.9966    0.9976      1471\n",
            "           1     0.8438    0.9310    0.8852        29\n",
            "\n",
            "    accuracy                         0.9953      1500\n",
            "   macro avg     0.9212    0.9638    0.9414      1500\n",
            "weighted avg     0.9956    0.9953    0.9954      1500\n",
            "\n"
          ]
        }
      ],
      "source": [
        "from sklearn.neural_network import MLPClassifier\n",
        "\n",
        "# Crear MLP con 1 capa oculta de 16 neuronas\n",
        "mlp_model = MLPClassifier(hidden_layer_sizes=(16,), activation='relu',\n",
        "                          solver='adam', max_iter=300, random_state=42)\n",
        "\n",
        "# Entrenar con datos balanceados\n",
        "mlp_model.fit(X_train_bal, y_train_bal)\n",
        "\n",
        "# Predicción\n",
        "y_pred_mlp = mlp_model.predict(X_test)\n",
        "\n",
        "# Evaluación\n",
        "print(\"Perceptrón Multicapa (MLP) — Resultados en el conjunto de prueba\")\n",
        "print(confusion_matrix(y_test, y_pred_mlp))\n",
        "print(classification_report(y_test, y_pred_mlp, digits=4))\n"
      ]
    },
    {
      "cell_type": "code",
      "execution_count": null,
      "metadata": {
        "colab": {
          "base_uri": "https://localhost:8080/"
        },
        "id": "a-rEkvtu2BAb",
        "outputId": "d8291687-7520-4834-e648-43cf0928e272"
      },
      "outputs": [
        {
          "name": "stdout",
          "output_type": "stream",
          "text": [
            "Mejores hiperparámetros encontrados para MLP:\n",
            "{'activation': 'relu', 'hidden_layer_sizes': (16, 8), 'max_iter': 300, 'solver': 'adam'}\n",
            "Mejor MLP — Resultados en el conjunto de prueba\n",
            "[[1468    3]\n",
            " [   2   27]]\n",
            "              precision    recall  f1-score   support\n",
            "\n",
            "           0     0.9986    0.9980    0.9983      1471\n",
            "           1     0.9000    0.9310    0.9153        29\n",
            "\n",
            "    accuracy                         0.9967      1500\n",
            "   macro avg     0.9493    0.9645    0.9568      1500\n",
            "weighted avg     0.9967    0.9967    0.9967      1500\n",
            "\n"
          ]
        }
      ],
      "source": [
        "from sklearn.model_selection import GridSearchCV\n",
        "\n",
        "# Definimos una pequeña grilla de búsqueda\n",
        "param_grid = {\n",
        "    'hidden_layer_sizes': [(8,), (16,), (32,), (16, 8)],\n",
        "    'activation': ['relu', 'tanh'],\n",
        "    'solver': ['adam'],\n",
        "    'max_iter': [300]\n",
        "}\n",
        "\n",
        "# GridSearch sobre el conjunto de entrenamiento balanceado\n",
        "mlp_grid = GridSearchCV(MLPClassifier(random_state=42), param_grid, cv=3, scoring='f1', n_jobs=-1)\n",
        "mlp_grid.fit(X_train_bal, y_train_bal)\n",
        "\n",
        "print(\"Mejores hiperparámetros encontrados para MLP:\")\n",
        "print(mlp_grid.best_params_)\n",
        "\n",
        "# Evaluar el mejor modelo\n",
        "best_mlp = mlp_grid.best_estimator_\n",
        "y_pred_best = best_mlp.predict(X_test)\n",
        "\n",
        "print(\"Mejor MLP — Resultados en el conjunto de prueba\")\n",
        "print(confusion_matrix(y_test, y_pred_best))\n",
        "print(classification_report(y_test, y_pred_best, digits=4))\n"
      ]
    },
    {
      "cell_type": "markdown",
      "metadata": {
        "id": "A6SNLJjM4Dz1"
      },
      "source": [
        "**Evaluación del modelo**"
      ]
    },
    {
      "cell_type": "code",
      "execution_count": null,
      "metadata": {
        "colab": {
          "base_uri": "https://localhost:8080/",
          "height": 501
        },
        "id": "4yOFAqca4QPi",
        "outputId": "01f870ba-7363-4187-f6dd-49bedaadf68b"
      },
      "outputs": [
        {
          "data": {
            "image/png": "[encoded data removed]",
            "text/plain": [
              "<Figure size 800x500 with 1 Axes>"
            ]
          },
          "metadata": {},
          "output_type": "display_data"
        }
      ],
      "source": [
        "from sklearn.metrics import roc_auc_score, RocCurveDisplay\n",
        "\n",
        "# Probabilidades para curva ROC\n",
        "y_prob_nb = nb_model.predict_proba(X_test)[:, 1]\n",
        "y_prob_mlp = best_mlp.predict_proba(X_test)[:, 1]\n",
        "\n",
        "# Calcular curvas\n",
        "fpr_nb, tpr_nb, _ = roc_curve(y_test, y_prob_nb)\n",
        "fpr_mlp, tpr_mlp, _ = roc_curve(y_test, y_prob_mlp)\n",
        "\n",
        "# AUC\n",
        "auc_nb = auc(fpr_nb, tpr_nb)\n",
        "auc_mlp = auc(fpr_mlp, tpr_mlp)\n",
        "\n",
        "# Graficar\n",
        "plt.figure(figsize=(8, 5))\n",
        "plt.plot(fpr_nb, tpr_nb, label=f'Naive Bayes (AUC = {auc_nb:.4f})', linestyle='--', color='blue')\n",
        "plt.plot(fpr_mlp, tpr_mlp, label=f'MLP (AUC = {auc_mlp:.4f})', linestyle='-', color='green')\n",
        "plt.plot([0, 1], [0, 1], linestyle='--', color='gray')\n",
        "\n",
        "plt.title('Curvas ROC — Comparación de Modelos', fontsize=14)\n",
        "plt.xlabel('Falso Positivo (FPR)')\n",
        "plt.ylabel('Verdadero Positivo (TPR)')\n",
        "plt.legend()\n",
        "plt.grid(True)\n",
        "plt.tight_layout()\n",
        "plt.show()\n"
      ]
    }
  ],
  "metadata": {
    "colab": {
      "provenance": []
    },
    "kernelspec": {
      "display_name": "Python 3",
      "name": "python3"
    },
    "language_info": {
      "codemirror_mode": {
        "name": "ipython",
        "version": 3
      },
      "file_extension": ".py",
      "mimetype": "text/x-python",
      "name": "python",
      "nbconvert_exporter": "python",
      "pygments_lexer": "ipython3",
      "version": "3.11.11"
    }
  },
  "nbformat": 4,
  "nbformat_minor": 0
}
