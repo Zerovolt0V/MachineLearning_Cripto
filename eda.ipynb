{
 "cells": [
  {
   "cell_type": "markdown",
   "id": "096c2c24",
   "metadata": {},
   "source": [
    "# Analisis exploratorio del dataset"
   ]
  },
  {
   "cell_type": "code",
   "execution_count": 2,
   "id": "3740f860",
   "metadata": {},
   "outputs": [
    {
     "name": "stdout",
     "output_type": "stream",
     "text": [
      "Collecting pandas\n",
      "  Using cached pandas-2.2.3-cp311-cp311-manylinux_2_17_x86_64.manylinux2014_x86_64.whl.metadata (89 kB)\n",
      "Collecting matplotlib\n",
      "  Using cached matplotlib-3.10.1-cp311-cp311-manylinux_2_17_x86_64.manylinux2014_x86_64.whl.metadata (11 kB)\n",
      "Collecting seaborn\n",
      "  Using cached seaborn-0.13.2-py3-none-any.whl.metadata (5.4 kB)\n",
      "Collecting numpy>=1.23.2 (from pandas)\n",
      "  Downloading numpy-2.2.5-cp311-cp311-manylinux_2_17_x86_64.manylinux2014_x86_64.whl.metadata (62 kB)\n",
      "Requirement already satisfied: python-dateutil>=2.8.2 in ./.conda/lib/python3.11/site-packages (from pandas) (2.9.0.post0)\n",
      "Collecting pytz>=2020.1 (from pandas)\n",
      "  Using cached pytz-2025.2-py2.py3-none-any.whl.metadata (22 kB)\n",
      "Collecting tzdata>=2022.7 (from pandas)\n",
      "  Using cached tzdata-2025.2-py2.py3-none-any.whl.metadata (1.4 kB)\n",
      "Collecting contourpy>=1.0.1 (from matplotlib)\n",
      "  Downloading contourpy-1.3.2-cp311-cp311-manylinux_2_17_x86_64.manylinux2014_x86_64.whl.metadata (5.5 kB)\n",
      "Collecting cycler>=0.10 (from matplotlib)\n",
      "  Using cached cycler-0.12.1-py3-none-any.whl.metadata (3.8 kB)\n",
      "Collecting fonttools>=4.22.0 (from matplotlib)\n",
      "  Using cached fonttools-4.57.0-cp311-cp311-manylinux_2_17_x86_64.manylinux2014_x86_64.whl.metadata (102 kB)\n",
      "Collecting kiwisolver>=1.3.1 (from matplotlib)\n",
      "  Using cached kiwisolver-1.4.8-cp311-cp311-manylinux_2_17_x86_64.manylinux2014_x86_64.whl.metadata (6.2 kB)\n",
      "Requirement already satisfied: packaging>=20.0 in ./.conda/lib/python3.11/site-packages (from matplotlib) (25.0)\n",
      "Collecting pillow>=8 (from matplotlib)\n",
      "  Downloading pillow-11.2.1-cp311-cp311-manylinux_2_28_x86_64.whl.metadata (8.9 kB)\n",
      "Collecting pyparsing>=2.3.1 (from matplotlib)\n",
      "  Using cached pyparsing-3.2.3-py3-none-any.whl.metadata (5.0 kB)\n",
      "Requirement already satisfied: six>=1.5 in ./.conda/lib/python3.11/site-packages (from python-dateutil>=2.8.2->pandas) (1.17.0)\n",
      "Using cached pandas-2.2.3-cp311-cp311-manylinux_2_17_x86_64.manylinux2014_x86_64.whl (13.1 MB)\n",
      "Using cached matplotlib-3.10.1-cp311-cp311-manylinux_2_17_x86_64.manylinux2014_x86_64.whl (8.6 MB)\n",
      "Using cached seaborn-0.13.2-py3-none-any.whl (294 kB)\n",
      "Downloading contourpy-1.3.2-cp311-cp311-manylinux_2_17_x86_64.manylinux2014_x86_64.whl (326 kB)\n",
      "Using cached cycler-0.12.1-py3-none-any.whl (8.3 kB)\n",
      "Using cached fonttools-4.57.0-cp311-cp311-manylinux_2_17_x86_64.manylinux2014_x86_64.whl (4.9 MB)\n",
      "Using cached kiwisolver-1.4.8-cp311-cp311-manylinux_2_17_x86_64.manylinux2014_x86_64.whl (1.4 MB)\n",
      "Downloading numpy-2.2.5-cp311-cp311-manylinux_2_17_x86_64.manylinux2014_x86_64.whl (16.4 MB)\n",
      "\u001b[2K   \u001b[90m━━━━━━━━━━━━━━━━━━━━━━━━━━━━━━━━━━━━━━━━\u001b[0m \u001b[32m16.4/16.4 MB\u001b[0m \u001b[31m15.0 MB/s\u001b[0m eta \u001b[36m0:00:00\u001b[0ma \u001b[36m0:00:01\u001b[0m\n",
      "\u001b[?25hDownloading pillow-11.2.1-cp311-cp311-manylinux_2_28_x86_64.whl (4.6 MB)\n",
      "\u001b[2K   \u001b[90m━━━━━━━━━━━━━━━━━━━━━━━━━━━━━━━━━━━━━━━━\u001b[0m \u001b[32m4.6/4.6 MB\u001b[0m \u001b[31m18.5 MB/s\u001b[0m eta \u001b[36m0:00:00\u001b[0ma \u001b[36m0:00:01\u001b[0m\n",
      "\u001b[?25hUsing cached pyparsing-3.2.3-py3-none-any.whl (111 kB)\n",
      "Using cached pytz-2025.2-py2.py3-none-any.whl (509 kB)\n",
      "Using cached tzdata-2025.2-py2.py3-none-any.whl (347 kB)\n",
      "Installing collected packages: pytz, tzdata, pyparsing, pillow, numpy, kiwisolver, fonttools, cycler, pandas, contourpy, matplotlib, seaborn\n",
      "\u001b[2K   \u001b[90m━━━━━━━━━━━━━━━━━━━━━━━━━━━━━━━━━━━━━━━━\u001b[0m \u001b[32m12/12\u001b[0m [seaborn]1/12\u001b[0m [seaborn]ib]\n",
      "\u001b[1A\u001b[2KSuccessfully installed contourpy-1.3.2 cycler-0.12.1 fonttools-4.57.0 kiwisolver-1.4.8 matplotlib-3.10.1 numpy-2.2.5 pandas-2.2.3 pillow-11.2.1 pyparsing-3.2.3 pytz-2025.2 seaborn-0.13.2 tzdata-2025.2\n"
     ]
    }
   ],
   "source": [
    "!pip install pandas matplotlib seaborn"
   ]
  },
  {
   "cell_type": "code",
   "execution_count": 3,
   "id": "1e6bb61b",
   "metadata": {},
   "outputs": [],
   "source": [
    "import pandas as pd\n",
    "import numpy as np\n",
    "\n",
    "import matplotlib.pyplot as plt\n",
    "import seaborn as sns"
   ]
  },
  {
   "cell_type": "code",
   "execution_count": 7,
   "id": "869e78e3",
   "metadata": {},
   "outputs": [
    {
     "data": {
      "text/plain": [
       "(1000, 11)"
      ]
     },
     "execution_count": 7,
     "metadata": {},
     "output_type": "execute_result"
    }
   ],
   "source": [
    "df = pd.read_csv('./data/category_cryptos_small.csv')\n",
    "df.shape"
   ]
  },
  {
   "cell_type": "code",
   "execution_count": 6,
   "id": "8bbe4a8c",
   "metadata": {},
   "outputs": [
    {
     "data": {
      "text/html": [
       "<div>\n",
       "<style scoped>\n",
       "    .dataframe tbody tr th:only-of-type {\n",
       "        vertical-align: middle;\n",
       "    }\n",
       "\n",
       "    .dataframe tbody tr th {\n",
       "        vertical-align: top;\n",
       "    }\n",
       "\n",
       "    .dataframe thead th {\n",
       "        text-align: right;\n",
       "    }\n",
       "</style>\n",
       "<table border=\"1\" class=\"dataframe\">\n",
       "  <thead>\n",
       "    <tr style=\"text-align: right;\">\n",
       "      <th></th>\n",
       "      <th>id</th>\n",
       "      <th>symbol</th>\n",
       "      <th>name</th>\n",
       "      <th>current_price</th>\n",
       "      <th>market_cap</th>\n",
       "      <th>market_cap_rank</th>\n",
       "      <th>total_volume</th>\n",
       "      <th>circulating_supply</th>\n",
       "      <th>total_supply</th>\n",
       "      <th>max_supply</th>\n",
       "      <th>categoria</th>\n",
       "    </tr>\n",
       "  </thead>\n",
       "  <tbody>\n",
       "    <tr>\n",
       "      <th>0</th>\n",
       "      <td>bittensor</td>\n",
       "      <td>tao</td>\n",
       "      <td>Bittensor</td>\n",
       "      <td>347.690000</td>\n",
       "      <td>3.025418e+09</td>\n",
       "      <td>42.0</td>\n",
       "      <td>68796044.0</td>\n",
       "      <td>8.700789e+06</td>\n",
       "      <td>2.100000e+07</td>\n",
       "      <td>2.100000e+07</td>\n",
       "      <td>AI</td>\n",
       "    </tr>\n",
       "    <tr>\n",
       "      <th>1</th>\n",
       "      <td>near</td>\n",
       "      <td>near</td>\n",
       "      <td>NEAR Protocol</td>\n",
       "      <td>2.330000</td>\n",
       "      <td>2.815063e+09</td>\n",
       "      <td>44.0</td>\n",
       "      <td>113775800.0</td>\n",
       "      <td>1.210004e+09</td>\n",
       "      <td>1.248424e+09</td>\n",
       "      <td>NaN</td>\n",
       "      <td>AI</td>\n",
       "    </tr>\n",
       "    <tr>\n",
       "      <th>2</th>\n",
       "      <td>internet-computer</td>\n",
       "      <td>icp</td>\n",
       "      <td>Internet Computer</td>\n",
       "      <td>4.620000</td>\n",
       "      <td>2.462019e+09</td>\n",
       "      <td>49.0</td>\n",
       "      <td>39404172.0</td>\n",
       "      <td>5.327720e+08</td>\n",
       "      <td>5.327720e+08</td>\n",
       "      <td>NaN</td>\n",
       "      <td>AI</td>\n",
       "    </tr>\n",
       "    <tr>\n",
       "      <th>3</th>\n",
       "      <td>render-token</td>\n",
       "      <td>render</td>\n",
       "      <td>Render</td>\n",
       "      <td>4.280000</td>\n",
       "      <td>2.218585e+09</td>\n",
       "      <td>54.0</td>\n",
       "      <td>172169462.0</td>\n",
       "      <td>5.177166e+08</td>\n",
       "      <td>5.324768e+08</td>\n",
       "      <td>NaN</td>\n",
       "      <td>AI</td>\n",
       "    </tr>\n",
       "    <tr>\n",
       "      <th>4</th>\n",
       "      <td>fetch-ai</td>\n",
       "      <td>fet</td>\n",
       "      <td>Artificial Superintelligence Alliance</td>\n",
       "      <td>0.661442</td>\n",
       "      <td>1.723176e+09</td>\n",
       "      <td>65.0</td>\n",
       "      <td>93431713.0</td>\n",
       "      <td>2.604959e+09</td>\n",
       "      <td>2.714494e+09</td>\n",
       "      <td>2.714494e+09</td>\n",
       "      <td>AI</td>\n",
       "    </tr>\n",
       "  </tbody>\n",
       "</table>\n",
       "</div>"
      ],
      "text/plain": [
       "                  id  symbol                                   name  \\\n",
       "0          bittensor     tao                              Bittensor   \n",
       "1               near    near                          NEAR Protocol   \n",
       "2  internet-computer     icp                      Internet Computer   \n",
       "3       render-token  render                                 Render   \n",
       "4           fetch-ai     fet  Artificial Superintelligence Alliance   \n",
       "\n",
       "   current_price    market_cap  market_cap_rank  total_volume  \\\n",
       "0     347.690000  3.025418e+09             42.0    68796044.0   \n",
       "1       2.330000  2.815063e+09             44.0   113775800.0   \n",
       "2       4.620000  2.462019e+09             49.0    39404172.0   \n",
       "3       4.280000  2.218585e+09             54.0   172169462.0   \n",
       "4       0.661442  1.723176e+09             65.0    93431713.0   \n",
       "\n",
       "   circulating_supply  total_supply    max_supply categoria  \n",
       "0        8.700789e+06  2.100000e+07  2.100000e+07        AI  \n",
       "1        1.210004e+09  1.248424e+09           NaN        AI  \n",
       "2        5.327720e+08  5.327720e+08           NaN        AI  \n",
       "3        5.177166e+08  5.324768e+08           NaN        AI  \n",
       "4        2.604959e+09  2.714494e+09  2.714494e+09        AI  "
      ]
     },
     "execution_count": 6,
     "metadata": {},
     "output_type": "execute_result"
    }
   ],
   "source": [
    "df.head()"
   ]
  },
  {
   "cell_type": "code",
   "execution_count": 9,
   "id": "14fafe9a",
   "metadata": {},
   "outputs": [
    {
     "name": "stdout",
     "output_type": "stream",
     "text": [
      "<class 'pandas.core.frame.DataFrame'>\n",
      "RangeIndex: 1000 entries, 0 to 999\n",
      "Data columns (total 11 columns):\n",
      " #   Column              Non-Null Count  Dtype  \n",
      "---  ------              --------------  -----  \n",
      " 0   id                  1000 non-null   object \n",
      " 1   symbol              1000 non-null   object \n",
      " 2   name                1000 non-null   object \n",
      " 3   current_price       1000 non-null   float64\n",
      " 4   market_cap          1000 non-null   float64\n",
      " 5   market_cap_rank     934 non-null    float64\n",
      " 6   total_volume        1000 non-null   float64\n",
      " 7   circulating_supply  1000 non-null   float64\n",
      " 8   total_supply        989 non-null    float64\n",
      " 9   max_supply          847 non-null    float64\n",
      " 10  categoria           1000 non-null   object \n",
      "dtypes: float64(7), object(4)\n",
      "memory usage: 86.1+ KB\n"
     ]
    }
   ],
   "source": [
    "df.info()"
   ]
  },
  {
   "cell_type": "code",
   "execution_count": 14,
   "id": "fd691bbe",
   "metadata": {},
   "outputs": [
    {
     "name": "stdout",
     "output_type": "stream",
     "text": [
      "Numeric columns: 7\n",
      "Categorical columns: 4\n"
     ]
    },
    {
     "data": {
      "text/plain": [
       "(['current_price',\n",
       "  'market_cap',\n",
       "  'market_cap_rank',\n",
       "  'total_volume',\n",
       "  'circulating_supply',\n",
       "  'total_supply',\n",
       "  'max_supply'],\n",
       " ['id', 'symbol', 'name', 'categoria'])"
      ]
     },
     "execution_count": 14,
     "metadata": {},
     "output_type": "execute_result"
    }
   ],
   "source": [
    "numeric_columns = df.select_dtypes(include=[np.number]).columns.tolist()\n",
    "categorical_columns = df.select_dtypes(exclude=[np.number]).columns.tolist()\n",
    "\n",
    "print(\"Numeric columns:\", numeric_columns.__len__())\n",
    "print(\"Categorical columns:\", categorical_columns.__len__())\n",
    "numeric_columns, categorical_columns\n"
   ]
  },
  {
   "cell_type": "code",
   "execution_count": 22,
   "id": "f5384752",
   "metadata": {},
   "outputs": [
    {
     "data": {
      "text/plain": [
       "id                      0\n",
       "symbol                  0\n",
       "name                    0\n",
       "current_price           0\n",
       "market_cap              0\n",
       "market_cap_rank        66\n",
       "total_volume            0\n",
       "circulating_supply      0\n",
       "total_supply           11\n",
       "max_supply            153\n",
       "categoria               0\n",
       "dtype: int64"
      ]
     },
     "execution_count": 22,
     "metadata": {},
     "output_type": "execute_result"
    }
   ],
   "source": [
    "df.isnull().sum()"
   ]
  },
  {
   "cell_type": "code",
   "execution_count": 26,
   "id": "a0a823d5",
   "metadata": {},
   "outputs": [
    {
     "data": {
      "text/plain": [
       "max_supply            15.3\n",
       "market_cap_rank        6.6\n",
       "total_supply           1.1\n",
       "name                   0.0\n",
       "symbol                 0.0\n",
       "id                     0.0\n",
       "current_price          0.0\n",
       "total_volume           0.0\n",
       "market_cap             0.0\n",
       "circulating_supply     0.0\n",
       "dtype: float64"
      ]
     },
     "execution_count": 26,
     "metadata": {},
     "output_type": "execute_result"
    }
   ],
   "source": [
    "(df.isnull().mean() * 100).round(2).sort_values(ascending=False).head(10)"
   ]
  },
  {
   "cell_type": "code",
   "execution_count": 29,
   "id": "8afbc1b9",
   "metadata": {},
   "outputs": [
    {
     "data": {
      "image/png": "[encoded data removed]",
      "text/plain": [
       "<Figure size 1200x600 with 1 Axes>"
      ]
     },
     "metadata": {},
     "output_type": "display_data"
    }
   ],
   "source": [
    "plt.figure(figsize=(12, 6))\n",
    "sns.heatmap(df.isnull(), cbar=False, cmap='viridis')\n",
    "plt.title('Missing values in the dataset')\n",
    "plt.show()"
   ]
  },
  {
   "cell_type": "markdown",
   "id": "af06dcac",
   "metadata": {},
   "source": [
    "Observamos 3 columnas numericas con valores nulos. Aparentes patrones en `market_cap_rank` y `total_supply`"
   ]
  },
  {
   "cell_type": "code",
   "execution_count": 27,
   "id": "f45c223b",
   "metadata": {},
   "outputs": [
    {
     "data": {
      "text/html": [
       "<div>\n",
       "<style scoped>\n",
       "    .dataframe tbody tr th:only-of-type {\n",
       "        vertical-align: middle;\n",
       "    }\n",
       "\n",
       "    .dataframe tbody tr th {\n",
       "        vertical-align: top;\n",
       "    }\n",
       "\n",
       "    .dataframe thead th {\n",
       "        text-align: right;\n",
       "    }\n",
       "</style>\n",
       "<table border=\"1\" class=\"dataframe\">\n",
       "  <thead>\n",
       "    <tr style=\"text-align: right;\">\n",
       "      <th></th>\n",
       "      <th>current_price</th>\n",
       "      <th>market_cap</th>\n",
       "      <th>market_cap_rank</th>\n",
       "      <th>total_volume</th>\n",
       "      <th>circulating_supply</th>\n",
       "      <th>total_supply</th>\n",
       "      <th>max_supply</th>\n",
       "    </tr>\n",
       "  </thead>\n",
       "  <tbody>\n",
       "    <tr>\n",
       "      <th>count</th>\n",
       "      <td>1.000000e+03</td>\n",
       "      <td>1.000000e+03</td>\n",
       "      <td>934.000000</td>\n",
       "      <td>1.000000e+03</td>\n",
       "      <td>1.000000e+03</td>\n",
       "      <td>9.890000e+02</td>\n",
       "      <td>8.470000e+02</td>\n",
       "    </tr>\n",
       "    <tr>\n",
       "      <th>mean</th>\n",
       "      <td>1.643993e+04</td>\n",
       "      <td>1.284718e+08</td>\n",
       "      <td>1593.145610</td>\n",
       "      <td>7.846174e+06</td>\n",
       "      <td>6.755017e+14</td>\n",
       "      <td>1.255784e+15</td>\n",
       "      <td>1.496098e+15</td>\n",
       "    </tr>\n",
       "    <tr>\n",
       "      <th>std</th>\n",
       "      <td>5.183448e+05</td>\n",
       "      <td>9.713825e+08</td>\n",
       "      <td>1274.675494</td>\n",
       "      <td>3.710722e+07</td>\n",
       "      <td>1.006440e+16</td>\n",
       "      <td>2.026963e+16</td>\n",
       "      <td>2.214866e+16</td>\n",
       "    </tr>\n",
       "    <tr>\n",
       "      <th>min</th>\n",
       "      <td>8.300900e-11</td>\n",
       "      <td>0.000000e+00</td>\n",
       "      <td>8.000000</td>\n",
       "      <td>0.000000e+00</td>\n",
       "      <td>0.000000e+00</td>\n",
       "      <td>0.000000e+00</td>\n",
       "      <td>1.000000e+00</td>\n",
       "    </tr>\n",
       "    <tr>\n",
       "      <th>25%</th>\n",
       "      <td>3.646735e-03</td>\n",
       "      <td>3.289863e+06</td>\n",
       "      <td>753.250000</td>\n",
       "      <td>3.909475e+04</td>\n",
       "      <td>8.650358e+07</td>\n",
       "      <td>1.800000e+08</td>\n",
       "      <td>5.000000e+08</td>\n",
       "    </tr>\n",
       "    <tr>\n",
       "      <th>50%</th>\n",
       "      <td>2.200277e-02</td>\n",
       "      <td>1.057735e+07</td>\n",
       "      <td>1394.000000</td>\n",
       "      <td>2.693090e+05</td>\n",
       "      <td>6.626902e+08</td>\n",
       "      <td>9.999922e+08</td>\n",
       "      <td>1.000000e+09</td>\n",
       "    </tr>\n",
       "    <tr>\n",
       "      <th>75%</th>\n",
       "      <td>1.772772e-01</td>\n",
       "      <td>3.756500e+07</td>\n",
       "      <td>2039.500000</td>\n",
       "      <td>2.737444e+06</td>\n",
       "      <td>1.763549e+09</td>\n",
       "      <td>4.925702e+09</td>\n",
       "      <td>8.000004e+09</td>\n",
       "    </tr>\n",
       "    <tr>\n",
       "      <th>max</th>\n",
       "      <td>1.639154e+07</td>\n",
       "      <td>2.569485e+10</td>\n",
       "      <td>9702.000000</td>\n",
       "      <td>7.097104e+08</td>\n",
       "      <td>1.879982e+17</td>\n",
       "      <td>4.200000e+17</td>\n",
       "      <td>4.200000e+17</td>\n",
       "    </tr>\n",
       "  </tbody>\n",
       "</table>\n",
       "</div>"
      ],
      "text/plain": [
       "       current_price    market_cap  market_cap_rank  total_volume  \\\n",
       "count   1.000000e+03  1.000000e+03       934.000000  1.000000e+03   \n",
       "mean    1.643993e+04  1.284718e+08      1593.145610  7.846174e+06   \n",
       "std     5.183448e+05  9.713825e+08      1274.675494  3.710722e+07   \n",
       "min     8.300900e-11  0.000000e+00         8.000000  0.000000e+00   \n",
       "25%     3.646735e-03  3.289863e+06       753.250000  3.909475e+04   \n",
       "50%     2.200277e-02  1.057735e+07      1394.000000  2.693090e+05   \n",
       "75%     1.772772e-01  3.756500e+07      2039.500000  2.737444e+06   \n",
       "max     1.639154e+07  2.569485e+10      9702.000000  7.097104e+08   \n",
       "\n",
       "       circulating_supply  total_supply    max_supply  \n",
       "count        1.000000e+03  9.890000e+02  8.470000e+02  \n",
       "mean         6.755017e+14  1.255784e+15  1.496098e+15  \n",
       "std          1.006440e+16  2.026963e+16  2.214866e+16  \n",
       "min          0.000000e+00  0.000000e+00  1.000000e+00  \n",
       "25%          8.650358e+07  1.800000e+08  5.000000e+08  \n",
       "50%          6.626902e+08  9.999922e+08  1.000000e+09  \n",
       "75%          1.763549e+09  4.925702e+09  8.000004e+09  \n",
       "max          1.879982e+17  4.200000e+17  4.200000e+17  "
      ]
     },
     "execution_count": 27,
     "metadata": {},
     "output_type": "execute_result"
    }
   ],
   "source": [
    "df.describe()"
   ]
  },
  {
   "cell_type": "markdown",
   "id": "2fab6414",
   "metadata": {},
   "source": [
    "Observamos posibles valores nulos, en `market_cap`, `total_volume`, `circulating_supply` y `total_supply`"
   ]
  },
  {
   "cell_type": "code",
   "execution_count": 36,
   "id": "3ccbbe95",
   "metadata": {},
   "outputs": [
    {
     "data": {
      "image/png": "[encoded data removed]",
      "text/plain": [
       "<Figure size 1200x600 with 1 Axes>"
      ]
     },
     "metadata": {},
     "output_type": "display_data"
    }
   ],
   "source": [
    "hipo_nulls = ['market_cap', 'total_volume', 'circulating_supply', 'total_supply']\n",
    "\n",
    "# Crear un DataFrame booleano donde los valores son 0\n",
    "# si el valor es 0 y 1 si no lo es\n",
    "df_zeros = df[hipo_nulls] == 0\n",
    "# Crear un mapa de calor de ceros\n",
    "plt.figure(figsize=(12, 6))\n",
    "sns.heatmap(df_zeros, cbar=False, cmap='viridis')\n",
    "plt.title('Zeros in the dataset')\n",
    "plt.show()\n"
   ]
  },
  {
   "cell_type": "markdown",
   "id": "a2fe461d",
   "metadata": {},
   "source": [
    "Al cumplir con el mismo patron que los datos nulos, la incosistencia de un 0 como medida, y su predominancia entre los registros 930 - 1000. \n",
    "Validamos la hipotesis de una perdida de datos tipo parche en estas categorias, donde trataremos estos 0s como valores nulos "
   ]
  },
  {
   "cell_type": "markdown",
   "id": "4d6dd5b8",
   "metadata": {},
   "source": [
    "## Iteracion 1\n",
    "\n",
    "Dada la perdida de informacion tipo parche en los ultimos registros. Se requiere extender el dataset antes de continuar para abordar la signficacia estadistica de la aparicion de valores nulos"
   ]
  },
  {
   "cell_type": "markdown",
   "id": "e214c982",
   "metadata": {},
   "source": []
  }
 ],
 "metadata": {
  "kernelspec": {
   "display_name": "Python 3",
   "language": "python",
   "name": "python3"
  },
  "language_info": {
   "codemirror_mode": {
    "name": "ipython",
    "version": 3
   },
   "file_extension": ".py",
   "mimetype": "text/x-python",
   "name": "python",
   "nbconvert_exporter": "python",
   "pygments_lexer": "ipython3",
   "version": "3.11.11"
  }
 },
 "nbformat": 4,
 "nbformat_minor": 5
}
